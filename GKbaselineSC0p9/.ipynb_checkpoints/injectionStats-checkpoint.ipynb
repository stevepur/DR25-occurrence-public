{
 "cells": [
  {
   "cell_type": "code",
   "execution_count": 1,
   "metadata": {},
   "outputs": [],
   "source": [
    "import numpy as np\n",
    "import matplotlib.pyplot as plt\n",
    "import scipy.special as spec\n",
    "import pandas as pd\n",
    "from astropy.io import ascii\n",
    "import scipy.stats as stats\n",
    "from ipywidgets import FloatProgress\n",
    "from IPython.display import display\n",
    "\n",
    "import sys\n",
    "sys.path.insert(0, '..')\n",
    "import dr25Models as funcModels"
   ]
  },
  {
   "cell_type": "code",
   "execution_count": 41,
   "metadata": {},
   "outputs": [],
   "source": [
    "def drawHeatMap(dataArray, imageSize, x, y, nData=[], colorBarLabel=\"\", textOn=True, forceInt=True):\n",
    "    dx = x[(1,0)] - x[(0,0)];\n",
    "    dy = y[(0,1)] - y[(0,0)];\n",
    "    extent = [x[(0,0)], x[(-1,0)]+dx,y[(0,0)],y[(0,-1)]+dy];\n",
    "    plt.figure(figsize=imageSize);\n",
    "    # fig, ax = plt.subplots(figsize=imageSize);\n",
    "    ax = plt.gca()\n",
    "\n",
    "    da = np.transpose(dataArray);\n",
    "    im = ax.imshow(da, extent = extent, origin='lower');\n",
    "#    im = ax.imshow(da, extent = extent, origin='lower', cmap=\"Greys\");\n",
    "    ax.set_aspect(10);\n",
    "    \n",
    "    if len(nData) == 0:\n",
    "        nData = np.ones(dataArray.shape)\n",
    "\n",
    "    # ax.imshow(da, origin='lower');\n",
    "    arrayShape = da.shape;\n",
    "    minda = np.min(da)\n",
    "    maxda = np.max(da)\n",
    "    daRange = maxda - minda;\n",
    "    for i in range(arrayShape[0]):\n",
    "        for j in range(arrayShape[1]):\n",
    "            if da[i, j] > minda + daRange*0.5:\n",
    "                cstr = \"k\"\n",
    "                # cstr = \"w\"\n",
    "            else:\n",
    "                cstr = \"w\"\n",
    "                # cstr = \"k\"\n",
    "            if np.abs(da[i,j]) < 100:\n",
    "                fsz = 9\n",
    "            else:\n",
    "                fsz = 6\n",
    "            \n",
    "            if textOn:\n",
    "                if nData[(j,i)] > 0:\n",
    "                    if forceInt:\n",
    "                        ax.text(x[(j,i)]+dx/2, y[(j,i)]+dy/2, da[i, j].astype(\"int\"),\n",
    "                               ha=\"center\", va=\"center\", color=cstr, fontsize=fsz)\n",
    "                    else:\n",
    "                        ax.text(x[(j,i)]+dx/2, y[(j,i)]+dy/2, da[i, j],\n",
    "                               ha=\"center\", va=\"center\", color=cstr, fontsize=fsz)                        \n",
    "                else:\n",
    "                    ax.text(x[(j,i)]+dx/2, y[(j,i)]+dy/2, \"-\",\n",
    "                           ha=\"center\", va=\"center\", color=cstr, fontsize=fsz)\n",
    "\n",
    "            \n",
    "    \n",
    "    im_ratio = float(da.shape[0])/da.shape[1] \n",
    "    cbh = plt.colorbar(im,fraction=0.0477*im_ratio, pad=0.02)\n",
    "    cbh.ax.set_ylabel(colorBarLabel, fontSize = 24);\n",
    "\n",
    "    # ax.invert_yaxis();\n",
    "    \n"
   ]
  },
  {
   "cell_type": "code",
   "execution_count": null,
   "metadata": {},
   "outputs": [],
   "source": []
  },
  {
   "cell_type": "markdown",
   "metadata": {},
   "source": [
    "In this notebook we measure DR25 vetting completeness, defined as the fraction of detections (TCEs) that are correctly vetted as planet candidates.  We use the set of injected on-target planets that were detected at the correct ephemeris as the base set of TCEs.  All of these TCEs are \"true planets\" by definition.  Then vetting completeness is the fraction of these TCEs that are vetter as PC by the robovetter.  We study how vetting completeness depends on period and MES.\n",
    "\n",
    "We think of TCEs as consisting of two sets: those that are dispositioned as FP and those that are dispositioned as PC.  Then we can think of the vetting process as drawing from the set of TCEs, with a probability $r$ of selecting PCs. We identify $r$ with vetting completeness.  Then the probability distribution of selecting $c$ FPs from $n$ TCEs is given by the binomial distribution\n",
    "\n",
    "$$P\\{c\\} = \\left( \\begin{array}{c} n \\\\ c \\end{array} \\right) r^c (1-r)^{n-c}.$$\n",
    "\n",
    "In this spirit, we define the vetting effectiveness $r$ as the probability of drawing PCs from inverted/scrambled TCEs, found via the Bayesian inference $p(r|n, c) \\propto p(c|r, n) p(r)$, where $c$ is the number of TCEs vetted as PCs, $n$ is the total number of TCEs,\n",
    "$$p(c|r, n) = \\left( \\begin{array}{c} n \\\\ c \\end{array} \\right) r^c (1-r)^{n-c}$$ and\n",
    "$p(r)$ is a prior distribution of the probability $r$.  By putting the data on a grid indexed by $i,j$, we can fit effectiveness as a function parameterized by a vector $\\theta$, $r(\\theta,\\mathrm{period},\\mathrm{MES})$, as $p(\\theta)|n_{i,j}, c_{i,j}, \\mathrm{period}_{i,j},\\mathrm{MES}_{i,j}) \\propto p(c_{i,j}|\\theta, n_{i,j}, \\mathrm{period}_{i,j},\\mathrm{MES}_{i,j}) p(\\theta)$, where $p(\\theta)$ is some prior distribution of the parameters.\n"
   ]
  },
  {
   "cell_type": "markdown",
   "metadata": {},
   "source": [
    "First we define our stellar and planet populations."
   ]
  },
  {
   "cell_type": "code",
   "execution_count": 3,
   "metadata": {},
   "outputs": [],
   "source": [
    "stellarType = \"GK\"\n",
    "\n",
    "scoreCut = 0.0;\n",
    "\n",
    "scenario = \"large\"\n",
    "if scenario == \"small\":\n",
    "    # small planet long period scenario\n",
    "    periodMin = 200;\n",
    "    periodMax = 400;\n",
    "    rpMin = 0.75;\n",
    "    rpMax = 2.5;\n",
    "    mesMin = 0;\n",
    "    mesMax = 30;\n",
    "elif scenario == \"large\":\n",
    "    # all planet scenario\n",
    "    periodMin = 0;\n",
    "    periodMax = 600;\n",
    "    rpMin = 0.5;\n",
    "    rpMax = 15;\n",
    "    mesMin = 0;\n",
    "    mesMax = 30;\n",
    "else:\n",
    "    raise ValueError('Bad scenario name');\n"
   ]
  },
  {
   "cell_type": "markdown",
   "metadata": {},
   "source": [
    "Then we define our binomial probability distribution function."
   ]
  },
  {
   "cell_type": "code",
   "execution_count": 4,
   "metadata": {},
   "outputs": [],
   "source": [
    "def binPdf(n, r, c):\n",
    "    return sp.comb(n,c)*(r**c)*((1-r)**(n-c));"
   ]
  },
  {
   "cell_type": "markdown",
   "metadata": {},
   "source": [
    "Then we define a bunch of models of the rate as functions of period ($x$) and MES ($y$) which are identified by the variable 'model'."
   ]
  },
  {
   "cell_type": "code",
   "execution_count": null,
   "metadata": {},
   "outputs": [],
   "source": []
  },
  {
   "cell_type": "markdown",
   "metadata": {},
   "source": [
    "Read in our data."
   ]
  },
  {
   "cell_type": "code",
   "execution_count": 5,
   "metadata": {},
   "outputs": [],
   "source": [
    "dataLoc = \"../data/\"\n",
    "injTceList = dataLoc + \"kplr_dr25_inj1_tces.txt\"\n",
    "tcelist = dataLoc + \"DR25-Injected-Recovered-OnTarget-Planet-TCEs-1-1-Prat.txt\"\n",
    "# starlist = dataLoc + \"dr25_stellar_updated_feh_\" + stellarType + \".txt\"\n",
    "starlist = \"../stellarCatalogs/dr25_stellar_supp_gaia_clean_\" + stellarType + \".txt\""
   ]
  },
  {
   "cell_type": "code",
   "execution_count": 6,
   "metadata": {},
   "outputs": [
    {
     "name": "stdout",
     "output_type": "stream",
     "text": [
      "[  757280.   891916.   892195. ... 12984183. 12984200. 12984214.]\n",
      "num injected/recovered TCEs: 46463\n",
      "num injected TCEs: 45377\n"
     ]
    }
   ],
   "source": [
    "# Load the stellar population we want to use\n",
    "kic = pd.read_csv(starlist)\n",
    "# Load D2 table\n",
    "injTces = ascii.read(injTceList)\n",
    "tces = np.genfromtxt(tcelist, dtype='str')\n",
    "\n",
    "tceKepids = np.zeros(len(tces));\n",
    "for i in range(len(tces)):\n",
    "    s = tces[i].split('-');\n",
    "    tceKepids[i] = int(s[0]);\n",
    "print(tceKepids)\n",
    "\n",
    "print(\"num injected/recovered TCEs: \" + str(np.size(tceKepids)))\n",
    "print(\"num injected TCEs: \" + str(np.size(injTces)))\n",
    "\n"
   ]
  },
  {
   "cell_type": "code",
   "execution_count": null,
   "metadata": {},
   "outputs": [],
   "source": []
  },
  {
   "cell_type": "code",
   "execution_count": 7,
   "metadata": {},
   "outputs": [
    {
     "name": "stdout",
     "output_type": "stream",
     "text": [
      "after: 17234\n"
     ]
    }
   ],
   "source": [
    "# Select only those TCEs that are in this stellar population\n",
    "injTces = injTces[np.in1d(injTces['KIC'],kic.kepid)]\n",
    "print(\"after: \" + str(np.size(injTces)))\n"
   ]
  },
  {
   "cell_type": "code",
   "execution_count": 8,
   "metadata": {},
   "outputs": [
    {
     "name": "stdout",
     "output_type": "stream",
     "text": [
      "../data/kplr_dr25_inj1_tces.txt\n",
      "# of injected TCEs: 17234\n",
      "# of injected PCs: 15121\n",
      "# of injected FPs: 2113\n",
      " \n",
      "for 15 < Rp < 15, 0 < period < 600:\n",
      "# of injected injected TCEs: 17205\n",
      "# of injected PCs: 15104\n",
      "# of injected FPs: 2101\n"
     ]
    }
   ],
   "source": [
    "# Do some basic stats\n",
    "print(injTceList)\n",
    "print(\"# of injected TCEs: \" + str(len(injTces)))\n",
    "print(\"# of injected PCs: \" + str(len(injTces[injTces['Disp']=='PC'])))\n",
    "print(\"# of injected FPs: \" + str(len(injTces[injTces['Disp']=='FP'])))\n",
    "print(' ')\n",
    "\n",
    "print(\"for \" + str(rpMax) + \" < Rp < \" + str(rpMax) + \", \" + str(periodMin) + \" < period < \" + str(periodMax) + \":\");\n",
    "print(\"# of injected injected TCEs: \" + str(len(injTces[np.all([                   \\\n",
    "    injTces['Rp']>rpMin,injTces['Rp']<rpMax,injTces['period']>periodMin,injTces['period']<periodMax], axis=0)])))\n",
    "print(\"# of injected PCs: \" + str(len(injTces[np.all([injTces['Disp']=='PC',\\\n",
    "    injTces['Rp']>rpMin,injTces['Rp']<rpMax,injTces['period']>periodMin,injTces['period']<periodMax], axis=0)])))\n",
    "print(\"# of injected FPs: \" + str(len(injTces[np.all([injTces['Disp']=='FP',\\\n",
    "    injTces['Rp']>rpMin,injTces['Rp']<rpMax,injTces['period']>periodMin,injTces['period']<periodMax], axis=0)])))\n"
   ]
  },
  {
   "cell_type": "markdown",
   "metadata": {},
   "source": [
    "Separate out the PCs and FPs"
   ]
  },
  {
   "cell_type": "code",
   "execution_count": 9,
   "metadata": {},
   "outputs": [],
   "source": [
    "pcIndex = np.where(injTces[injTces['Disp']=='PC'])\n",
    "fpIndex = np.where(injTces[injTces['Disp']=='FP'])\n",
    "pcs = injTces[pcIndex]\n",
    "fps = injTces[fpIndex]"
   ]
  },
  {
   "cell_type": "markdown",
   "metadata": {},
   "source": [
    "Select the TCEs that are in our desired population and plot them."
   ]
  },
  {
   "cell_type": "code",
   "execution_count": null,
   "metadata": {},
   "outputs": [],
   "source": [
    "injectionNotNtl = injTces[(injTces['NTL']==0) & (injTces['Score']>=scoreCut)]\n",
    "injectionNtl = injTces[(injTces['NTL']==1) | (injTces['Score']<scoreCut)]\n",
    "injectionSS = injTces[(injTces['SS']==1) | (injTces['Score']<scoreCut)]\n",
    "injectionCO = injTces[(injTces['CO']==1) | (injTces['Score']<scoreCut)]\n",
    "injectionEM = injTces[(injTces['EM']==1) | (injTces['Score']<scoreCut)]\n",
    "injectionPcs = injTces[(injTces['Disp']=='PC') & (injTces['Score']>=scoreCut)]\n",
    "injectionFps = injTces[(injTces['Disp']=='FP') | (injTces['Score']<scoreCut)]\n",
    "\n",
    "injectionNtlOnly = injTces[(injTces['NTL']==1)\n",
    "                                        & (injTces['SS']==0)\n",
    "                                        & (injTces['CO']==0)                    \n",
    "                                        & (injTces['EM']==0)]\n",
    "injectionSsOnly = injTces[(injTces['NTL']==0)\n",
    "                                        & (injTces['SS']==1)\n",
    "                                        & (injTces['CO']==0)                    \n",
    "                                        & (injTces['EM']==0)]\n",
    "injectionCoOnly = injTces[(injTces['NTL']==0)\n",
    "                                        & (injTces['SS']==0)\n",
    "                                        & (injTces['CO']==1)                    \n",
    "                                        & (injTces['EM']==0)]\n",
    "injectionEmOnly = injTces[(injTces['NTL']==0)\n",
    "                                        & (injTces['SS']==0)\n",
    "                                        & (injTces['CO']==0)                    \n",
    "                                        & (injTces['EM']==1)]\n",
    "\n",
    "# injectionPcs = injTces[(injTces['Disp']=='PC') & (injTces['Score']>=scoreCut)]\n",
    "# injectionFps = injTces[(injTces['Disp']=='FP') | (injTces['Score']<scoreCut)]\n",
    "\n",
    "print(\"length of injectionNotNtl = \" + str(len(injectionNotNtl)))\n",
    "print(\"length of injectionNtl = \" + str(len(injectionNtl)))\n",
    "print(\"length of injectionSS = \" + str(len(injectionSS)))\n",
    "print(\"length of injectionCO = \" + str(len(injectionCO)))\n",
    "print(\"length of injectionEM = \" + str(len(injectionEM)))\n",
    "print(\"length of injectionPcs = \" + str(len(injectionPcs)))\n",
    "print(\"length of injectionFps = \" + str(len(injectionFps)))\n",
    "print(\"length of injectionNtlOnly = \" + str(len(injectionNtlOnly)))\n",
    "print(\"length of injectionSsOnly = \" + str(len(injectionSsOnly)))\n",
    "print(\"length of injectionCoOnly = \" + str(len(injectionCoOnly)))\n",
    "print(\"length of injectionEmOnly = \" + str(len(injectionEmOnly)))\n",
    "\n"
   ]
  }
 ],
 "metadata": {
  "kernelspec": {
   "display_name": "Python 2",
   "language": "python",
   "name": "python2"
  },
  "language_info": {
   "codemirror_mode": {
    "name": "ipython",
    "version": 2
   },
   "file_extension": ".py",
   "mimetype": "text/x-python",
   "name": "python",
   "nbconvert_exporter": "python",
   "pygments_lexer": "ipython2",
   "version": "2.7.15"
  }
 },
 "nbformat": 4,
 "nbformat_minor": 2
}
