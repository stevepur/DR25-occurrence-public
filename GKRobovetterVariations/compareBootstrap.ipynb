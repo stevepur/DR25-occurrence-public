{
 "cells": [
  {
   "cell_type": "code",
   "execution_count": 1,
   "metadata": {},
   "outputs": [],
   "source": [
    "import os\n",
    "import requests\n",
    "import pandas as pd\n",
    "from astropy.io import fits\n",
    "from cStringIO import StringIO\n",
    "import numpy as np\n",
    "import matplotlib.pyplot as plt\n",
    "from scipy.stats import gamma\n",
    "from scipy.optimize import minimize\n",
    "from scipy.interpolate import RectBivariateSpline\n",
    "import emcee\n",
    "import corner\n",
    "import scipy.io as sio\n",
    "from ipywidgets import FloatProgress\n",
    "from IPython.display import display\n",
    "import time\n",
    "\n",
    "import sys\n",
    "sys.path.insert(0, '..')\n",
    "import dr25Models as funcModels"
   ]
  },
  {
   "cell_type": "code",
   "execution_count": 2,
   "metadata": {},
   "outputs": [],
   "source": [
    "model = \"dualPowerLaw\"\n",
    "period_rng = (50, 400)\n",
    "n_period = 57\n",
    "rp_rng = (0.75, 2.5)\n",
    "n_rp = 61\n",
    "\n"
   ]
  },
  {
   "cell_type": "code",
   "execution_count": 3,
   "metadata": {},
   "outputs": [],
   "source": [
    "def medianAndErrorbars(data):\n",
    "    if data.ndim > 1:\n",
    "        dataResult = map(lambda v: (v[1], v[2]-v[1], v[1]-v[0]),\n",
    "                             zip(*np.percentile(data, [16, 50, 84],\n",
    "                                                axis=0)))\n",
    "        dataResult = list(dataResult)\n",
    "        return dataResult\n",
    "    else:\n",
    "        v = np.percentile(data, [16, 50, 84])\n",
    "        return [v[1], v[2]-v[1], v[1]-v[0]]\n",
    "\n",
    "\n",
    "def printMedianAndErrorbars(data):\n",
    "    e = medianAndErrorbars(data)\n",
    "    if data.ndim > 1:\n",
    "        print(\"printMedianAndErrorbars only works for 1D arrays\")\n",
    "    else:\n",
    "        return \"{:.3f}\".format(e[0]) +\"^{+\" + \"{:.3f}\".format(e[1]) + \"}_{-\" + \"{:.3f}\".format(e[2]) + \"}\"\n",
    "\n"
   ]
  },
  {
   "cell_type": "code",
   "execution_count": 4,
   "metadata": {},
   "outputs": [],
   "source": [
    "from scipy.integrate import romb\n",
    "\n",
    "def integrate2DGrid(g, dx, dy):\n",
    "    if g.shape[0]%2 == 0 or g.shape[1]%2 == 0:\n",
    "        raise ValueError('integrate2DGrid requires a grid with odd number of points on a side');\n",
    "    return romb(romb(g, dx), dy)\n",
    "\n",
    "def integrateRateModel(periodRange, rpRange, theta, model):\n",
    "    nPts = 2**5+1 # must be 2**n + 1\n",
    "    pGrid, rGrid = np.meshgrid(np.linspace(periodRange[0], periodRange[1], nPts), \n",
    "                                       np.linspace(rpRange[0], rpRange[1], nPts), \n",
    "                                       indexing=\"ij\")\n",
    "    dp = (pGrid[1,0]-pGrid[0,0])\n",
    "    dr = (rGrid[0,1]-rGrid[0,0])\n",
    "    \n",
    "    if theta.ndim == 1:\n",
    "        y = rateModel(pGrid, rGrid, period_rng, rp_rng, theta, model)\n",
    "        return integrate2DGrid(y, dp, dr)\n",
    "    else: # assume first dimension is array of thetas\n",
    "        ret = np.zeros(theta.shape[0])\n",
    "        if len(ret) > 100:\n",
    "            f = FloatProgress(min=0, max=len(ret))\n",
    "            display(f)\n",
    "\n",
    "        for i in range(len(ret)):\n",
    "            y = rateModel(pGrid, rGrid, period_rng, rp_rng, theta[i,:], model)\n",
    "            ret[i] = integrate2DGrid(y, dp, dr)\n",
    "            if len(ret) > 100:\n",
    "                f.value += 1\n",
    "        return ret\n",
    "\n",
    "\n",
    "def integratePopTimesComp(periodRange, rpRange, theta, model, compGrid):\n",
    "    nP = compGrid.shape[0]\n",
    "    nR = compGrid.shape[1]\n",
    "\n",
    "    pGrid, rGrid = np.meshgrid(np.linspace(periodRange[0], periodRange[1], nP), \n",
    "                                       np.linspace(rpRange[0], rpRange[1], nR), \n",
    "                                       indexing=\"ij\")\n",
    "    dp = (pGrid[1,0]-pGrid[0,0])\n",
    "    dr = (rGrid[0,1]-rGrid[0,0])\n",
    "    y = rateModel(pGrid, rGrid, period_rng, rp_rng, theta, model)*compGrid\n",
    "    return integrate2DGrid(y, dp, dr)\n",
    "\n",
    "\n",
    "\n"
   ]
  },
  {
   "cell_type": "code",
   "execution_count": 5,
   "metadata": {},
   "outputs": [],
   "source": [
    "\n",
    "def rateModel(x, y, xRange, yRange, theta, model):\n",
    "    if model == \"dualPowerLaw\":\n",
    "        f0, alpha, beta = theta\n",
    "        ap1 = alpha+1;\n",
    "        bp1 = beta+1;\n",
    "        r = f0*(ap1*(x**alpha)/(xRange[1]**ap1-xRange[0]**ap1))*(bp1*(y**beta)/(yRange[1]**bp1-yRange[0]**bp1))\n",
    "    elif model == \"dualPowerLawGap\":\n",
    "        f0, alpha, beta, gd, gw, gapOffset, gapSlope = theta\n",
    "        ap1 = alpha+1;\n",
    "        bp1 = beta+1;\n",
    "        # van Eylen fit, really only good for p<100 days\n",
    "#        gapSlope = -0.13 \n",
    "#        gapOffset = 0.41\n",
    "        # constant-radius valley, to match radius marginals\n",
    "#        gapSlope = 0\n",
    "#        gapOffset = 0.26\n",
    "\n",
    "        gapModel = 10**(gapSlope*np.log10(x) + gapOffset)\n",
    "        gapDist2 = (gapModel - y)**2\n",
    "        r = f0*(ap1*(x**alpha)/(xRange[1]**ap1-xRange[0]**ap1))*(bp1*(y**beta)/(yRange[1]**bp1-yRange[0]**bp1)\n",
    "                                                                - gd*np.exp(-gapDist2/(2*gw*gw)))\n",
    "    elif model == \"dualPowerLawGapFixedSlope\":\n",
    "        f0, alpha, beta, gd, gw, gapOffset = theta\n",
    "        ap1 = alpha+1;\n",
    "        bp1 = beta+1;\n",
    "        # van Eylen fit, really only good for p<100 days\n",
    "#        gapSlope = -0.13 \n",
    "#        gapOffset = 0.41\n",
    "        # constant-radius valley, to match radius marginals\n",
    "        gapSlope = 0\n",
    "#        gapOffset = 0.26\n",
    "\n",
    "        gapModel = 10**(gapSlope*np.log10(x) + gapOffset)\n",
    "        gapDist2 = (gapModel - y)**2\n",
    "        r = f0*(ap1*(x**alpha)/(xRange[1]**ap1-xRange[0]**ap1))*(bp1*(y**beta)/(yRange[1]**bp1-yRange[0]**bp1)\n",
    "                                                                - gd*np.exp(-gapDist2/(2*gw*gw)))\n",
    "    elif model == \"dualPowerLawFixedValley\":\n",
    "        f0, alpha, beta = theta\n",
    "        ap1 = alpha+1;\n",
    "        bp1 = beta+1;\n",
    "        # van Eylen fit, really only good for p<100 days\n",
    "#        gapSlope = -0.13 \n",
    "#        gapOffset = 0.41\n",
    "        # constant-radius valley, to match radius marginals\n",
    "        gd = 0.29297043\n",
    "        gw = 0.14683756\n",
    "        gapSlope = 0\n",
    "        gapOffset = 0.29125824\n",
    "\n",
    "        gapModel = 10**(gapSlope*np.log10(x) + gapOffset)\n",
    "        gapDist2 = (gapModel - y)**2\n",
    "        r = f0*(ap1*(x**alpha)/(xRange[1]**ap1-xRange[0]**ap1))*(bp1*(y**beta)/(yRange[1]**bp1-yRange[0]**bp1)\n",
    "                                                                - gd*np.exp(-gapDist2/(2*gw*gw)))\n",
    "    else:\n",
    "        raise ValueError('Bad model name');\n",
    "        \n",
    "    return r\n",
    "\n",
    "def getModelLabels(model):\n",
    "    if model == \"dualPowerLaw\":\n",
    "        return [r\"$F_0$\", r\"$\\beta$\", r\"$\\alpha$\"]\n",
    "    elif model == \"dualPowerLawGap\":\n",
    "        return [r\"$F_0$\", r\"$\\beta$\", r\"$\\alpha$\", r\"$d_g$\", r\"$w_g$\", r\"$o_g$\", r\"$s_g$\"]\n",
    "    elif model == \"dualPowerLawGapFixedSlope\":\n",
    "        return [r\"$F_0$\", r\"$\\beta$\", r\"$\\alpha$\", r\"$d_g$\", r\"$w_g$\", r\"$o_g$\"]\n",
    "    elif model == \"dualPowerLawFixedValley\":\n",
    "        return [r\"$F_0$\", r\"$\\beta$\", r\"$\\alpha$\"]\n",
    "    else:\n",
    "        raise ValueError('Bad model name');\n",
    "\n",
    "def initRateModel(model):\n",
    "    if model == \"dualPowerLaw\":\n",
    "        f0 = 0.75\n",
    "        alpha = -0.53218\n",
    "        beta = -0.5\n",
    "        theta = [f0, alpha, beta]\n",
    "    elif model == \"dualPowerLawGap\":\n",
    "        f0 = 0.75\n",
    "        alpha = -0.69\n",
    "        beta = -0.1\n",
    "        gd = 0.22\n",
    "        gw = 0.1\n",
    "        go = 0.26\n",
    "        gs = 0.0\n",
    "        theta = [f0, alpha, beta, gd, gw, go, gs]\n",
    "    elif model == \"dualPowerLawGapFixedSlope\":\n",
    "        f0 = 0.75\n",
    "        alpha = -0.69\n",
    "        beta = -0.1\n",
    "        gd = 0.22\n",
    "        gw = 0.1\n",
    "        go = 0.26\n",
    "        theta = [f0, alpha, beta, gd, gw, go]\n",
    "    elif model == \"dualPowerLawFixedValley\":\n",
    "        f0 = 0.75\n",
    "        alpha = -0.53218\n",
    "        beta = -0.5\n",
    "        theta = [f0, alpha, beta]\n",
    "    else:\n",
    "        raise ValueError('Bad model name');\n",
    "  \n",
    "    return theta\n"
   ]
  },
  {
   "cell_type": "code",
   "execution_count": 6,
   "metadata": {},
   "outputs": [],
   "source": [
    "HB1PosteriorsNoReliability = np.load(\"highBox1Output/occurenceRatePosteriors_noreliability.npy\")\n",
    "HB1PosteriorsWithReliability = np.load(\"highBox1Output/occurenceRatePosteriors.npy\")\n",
    "\n",
    "LB1PosteriorsNoReliability = np.load(\"lowBox1Output/occurenceRatePosteriors_noreliability.npy\")\n",
    "LB1PosteriorsWithReliability = np.load(\"lowBox1Output/occurenceRatePosteriors.npy\")\n",
    "\n",
    "HB2PosteriorsNoReliability = np.load(\"highBox2Output/occurenceRatePosteriors_noreliability.npy\")\n",
    "HB2PosteriorsWithReliability = np.load(\"highBox2Output/occurenceRatePosteriors.npy\")\n",
    "\n",
    "LB2PosteriorsNoReliability = np.load(\"lowBox2Output/occurenceRatePosteriors_noreliability.npy\")\n",
    "LB2PosteriorsWithReliability = np.load(\"lowBox2Output/occurenceRatePosteriors.npy\")\n",
    "\n",
    "basePosteriorsNoReliability = np.load(\"baselineFpwgpcOutput/occurenceRatePosteriors_noreliability.npy\")\n",
    "basePosteriorsWithReliability = np.load(\"baselineFpwgpcOutput/occurenceRatePosteriors.npy\")\n",
    "\n"
   ]
  },
  {
   "cell_type": "code",
   "execution_count": 7,
   "metadata": {},
   "outputs": [
    {
     "name": "stdout",
     "output_type": "stream",
     "text": [
      "F_0 High Box 1 Without Reliability = 1.231^{+0.219}_{-0.183}\n",
      "F_0 High Box 1 With Reliability = 0.583^{+0.121}_{-0.098}\n",
      "F_0 Low Box 1 Without Reliability = 0.962^{+0.206}_{-0.165}\n",
      "F_0 Low Box 1 With Reliability = 0.510^{+0.130}_{-0.100}\n",
      "F_0 High Box 2 Without Reliability = 0.971^{+0.188}_{-0.149}\n",
      "F_0 High Box 2 With Reliability = 0.408^{+0.090}_{-0.072}\n",
      "F_0 Low Box 2 Without Reliability = 0.937^{+0.200}_{-0.162}\n",
      "F_0 Low Box 2 With Reliability = 0.552^{+0.143}_{-0.113}\n",
      "F_0 fpwgpc baseline Without Reliability = 0.886^{+0.164}_{-0.131}\n",
      "F_0 fpwgpc baseline With Reliability = 0.463^{+0.098}_{-0.079}\n"
     ]
    }
   ],
   "source": [
    "print(\"F_0 High Box 1 Without Reliability = \" + printMedianAndErrorbars(HB1PosteriorsNoReliability[:,0]))\n",
    "print(\"F_0 High Box 1 With Reliability = \" + printMedianAndErrorbars(HB1PosteriorsWithReliability[:,0]))\n",
    "\n",
    "print(\"F_0 Low Box 1 Without Reliability = \" + printMedianAndErrorbars(LB1PosteriorsNoReliability[:,0]))\n",
    "print(\"F_0 Low Box 1 With Reliability = \" + printMedianAndErrorbars(LB1PosteriorsWithReliability[:,0]))\n",
    "\n",
    "print(\"F_0 High Box 2 Without Reliability = \" + printMedianAndErrorbars(HB2PosteriorsNoReliability[:,0]))\n",
    "print(\"F_0 High Box 2 With Reliability = \" + printMedianAndErrorbars(HB2PosteriorsWithReliability[:,0]))\n",
    "\n",
    "print(\"F_0 Low Box 2 Without Reliability = \" + printMedianAndErrorbars(LB2PosteriorsNoReliability[:,0]))\n",
    "print(\"F_0 Low Box 2 With Reliability = \" + printMedianAndErrorbars(LB2PosteriorsWithReliability[:,0]))\n",
    "\n",
    "print(\"F_0 fpwgpc baseline Without Reliability = \" + printMedianAndErrorbars(basePosteriorsNoReliability[:,0]))\n",
    "print(\"F_0 fpwgpc baseline With Reliability = \" + printMedianAndErrorbars(basePosteriorsWithReliability[:,0]))\n"
   ]
  },
  {
   "cell_type": "code",
   "execution_count": 8,
   "metadata": {},
   "outputs": [],
   "source": [
    "capsize = 8\n",
    "cbc = ['#377eb8', '#ff7f00', '#4daf4a',\n",
    "                  '#f781bf', '#a65628', '#984ea3',\n",
    "                  '#999999', '#e41a1c', '#dede00']\n",
    "\n"
   ]
  },
  {
   "cell_type": "code",
   "execution_count": 9,
   "metadata": {},
   "outputs": [
    {
     "data": {
      "image/png": "[encoded data removed]",
      "text/plain": [
       "<Figure size 1080x432 with 1 Axes>"
      ]
     },
     "metadata": {
      "needs_background": "light"
     },
     "output_type": "display_data"
    }
   ],
   "source": [
    "plt.figure(figsize=(15,6));\n",
    "plt.hist(HB1PosteriorsNoReliability[:,0], 50, histtype=\"step\", color=cbc[0], density=True);\n",
    "plt.hist(LB1PosteriorsNoReliability[:,0], 50, histtype=\"step\", color=cbc[1], density=True);\n",
    "plt.hist(HB2PosteriorsNoReliability[:,0], 50, histtype=\"step\", color=cbc[2], density=True);\n",
    "plt.hist(LB2PosteriorsNoReliability[:,0], 50, histtype=\"step\", color=cbc[3], density=True);\n",
    "plt.hist(basePosteriorsNoReliability[:,0], 50, histtype=\"step\", color='k', density=True);\n",
    "plt.xlim(0, 2.0)\n",
    "ylim = plt.ylim()\n",
    "HB1NrStats = medianAndErrorbars(HB1PosteriorsNoReliability[:,0])\n",
    "LB1NrStats = medianAndErrorbars(LB1PosteriorsNoReliability[:,0])\n",
    "HB2NrStats = medianAndErrorbars(HB2PosteriorsNoReliability[:,0])\n",
    "LB2NrStats = medianAndErrorbars(LB2PosteriorsNoReliability[:,0])\n",
    "baseNrStats = medianAndErrorbars(basePosteriorsNoReliability[:,0])\n",
    "plt.errorbar(HB1NrStats[0], 0.98*ylim[1], xerr=[[HB1NrStats[2]],[HB1NrStats[1]]], capsize = capsize, color = cbc[0], fmt='--o')\n",
    "plt.errorbar(LB1NrStats[0], 1.0*ylim[1], xerr=[[LB1NrStats[2]],[LB1NrStats[1]]], capsize = capsize, color = cbc[1], fmt='--s')\n",
    "plt.errorbar(HB2NrStats[0], 1.02*ylim[1], xerr=[[HB2NrStats[2]],[HB2NrStats[1]]], capsize = capsize, color = cbc[2], fmt='--*')\n",
    "plt.errorbar(LB2NrStats[0], 1.04*ylim[1], xerr=[[LB2NrStats[2]],[LB2NrStats[1]]], capsize = capsize, color = cbc[3], fmt='--d')\n",
    "plt.errorbar(baseNrStats[0], 1.06*ylim[1], xerr=[[baseNrStats[2]],[baseNrStats[1]]], capsize = capsize, color = \"k\", fmt='--+')\n",
    "plt.gca().set_yticklabels([])\n",
    "plt.tick_params(labelsize = 24)\n",
    "plt.xlabel(r\"$F_0$\", fontSize = 36);\n",
    "plt.savefig(\"bootstrapComparison/f0DistNoReliability.pdf\",bbox_inches='tight')\n",
    "plt.title(\"Distribution for $F_0$: 50-400 days, 0.75 - 2.5 $R_\\oplus$, no reliability\", fontsize=18);\n"
   ]
  },
  {
   "cell_type": "code",
   "execution_count": 10,
   "metadata": {},
   "outputs": [
    {
     "data": {
      "image/png": "[encoded data removed]",
      "text/plain": [
       "<Figure size 1080x432 with 1 Axes>"
      ]
     },
     "metadata": {
      "needs_background": "light"
     },
     "output_type": "display_data"
    }
   ],
   "source": [
    "plt.figure(figsize=(15,6));\n",
    "plt.hist(HB1PosteriorsWithReliability[:,0], 50, histtype=\"step\", color=cbc[0], density=True);\n",
    "plt.hist(LB1PosteriorsWithReliability[:,0], 50, histtype=\"step\", color=cbc[1], density=True);\n",
    "plt.hist(HB2PosteriorsWithReliability[:,0], 50, histtype=\"step\", color=cbc[2], density=True);\n",
    "plt.hist(LB2PosteriorsWithReliability[:,0], 50, histtype=\"step\", color=cbc[3], density=True);\n",
    "plt.hist(basePosteriorsWithReliability[:,0], 50, histtype=\"step\", color='k', density=True);\n",
    "ylim = plt.ylim()\n",
    "xlim = plt.xlim()\n",
    "plt.xlim(0, 2.0)\n",
    "HB1NrStats = medianAndErrorbars(HB1PosteriorsWithReliability[:,0])\n",
    "LB1NrStats = medianAndErrorbars(LB1PosteriorsWithReliability[:,0])\n",
    "HB2NrStats = medianAndErrorbars(HB2PosteriorsWithReliability[:,0])\n",
    "LB2NrStats = medianAndErrorbars(LB2PosteriorsWithReliability[:,0])\n",
    "baseNrStats = medianAndErrorbars(basePosteriorsWithReliability[:,0])\n",
    "plt.errorbar(HB1NrStats[0], 0.98*ylim[1], xerr=[[HB1NrStats[2]],[HB1NrStats[1]]], capsize = capsize, color = cbc[0], fmt='--o')\n",
    "plt.errorbar(LB1NrStats[0], 1.0*ylim[1], xerr=[[LB1NrStats[2]],[LB1NrStats[1]]], capsize = capsize, color = cbc[1], fmt='--s')\n",
    "plt.errorbar(HB2NrStats[0], 1.02*ylim[1], xerr=[[HB2NrStats[2]],[HB2NrStats[1]]], capsize = capsize, color = cbc[2], fmt='--*')\n",
    "plt.errorbar(LB2NrStats[0], 1.04*ylim[1], xerr=[[LB2NrStats[2]],[LB2NrStats[1]]], capsize = capsize, color = cbc[3], fmt='--d')\n",
    "plt.errorbar(baseNrStats[0], 1.06*ylim[1], xerr=[[baseNrStats[2]],[baseNrStats[1]]], capsize = capsize, color = \"k\", fmt='--+')\n",
    "plt.gca().set_yticklabels([])\n",
    "plt.tick_params(labelsize = 24)\n",
    "plt.xlabel(r\"$F_0$\", fontSize = 36);\n",
    "plt.savefig(\"bootstrapComparison/f0DistWithReliability.pdf\",bbox_inches='tight')\n",
    "plt.title(\"Distribution for $F_0$: 50-400 days, 0.75 - 2.5 $R_\\oplus$, with reliability\", fontsize=18);\n"
   ]
  },
  {
   "cell_type": "code",
   "execution_count": 11,
   "metadata": {},
   "outputs": [],
   "source": [
    "def integrateModels(periodRange, radiusRange, model):\n",
    "    distHB1Nr = integrateRateModel(periodRange, radiusRange, HB1PosteriorsNoReliability, model)\n",
    "    distHB1Wr = integrateRateModel(periodRange, radiusRange, HB1PosteriorsWithReliability, model)\n",
    "\n",
    "    print(\"High Box 1 Without Reliability = \" + printMedianAndErrorbars(distHB1Nr))\n",
    "    print(\"High Box 1 With Reliability = \" + printMedianAndErrorbars(distHB1Wr))\n",
    "\n",
    "    distLB1Nr = integrateRateModel(periodRange, radiusRange, LB1PosteriorsNoReliability, model)\n",
    "    distLB1Wr = integrateRateModel(periodRange, radiusRange, LB1PosteriorsWithReliability, model)\n",
    "\n",
    "    print(\"Low Box 1 Without Reliability = \" + printMedianAndErrorbars(distLB1Nr))\n",
    "    print(\"Low Box 1 With Reliability = \" + printMedianAndErrorbars(distLB1Wr))\n",
    "\n",
    "    distHB2Nr = integrateRateModel(periodRange, radiusRange, HB2PosteriorsNoReliability, model)\n",
    "    distHB2Wr = integrateRateModel(periodRange, radiusRange, HB2PosteriorsWithReliability, model)\n",
    "\n",
    "    print(\"High Box 2 Without Reliability = \" + printMedianAndErrorbars(distHB2Nr))\n",
    "    print(\"High Box 2 With Reliability = \" + printMedianAndErrorbars(distHB2Wr))\n",
    "\n",
    "    distLB2Nr = integrateRateModel(periodRange, radiusRange, LB2PosteriorsNoReliability, model)\n",
    "    distLB2Wr = integrateRateModel(periodRange, radiusRange, LB2PosteriorsWithReliability, model)\n",
    "\n",
    "    print(\"Low Box 1 Without Reliability = \" + printMedianAndErrorbars(distLB2Nr))\n",
    "    print(\"Low Box 1 With Reliability = \" + printMedianAndErrorbars(distLB2Wr))\n",
    "\n",
    "    distBaseNr = integrateRateModel(periodRange, radiusRange, basePosteriorsNoReliability, model)\n",
    "    distBaseWr = integrateRateModel(periodRange, radiusRange, basePosteriorsWithReliability, model)\n",
    "\n",
    "    print(\"fpwgpc baseline Without Reliability = \" + printMedianAndErrorbars(distBaseNr))\n",
    "    print(\"fpwgpc baseline With Reliability = \" + printMedianAndErrorbars(distBaseWr))\n",
    "\n",
    "    return [distHB1Nr, distHB1Wr, distLB1Nr, distLB1Wr, distHB2Nr, distHB2Wr, distLB2Nr, distLB2Wr, distBaseNr, distBaseWr]"
   ]
  },
  {
   "cell_type": "code",
   "execution_count": 12,
   "metadata": {},
   "outputs": [],
   "source": [
    "def plot_dists_and_errorbars(dists, offset, xlim):\n",
    "    plt.hist(dists[0+offset], 50, histtype=\"step\", color=cbc[0], density=True);\n",
    "    plt.hist(dists[2+offset], 50, histtype=\"step\", color=cbc[1], density=True);\n",
    "    plt.hist(dists[4+offset], 50, histtype=\"step\", color=cbc[2], density=True);\n",
    "    plt.hist(dists[6+offset], 50, histtype=\"step\", color=cbc[3], density=True);\n",
    "    plt.hist(dists[8+offset], 50, histtype=\"step\", color='k', density=True);\n",
    "    \n",
    "    ylim = plt.ylim()\n",
    "    if xlim == 0:\n",
    "        xlim = plt.xlim()\n",
    "        plt.xlim([0, xlim[1]])\n",
    "    else:\n",
    "        plt.xlim(xlim)\n",
    "    \n",
    "    stats0 = medianAndErrorbars(dists[0+offset])\n",
    "    stats2 = medianAndErrorbars(dists[2+offset])\n",
    "    stats4 = medianAndErrorbars(dists[4+offset])\n",
    "    stats6 = medianAndErrorbars(dists[6+offset])\n",
    "    stats8 = medianAndErrorbars(dists[8+offset])\n",
    "    plt.errorbar(stats0[0], 0.98*ylim[1], xerr=[[stats0[2]],[stats0[1]]], capsize = capsize, color = cbc[0], fmt='--o')\n",
    "    plt.errorbar(stats2[0], 1.0*ylim[1], xerr=[[stats2[2]],[stats2[1]]], capsize = capsize, color = cbc[1], fmt='--s')\n",
    "    plt.errorbar(stats4[0], 1.02*ylim[1], xerr=[[stats4[2]],[stats4[1]]], capsize = capsize, color = cbc[2], fmt='--*')\n",
    "    plt.errorbar(stats6[0], 1.04*ylim[1], xerr=[[stats6[2]],[stats6[1]]], capsize = capsize, color = cbc[3], fmt='--d')\n",
    "    plt.errorbar(stats8[0], 1.06*ylim[1], xerr=[[stats8[2]],[stats8[1]]], capsize = capsize, color = 'k', fmt='--d')\n",
    "    plt.gca().set_yticklabels([])\n",
    "    plt.tick_params(labelsize = 24)\n",
    "    return xlim\n"
   ]
  },
  {
   "cell_type": "code",
   "execution_count": 13,
   "metadata": {},
   "outputs": [],
   "source": [
    "def assemble_bootstrap_dists(dists):\n",
    "    \n",
    "    distsNoReliability = np.append(dists[0], dists[2]);\n",
    "    distsNoReliability = np.append(distsNoReliability, dists[4]);\n",
    "    distsNoReliability = np.append(distsNoReliability, dists[6]);\n",
    "    distsNoReliability = np.append(distsNoReliability, dists[8]);\n",
    "\n",
    "    distsWithReliability = np.append(dists[1], dists[3]);\n",
    "    distsWithReliability = np.append(distsWithReliability, dists[5]);\n",
    "    distsWithReliability = np.append(distsWithReliability, dists[7]);\n",
    "    distsWithReliability = np.append(distsWithReliability, dists[9]);\n",
    "\n",
    "    return distsNoReliability, distsWithReliability"
   ]
  },
  {
   "cell_type": "code",
   "execution_count": 14,
   "metadata": {},
   "outputs": [
    {
     "name": "stdout",
     "output_type": "stream",
     "text": [
      "F_1:\n"
     ]
    },
    {
     "data": {
      "application/vnd.jupyter.widget-view+json": {
       "model_id": "780734b727d94165b6c61db223f17d45",
       "version_major": 2,
       "version_minor": 0
      },
      "text/plain": [
       "FloatProgress(value=0.0, max=80000.0)"
      ]
     },
     "metadata": {},
     "output_type": "display_data"
    },
    {
     "data": {
      "application/vnd.jupyter.widget-view+json": {
       "model_id": "529c8ab2812748f8901b0e40596ca6ed",
       "version_major": 2,
       "version_minor": 0
      },
      "text/plain": [
       "FloatProgress(value=0.0, max=60000.0)"
      ]
     },
     "metadata": {},
     "output_type": "display_data"
    },
    {
     "name": "stdout",
     "output_type": "stream",
     "text": [
      "High Box 1 Without Reliability = 0.314^{+0.044}_{-0.042}\n",
      "High Box 1 With Reliability = 0.186^{+0.037}_{-0.032}\n"
     ]
    },
    {
     "data": {
      "application/vnd.jupyter.widget-view+json": {
       "model_id": "2cebf6c45b764fc6bfc5fe253f764dcb",
       "version_major": 2,
       "version_minor": 0
      },
      "text/plain": [
       "FloatProgress(value=0.0, max=80000.0)"
      ]
     },
     "metadata": {},
     "output_type": "display_data"
    },
    {
     "data": {
      "application/vnd.jupyter.widget-view+json": {
       "model_id": "a7a57d414470453f8d10e4c5b37b65d2",
       "version_major": 2,
       "version_minor": 0
      },
      "text/plain": [
       "FloatProgress(value=0.0, max=60000.0)"
      ]
     },
     "metadata": {},
     "output_type": "display_data"
    },
    {
     "name": "stdout",
     "output_type": "stream",
     "text": [
      "Low Box 1 Without Reliability = 0.236^{+0.041}_{-0.036}\n",
      "Low Box 1 With Reliability = 0.157^{+0.035}_{-0.030}\n"
     ]
    },
    {
     "data": {
      "application/vnd.jupyter.widget-view+json": {
       "model_id": "81b6323d0cd548d682edc9e3a4ac5c96",
       "version_major": 2,
       "version_minor": 0
      },
      "text/plain": [
       "FloatProgress(value=0.0, max=80000.0)"
      ]
     },
     "metadata": {},
     "output_type": "display_data"
    },
    {
     "data": {
      "application/vnd.jupyter.widget-view+json": {
       "model_id": "0286222c9e8147269221cf13769cfd36",
       "version_major": 2,
       "version_minor": 0
      },
      "text/plain": [
       "FloatProgress(value=0.0, max=60000.0)"
      ]
     },
     "metadata": {},
     "output_type": "display_data"
    },
    {
     "name": "stdout",
     "output_type": "stream",
     "text": [
      "High Box 2 Without Reliability = 0.281^{+0.044}_{-0.038}\n",
      "High Box 2 With Reliability = 0.142^{+0.033}_{-0.027}\n"
     ]
    },
    {
     "data": {
      "application/vnd.jupyter.widget-view+json": {
       "model_id": "01fd020dca9b475193f7a1fc0400ed70",
       "version_major": 2,
       "version_minor": 0
      },
      "text/plain": [
       "FloatProgress(value=0.0, max=80000.0)"
      ]
     },
     "metadata": {},
     "output_type": "display_data"
    },
    {
     "data": {
      "application/vnd.jupyter.widget-view+json": {
       "model_id": "0c64388c18c64fbba8b66e08b637326b",
       "version_major": 2,
       "version_minor": 0
      },
      "text/plain": [
       "FloatProgress(value=0.0, max=60000.0)"
      ]
     },
     "metadata": {},
     "output_type": "display_data"
    },
    {
     "name": "stdout",
     "output_type": "stream",
     "text": [
      "Low Box 1 Without Reliability = 0.247^{+0.041}_{-0.037}\n",
      "Low Box 1 With Reliability = 0.164^{+0.036}_{-0.032}\n"
     ]
    },
    {
     "data": {
      "application/vnd.jupyter.widget-view+json": {
       "model_id": "250fba84c7584c389685485eeff896f7",
       "version_major": 2,
       "version_minor": 0
      },
      "text/plain": [
       "FloatProgress(value=0.0, max=80000.0)"
      ]
     },
     "metadata": {},
     "output_type": "display_data"
    },
    {
     "data": {
      "application/vnd.jupyter.widget-view+json": {
       "model_id": "78889e2b8b624294b9fb19cda581cb95",
       "version_major": 2,
       "version_minor": 0
      },
      "text/plain": [
       "FloatProgress(value=0.0, max=60000.0)"
      ]
     },
     "metadata": {},
     "output_type": "display_data"
    },
    {
     "name": "stdout",
     "output_type": "stream",
     "text": [
      "fpwgpc baseline Without Reliability = 0.244^{+0.039}_{-0.034}\n",
      "fpwgpc baseline With Reliability = 0.152^{+0.033}_{-0.028}\n"
     ]
    }
   ],
   "source": [
    "F1PeriodRange = [50.,200.];\n",
    "F1RadiusRange = [1., 2.];\n",
    "\n",
    "print(\"F_1:\")\n",
    "\n",
    "f1dists = integrateModels(F1PeriodRange, F1RadiusRange, model)\n"
   ]
  },
  {
   "cell_type": "code",
   "execution_count": 15,
   "metadata": {},
   "outputs": [
    {
     "data": {
      "image/png": "[encoded data removed]",
      "text/plain": [
       "<Figure size 1080x432 with 1 Axes>"
      ]
     },
     "metadata": {
      "needs_background": "light"
     },
     "output_type": "display_data"
    },
    {
     "data": {
      "image/png": "[encoded data removed]",
      "text/plain": [
       "<Figure size 1080x432 with 1 Axes>"
      ]
     },
     "metadata": {
      "needs_background": "light"
     },
     "output_type": "display_data"
    }
   ],
   "source": [
    "capsize = 8\n",
    "\n",
    "plt.figure(figsize=(15,6));\n",
    "xlim = plot_dists_and_errorbars(f1dists, 0, 0)\n",
    "plt.xlabel(r\"$F_1$\", fontSize = 36);\n",
    "plt.savefig(\"bootstrapComparison/f1DistNoReliability.pdf\",bbox_inches='tight')\n",
    "plt.title(\"Distribution for $F_1$: 50-200 days, 1-2 $R_\\oplus$, no reliability\", fontsize=18);\n",
    "\n",
    "\n",
    "plt.figure(figsize=(15,6));\n",
    "plot_dists_and_errorbars(f1dists, 1, [0, xlim[1]])\n",
    "plt.xlabel(r\"$F_1$\", fontSize = 36);\n",
    "plt.savefig(\"bootstrapComparison/f1DistWithReliability.pdf\",bbox_inches='tight')\n",
    "plt.title(\"Distribution for $F_1$: 50-200 days, 1-2 $R_\\oplus$, with reliability\", fontsize=18);\n"
   ]
  },
  {
   "cell_type": "code",
   "execution_count": 24,
   "metadata": {},
   "outputs": [
    {
     "name": "stdout",
     "output_type": "stream",
     "text": [
      "F_1 Without Reliability = 0.263^{+0.055}_{-0.044}\n",
      "F_1 With Reliability = 0.160^{+0.038}_{-0.032}\n"
     ]
    },
    {
     "data": {
      "image/png": "[encoded data removed]",
      "text/plain": [
       "<Figure size 1080x432 with 1 Axes>"
      ]
     },
     "metadata": {
      "needs_background": "light"
     },
     "output_type": "display_data"
    }
   ],
   "source": [
    "f1BootDistNR, f1BootDistWR = assemble_bootstrap_dists(f1dists)\n",
    "print(\"F_1 Without Reliability = \" + printMedianAndErrorbars(f1BootDistNR))\n",
    "print(\"F_1 With Reliability = \" + printMedianAndErrorbars(f1BootDistWR))\n",
    "\n",
    "plt.figure(figsize=(15,6));\n",
    "plt.hist(f1BootDistWR, 100, histtype=\"step\", color=cbc[0], density=True);\n",
    "plt.hist(f1dists[9], 100, histtype=\"step\", color='k', density=True);\n",
    "ylim = plt.ylim()\n",
    "\n",
    "stats0 = medianAndErrorbars(f1BootDistWR)\n",
    "plt.errorbar(stats0[0], 0.98*ylim[1], xerr=[[stats0[2]],[stats0[1]]], capsize = capsize, color = cbc[0], fmt='--o')\n",
    "stats0 = medianAndErrorbars(f1dists[9])\n",
    "plt.errorbar(stats0[0], 1.00*ylim[1], xerr=[[stats0[2]],[stats0[1]]], capsize = capsize, color = 'k', fmt='--+')\n",
    "plt.gca().set_yticklabels([])\n",
    "plt.tick_params(labelsize = 24)\n",
    "plt.xlabel(r\"$F_1$\", fontSize = 36);\n",
    "plt.savefig(\"bootstrapComparison/f1BootDistWithReliability.pdf\",bbox_inches='tight')\n",
    "plt.title(\"Distribution for $F_1$: 50-200 days, 1-2 $R_\\oplus$, with reliability\", fontsize=18);\n"
   ]
  },
  {
   "cell_type": "code",
   "execution_count": 17,
   "metadata": {},
   "outputs": [
    {
     "name": "stdout",
     "output_type": "stream",
     "text": [
      "zeta_Earth:\n"
     ]
    },
    {
     "data": {
      "application/vnd.jupyter.widget-view+json": {
       "model_id": "857ba9a0d27d42888f83a9e39aaef071",
       "version_major": 2,
       "version_minor": 0
      },
      "text/plain": [
       "FloatProgress(value=0.0, max=80000.0)"
      ]
     },
     "metadata": {},
     "output_type": "display_data"
    },
    {
     "data": {
      "application/vnd.jupyter.widget-view+json": {
       "model_id": "a2db004b96a743d8a3ed8aa585b88bc0",
       "version_major": 2,
       "version_minor": 0
      },
      "text/plain": [
       "FloatProgress(value=0.0, max=60000.0)"
      ]
     },
     "metadata": {},
     "output_type": "display_data"
    },
    {
     "name": "stdout",
     "output_type": "stream",
     "text": [
      "High Box 1 Without Reliability = 0.149^{+0.057}_{-0.043}\n",
      "High Box 1 With Reliability = 0.033^{+0.020}_{-0.013}\n"
     ]
    },
    {
     "data": {
      "application/vnd.jupyter.widget-view+json": {
       "model_id": "22b4d5871009461ca1c23aa2124f3541",
       "version_major": 2,
       "version_minor": 0
      },
      "text/plain": [
       "FloatProgress(value=0.0, max=80000.0)"
      ]
     },
     "metadata": {},
     "output_type": "display_data"
    },
    {
     "data": {
      "application/vnd.jupyter.widget-view+json": {
       "model_id": "bda3664e4daf4a87b5989330666fddcf",
       "version_major": 2,
       "version_minor": 0
      },
      "text/plain": [
       "FloatProgress(value=0.0, max=60000.0)"
      ]
     },
     "metadata": {},
     "output_type": "display_data"
    },
    {
     "name": "stdout",
     "output_type": "stream",
     "text": [
      "Low Box 1 Without Reliability = 0.123^{+0.056}_{-0.040}\n",
      "Low Box 1 With Reliability = 0.037^{+0.024}_{-0.015}\n"
     ]
    },
    {
     "data": {
      "application/vnd.jupyter.widget-view+json": {
       "model_id": "38d37635da054a2788bf3e09cbab8f8f",
       "version_major": 2,
       "version_minor": 0
      },
      "text/plain": [
       "FloatProgress(value=0.0, max=80000.0)"
      ]
     },
     "metadata": {},
     "output_type": "display_data"
    },
    {
     "data": {
      "application/vnd.jupyter.widget-view+json": {
       "model_id": "de744a9d8d2a4fd98aae5bf8f92925e2",
       "version_major": 2,
       "version_minor": 0
      },
      "text/plain": [
       "FloatProgress(value=0.0, max=60000.0)"
      ]
     },
     "metadata": {},
     "output_type": "display_data"
    },
    {
     "name": "stdout",
     "output_type": "stream",
     "text": [
      "High Box 2 Without Reliability = 0.100^{+0.043}_{-0.030}\n",
      "High Box 2 With Reliability = 0.014^{+0.011}_{-0.007}\n"
     ]
    },
    {
     "data": {
      "application/vnd.jupyter.widget-view+json": {
       "model_id": "47012eaff92b45df98e514f18d4ac61f",
       "version_major": 2,
       "version_minor": 0
      },
      "text/plain": [
       "FloatProgress(value=0.0, max=80000.0)"
      ]
     },
     "metadata": {},
     "output_type": "display_data"
    },
    {
     "data": {
      "application/vnd.jupyter.widget-view+json": {
       "model_id": "d5d37f2529374d9cba28176ecc174153",
       "version_major": 2,
       "version_minor": 0
      },
      "text/plain": [
       "FloatProgress(value=0.0, max=60000.0)"
      ]
     },
     "metadata": {},
     "output_type": "display_data"
    },
    {
     "name": "stdout",
     "output_type": "stream",
     "text": [
      "Low Box 1 Without Reliability = 0.119^{+0.052}_{-0.038}\n",
      "Low Box 1 With Reliability = 0.048^{+0.030}_{-0.020}\n"
     ]
    },
    {
     "data": {
      "application/vnd.jupyter.widget-view+json": {
       "model_id": "92d29fadfed84d14981882e1b98236ce",
       "version_major": 2,
       "version_minor": 0
      },
      "text/plain": [
       "FloatProgress(value=0.0, max=80000.0)"
      ]
     },
     "metadata": {},
     "output_type": "display_data"
    },
    {
     "data": {
      "application/vnd.jupyter.widget-view+json": {
       "model_id": "4eefe13860684921b0be0007e01ed825",
       "version_major": 2,
       "version_minor": 0
      },
      "text/plain": [
       "FloatProgress(value=0.0, max=60000.0)"
      ]
     },
     "metadata": {},
     "output_type": "display_data"
    },
    {
     "name": "stdout",
     "output_type": "stream",
     "text": [
      "fpwgpc baseline Without Reliability = 0.082^{+0.036}_{-0.025}\n",
      "fpwgpc baseline With Reliability = 0.020^{+0.013}_{-0.008}\n"
     ]
    }
   ],
   "source": [
    "zetaEarthPeriodRange = [.8*365.25,1.2*365.25];\n",
    "zetaEarthRadiusRange = [0.8,1.2];\n",
    "\n",
    "\n",
    "print(\"zeta_Earth:\")\n",
    "\n",
    "zetaEarthdists = integrateModels(zetaEarthPeriodRange, zetaEarthRadiusRange, model)\n"
   ]
  },
  {
   "cell_type": "code",
   "execution_count": 18,
   "metadata": {},
   "outputs": [
    {
     "data": {
      "image/png": "[encoded data removed]",
      "text/plain": [
       "<Figure size 1080x432 with 1 Axes>"
      ]
     },
     "metadata": {
      "needs_background": "light"
     },
     "output_type": "display_data"
    },
    {
     "data": {
      "image/png": "[encoded data removed]",
      "text/plain": [
       "<Figure size 1080x432 with 1 Axes>"
      ]
     },
     "metadata": {
      "needs_background": "light"
     },
     "output_type": "display_data"
    }
   ],
   "source": [
    "plt.figure(figsize=(15,6));\n",
    "xlim = plot_dists_and_errorbars(zetaEarthdists, 0, 0)\n",
    "plt.xlabel(r\"$\\zeta_{\\oplus}$\", fontSize = 36);\n",
    "plt.savefig(\"bootstrapComparison/zetaEarthDistNoReliability.pdf\",bbox_inches='tight')\n",
    "plt.title(\"Distribution for $\\zeta_{\\oplus}$, no reliability\", fontsize=18);\n",
    "\n",
    "\n",
    "plt.figure(figsize=(15,6));\n",
    "plot_dists_and_errorbars(zetaEarthdists, 1, [0, xlim[1]])\n",
    "plt.xlabel(r\"$\\zeta_{\\oplus}$\", fontSize = 36);\n",
    "plt.savefig(\"bootstrapComparison/zetaEarthDistWithReliability.pdf\",bbox_inches='tight')\n",
    "plt.title(\"Distribution for $\\zeta_{\\oplus}$, with reliability\", fontsize=18);\n"
   ]
  },
  {
   "cell_type": "code",
   "execution_count": 28,
   "metadata": {},
   "outputs": [
    {
     "name": "stdout",
     "output_type": "stream",
     "text": [
      "Bootstrap zeta-Earth Without Reliability = 0.113^{+0.057}_{-0.039}\n",
      "Bootstrap zeta-Earth With Reliability = 0.028^{+0.026}_{-0.015}\n"
     ]
    },
    {
     "data": {
      "image/png": "[encoded data removed]",
      "text/plain": [
       "<Figure size 1080x432 with 1 Axes>"
      ]
     },
     "metadata": {
      "needs_background": "light"
     },
     "output_type": "display_data"
    }
   ],
   "source": [
    "zetaEarthBootDistNR, zetaEarthBootDistWR = assemble_bootstrap_dists(zetaEarthdists)\n",
    "print(\"Bootstrap zeta-Earth Without Reliability = \" + printMedianAndErrorbars(zetaEarthBootDistNR))\n",
    "print(\"Bootstrap zeta-Earth With Reliability = \" + printMedianAndErrorbars(zetaEarthBootDistWR))\n",
    "\n",
    "plt.figure(figsize=(15,6));\n",
    "plt.hist(zetaEarthBootDistWR, 100, histtype=\"step\", color=cbc[0], density=True);\n",
    "plt.hist(zetaEarthdists[9], 100, histtype=\"step\", color='k', density=True);\n",
    "ylim = plt.ylim()\n",
    "\n",
    "stats0 = medianAndErrorbars(zetaEarthBootDistWR)\n",
    "plt.errorbar(stats0[0], 0.98*ylim[1], xerr=[[stats0[2]],[stats0[1]]], capsize = capsize, color = cbc[0], fmt='--o')\n",
    "stats0 = medianAndErrorbars(zetaEarthdists[9])\n",
    "plt.errorbar(stats0[0], 1.00*ylim[1], xerr=[[stats0[2]],[stats0[1]]], capsize = capsize, color = 'k', fmt='--+')\n",
    "plt.gca().set_yticklabels([])\n",
    "plt.tick_params(labelsize = 24)\n",
    "plt.xlabel(r\"$\\zeta_{\\oplus}$\", fontSize = 36);\n",
    "plt.savefig(\"bootstrapComparison/zetaEarthBootDistWithReliability.pdf\",bbox_inches='tight')\n",
    "plt.title(\"Distribution for $\\zeta_{\\oplus}$, with reliability\", fontsize=18);\n"
   ]
  },
  {
   "cell_type": "code",
   "execution_count": 20,
   "metadata": {},
   "outputs": [
    {
     "name": "stdout",
     "output_type": "stream",
     "text": [
      "SAG13 eta_Earth:\n"
     ]
    },
    {
     "data": {
      "application/vnd.jupyter.widget-view+json": {
       "model_id": "389e9954c22b43a4a33eabede55152ed",
       "version_major": 2,
       "version_minor": 0
      },
      "text/plain": [
       "FloatProgress(value=0.0, max=80000.0)"
      ]
     },
     "metadata": {},
     "output_type": "display_data"
    },
    {
     "data": {
      "application/vnd.jupyter.widget-view+json": {
       "model_id": "57e5be4ad0134e01b974127624bafa61",
       "version_major": 2,
       "version_minor": 0
      },
      "text/plain": [
       "FloatProgress(value=0.0, max=60000.0)"
      ]
     },
     "metadata": {},
     "output_type": "display_data"
    },
    {
     "name": "stdout",
     "output_type": "stream",
     "text": [
      "High Box 1 Without Reliability = 1.638^{+0.780}_{-0.540}\n",
      "High Box 1 With Reliability = 0.294^{+0.200}_{-0.121}\n"
     ]
    },
    {
     "data": {
      "application/vnd.jupyter.widget-view+json": {
       "model_id": "e788baa8d8bc429a932bc5e9eb05f346",
       "version_major": 2,
       "version_minor": 0
      },
      "text/plain": [
       "FloatProgress(value=0.0, max=80000.0)"
      ]
     },
     "metadata": {},
     "output_type": "display_data"
    },
    {
     "data": {
      "application/vnd.jupyter.widget-view+json": {
       "model_id": "c2b331a7349548b7b464dc6a0c1c9477",
       "version_major": 2,
       "version_minor": 0
      },
      "text/plain": [
       "FloatProgress(value=0.0, max=60000.0)"
      ]
     },
     "metadata": {},
     "output_type": "display_data"
    },
    {
     "name": "stdout",
     "output_type": "stream",
     "text": [
      "Low Box 1 Without Reliability = 1.391^{+0.801}_{-0.513}\n",
      "Low Box 1 With Reliability = 0.340^{+0.271}_{-0.152}\n"
     ]
    },
    {
     "data": {
      "application/vnd.jupyter.widget-view+json": {
       "model_id": "7347d4ee3e5644f18923708f603e1a80",
       "version_major": 2,
       "version_minor": 0
      },
      "text/plain": [
       "FloatProgress(value=0.0, max=80000.0)"
      ]
     },
     "metadata": {},
     "output_type": "display_data"
    },
    {
     "data": {
      "application/vnd.jupyter.widget-view+json": {
       "model_id": "d29dbd481bf145a7ad7e24a6ca8d1e4f",
       "version_major": 2,
       "version_minor": 0
      },
      "text/plain": [
       "FloatProgress(value=0.0, max=60000.0)"
      ]
     },
     "metadata": {},
     "output_type": "display_data"
    },
    {
     "name": "stdout",
     "output_type": "stream",
     "text": [
      "High Box 2 Without Reliability = 1.010^{+0.536}_{-0.338}\n",
      "High Box 2 With Reliability = 0.117^{+0.096}_{-0.054}\n"
     ]
    },
    {
     "data": {
      "application/vnd.jupyter.widget-view+json": {
       "model_id": "8cab554040354b628f19c65a27975e3c",
       "version_major": 2,
       "version_minor": 0
      },
      "text/plain": [
       "FloatProgress(value=0.0, max=80000.0)"
      ]
     },
     "metadata": {},
     "output_type": "display_data"
    },
    {
     "data": {
      "application/vnd.jupyter.widget-view+json": {
       "model_id": "313fc644604e40998dc1411a9af78e35",
       "version_major": 2,
       "version_minor": 0
      },
      "text/plain": [
       "FloatProgress(value=0.0, max=60000.0)"
      ]
     },
     "metadata": {},
     "output_type": "display_data"
    },
    {
     "name": "stdout",
     "output_type": "stream",
     "text": [
      "Low Box 1 Without Reliability = 1.305^{+0.739}_{-0.480}\n",
      "Low Box 1 With Reliability = 0.466^{+0.356}_{-0.208}\n"
     ]
    },
    {
     "data": {
      "application/vnd.jupyter.widget-view+json": {
       "model_id": "9940480cc00148f8abfe6d2299006a8a",
       "version_major": 2,
       "version_minor": 0
      },
      "text/plain": [
       "FloatProgress(value=0.0, max=80000.0)"
      ]
     },
     "metadata": {},
     "output_type": "display_data"
    },
    {
     "data": {
      "application/vnd.jupyter.widget-view+json": {
       "model_id": "25e8e8f178674a8f9b84310c118705da",
       "version_major": 2,
       "version_minor": 0
      },
      "text/plain": [
       "FloatProgress(value=0.0, max=60000.0)"
      ]
     },
     "metadata": {},
     "output_type": "display_data"
    },
    {
     "name": "stdout",
     "output_type": "stream",
     "text": [
      "fpwgpc baseline Without Reliability = 0.826^{+0.430}_{-0.281}\n",
      "fpwgpc baseline With Reliability = 0.166^{+0.125}_{-0.072}\n"
     ]
    }
   ],
   "source": [
    "sag13etaEarthPeriodRange = [237,860];\n",
    "sag13etaEarthRadiusRange = [0.5,1.5];\n",
    "\n",
    "\n",
    "print(\"SAG13 eta_Earth:\")\n",
    "\n",
    "sag13dists = integrateModels(sag13etaEarthPeriodRange, sag13etaEarthRadiusRange, model)\n"
   ]
  },
  {
   "cell_type": "code",
   "execution_count": 21,
   "metadata": {},
   "outputs": [
    {
     "data": {
      "image/png": "[encoded data removed]",
      "text/plain": [
       "<Figure size 1080x432 with 1 Axes>"
      ]
     },
     "metadata": {
      "needs_background": "light"
     },
     "output_type": "display_data"
    },
    {
     "data": {
      "image/png": "[encoded data removed]",
      "text/plain": [
       "<Figure size 1080x432 with 1 Axes>"
      ]
     },
     "metadata": {
      "needs_background": "light"
     },
     "output_type": "display_data"
    }
   ],
   "source": [
    "plt.figure(figsize=(15,6));\n",
    "xlim = plot_dists_and_errorbars(sag13dists, 0, [0, 4])\n",
    "plt.xlabel(r\"$\\zeta_{\\oplus}$\", fontSize = 36);\n",
    "plt.savefig(\"bootstrapComparison/sag13etaEarthDistNoReliability.pdf\",bbox_inches='tight')\n",
    "plt.title(\"Distribution for SAG13 $\\eta_{\\oplus}$, no reliability\", fontsize=18);\n",
    "\n",
    "plt.figure(figsize=(15,6));\n",
    "plot_dists_and_errorbars(sag13dists, 1, [0, 4])\n",
    "plt.xlabel(r\"SAG13 $\\eta_{\\oplus}$\", fontSize = 36);\n",
    "plt.savefig(\"bootstrapComparison/sag13etaEarthDistWithReliability.pdf\",bbox_inches='tight')\n",
    "plt.title(\"Distribution for SAG13 $\\eta_{\\oplus}$, with reliability\", fontsize=18);\n"
   ]
  },
  {
   "cell_type": "code",
   "execution_count": 29,
   "metadata": {},
   "outputs": [
    {
     "name": "stdout",
     "output_type": "stream",
     "text": [
      "Bootstrap SAG 13 Eta-Earth Without Reliability = 1.203^{+0.766}_{-0.474}\n",
      "Bootstrap SAG 13 Eta-Earth With Reliability = 0.251^{+0.278}_{-0.138}\n"
     ]
    },
    {
     "data": {
      "image/png": "[encoded data removed]",
      "text/plain": [
       "<Figure size 1080x432 with 1 Axes>"
      ]
     },
     "metadata": {
      "needs_background": "light"
     },
     "output_type": "display_data"
    }
   ],
   "source": [
    "sag13BootDistNR, sag13BootDistWR = assemble_bootstrap_dists(sag13dists)\n",
    "print(\"Bootstrap SAG 13 Eta-Earth Without Reliability = \" + printMedianAndErrorbars(sag13BootDistNR))\n",
    "print(\"Bootstrap SAG 13 Eta-Earth With Reliability = \" + printMedianAndErrorbars(sag13BootDistWR))\n",
    "\n",
    "plt.figure(figsize=(15,6));\n",
    "plt.hist(sag13BootDistWR, 100, histtype=\"step\", color=cbc[0], density=True);\n",
    "plt.hist(sag13dists[9], 100, histtype=\"step\", color='k', density=True);\n",
    "ylim = plt.ylim()\n",
    "\n",
    "stats0 = medianAndErrorbars(sag13BootDistWR)\n",
    "plt.errorbar(stats0[0], 0.98*ylim[1], xerr=[[stats0[2]],[stats0[1]]], capsize = capsize, color = cbc[0], fmt='--o')\n",
    "stats0 = medianAndErrorbars(sag13dists[9])\n",
    "plt.errorbar(stats0[0], 1.00*ylim[1], xerr=[[stats0[2]],[stats0[1]]], capsize = capsize, color = 'k', fmt='--+')\n",
    "plt.gca().set_yticklabels([])\n",
    "plt.tick_params(labelsize = 24)\n",
    "plt.xlabel(r\"SAG13 $\\eta_{\\oplus}$\", fontSize = 36);\n",
    "plt.savefig(\"bootstrapComparison/sag13etaEarthBootDistWithReliability.pdf\",bbox_inches='tight')\n",
    "plt.title(\"Distribution for SAG13 $\\eta_{\\oplus}$, with reliability\", fontsize=18);\n"
   ]
  },
  {
   "cell_type": "code",
   "execution_count": 33,
   "metadata": {},
   "outputs": [
    {
     "data": {
      "text/plain": [
       "0.06655239191403664"
      ]
     },
     "execution_count": 33,
     "metadata": {},
     "output_type": "execute_result"
    }
   ],
   "source": [
    "np.percentile(sag13BootDistWR, 5)"
   ]
  },
  {
   "cell_type": "code",
   "execution_count": 34,
   "metadata": {},
   "outputs": [
    {
     "data": {
      "text/plain": [
       "0.8272469199014597"
      ]
     },
     "execution_count": 34,
     "metadata": {},
     "output_type": "execute_result"
    }
   ],
   "source": [
    "np.percentile(sag13BootDistWR, 95)"
   ]
  },
  {
   "cell_type": "code",
   "execution_count": null,
   "metadata": {},
   "outputs": [],
   "source": []
  }
 ],
 "metadata": {
  "kernelspec": {
   "display_name": "Python 3",
   "language": "python",
   "name": "python3"
  },
  "language_info": {
   "codemirror_mode": {
    "name": "ipython",
    "version": 3
   },
   "file_extension": ".py",
   "mimetype": "text/x-python",
   "name": "python",
   "nbconvert_exporter": "python",
   "pygments_lexer": "ipython3",
   "version": "3.6.10"
  }
 },
 "nbformat": 4,
 "nbformat_minor": 2
}
