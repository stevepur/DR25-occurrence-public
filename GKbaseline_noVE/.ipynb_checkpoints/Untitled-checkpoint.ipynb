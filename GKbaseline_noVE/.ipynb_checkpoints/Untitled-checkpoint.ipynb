{
 "cells": [
  {
   "cell_type": "code",
   "execution_count": 2,
   "metadata": {},
   "outputs": [],
   "source": [
    "import numpy as np\n",
    "import matplotlib.pyplot as plt\n",
    "import scipy.special as spec\n",
    "import pandas as pd\n",
    "from astropy.io import ascii\n",
    "from astropy.table import Table, vstack\n",
    "import pickle\n",
    "from mpl_toolkits.mplot3d import Axes3D  \n",
    "from matplotlib import cm\n",
    "from ipywidgets import FloatProgress\n",
    "from IPython.display import display\n"
   ]
  },
  {
   "cell_type": "code",
   "execution_count": null,
   "metadata": {},
   "outputs": [],
   "source": [
    "dr25CleanStellarGKIso = pd.read_csv(\"../stellarCatalogs/dr25_stellar_supp_gaia_clean_GK.txt\")\n",
    "dr25CleanStellarAllIso = pd.read_csv(\"../stellarCatalogs/dr25_stellar_supp_gaia_logg.txt\")\n",
    "dr25CleanStellarFeh = pd.read_csv(\"../stellarCatalogs/dr25_stellar_updated_feh.txt\")\n",
    "dr25CleanStellarFehAll = pd.read_csv(\"../stellarCatalogs/dr25_stellar_updated_feh_all.txt\")\n",
    "dr25CleanStellarSuppGaia = pd.read_csv(\"../stellarCatalogs/dr25_stellar_supp_gaia.txt\")\n",
    "base_kois = pd.read_csv(\"koiCatalogs/dr25_GK_PCs.csv\")\n",
    "# base_kois = pd.read_csv(\"koiCatalogs/dr25_GK_burke_catalog_PCs.csv\")\n"
   ]
  },
  {
   "cell_type": "code",
   "execution_count": null,
   "metadata": {},
   "outputs": [],
   "source": [
    "# ChrisStars = pd.read_csv(\"Chris/DR25_GKdwarf_Clean.txt\", sep=\" \")\n",
    "\n",
    "ChrisStars = pd.read_csv(\"Chris/DR25_GKdwarf_GAIA_Clean.txt\", sep=\" \")\n",
    "\n",
    "if False:\n",
    "    ChrisPCs = pd.read_csv(\"Chris/DR25_GKdwarf_PC_GAIA_Scr2Clean.txt\", sep=\"|\")\n",
    "\n",
    "    ChrisPCs[\"kepoi_name\"] = \"\"\n",
    "    f = FloatProgress(min=0, max=len(ChrisPCs))\n",
    "    display(f)\n",
    "    for i in range(len(ChrisPCs)):\n",
    "        ChrisPCs.kepoi_name[i] = ChrisPCs.chris_kepoi_string[i][0:9]\n",
    "        f.value += 1\n",
    "    ChrisPCs.to_csv(\"Chris/DR25_GKdwarf_PC_GAIA_Scr2Clean_renamed.csv\", index=False)\n",
    "else:\n",
    "    ChrisPCs = pd.read_csv(\"Chris/DR25_GKdwarf_PC_GAIA_Scr2Clean_renamed.csv\")\n",
    "\n"
   ]
  },
  {
   "cell_type": "code",
   "execution_count": null,
   "metadata": {},
   "outputs": [],
   "source": [
    "mergedDr25Stellar = pd.merge(dr25CleanStellarGKIso, ChrisStars, on=\"kepid\", how=\"inner\")\n",
    "mergedPCs = pd.merge(base_kois, ChrisPCs, on=\"kepoi_name\", how=\"inner\")\n",
    "\n",
    "chrisPCNotInMerge = ChrisPCs[~ChrisPCs.kepoi_name.isin(mergedPCs.kepoi_name)]"
   ]
  },
  {
   "cell_type": "code",
   "execution_count": null,
   "metadata": {
    "scrolled": true
   },
   "outputs": [],
   "source": [
    "ChrisPCs.kepoi_name[0]"
   ]
  },
  {
   "cell_type": "code",
   "execution_count": null,
   "metadata": {},
   "outputs": [],
   "source": [
    "base_kois"
   ]
  },
  {
   "cell_type": "code",
   "execution_count": null,
   "metadata": {
    "scrolled": true
   },
   "outputs": [],
   "source": [
    "period_rng = (50, 200)\n",
    "rp_rng = (1., 2.)\n",
    "\n",
    "chrisPCNotInMergeInBox = chrisPCNotInMerge[(chrisPCNotInMerge.chris_period>=period_rng[0])&(chrisPCNotInMerge.chris_period<=period_rng[1])&(chrisPCNotInMerge.chris_prad>=rp_rng[0])&(chrisPCNotInMerge.chris_prad<=rp_rng[1])]\n",
    "print(len(chrisPCNotInMergeInBox))\n",
    "\n",
    "chrisPCNotInMergeInBox\n",
    "\n"
   ]
  },
  {
   "cell_type": "code",
   "execution_count": null,
   "metadata": {},
   "outputs": [],
   "source": [
    "print(\"There are \" + str(len(dr25CleanStellarGKIso)) + \" Berger2019 GK stars\")\n",
    "\n",
    "\n"
   ]
  },
  {
   "cell_type": "code",
   "execution_count": null,
   "metadata": {},
   "outputs": [],
   "source": [
    "ChrisStars[ChrisStars.kepid == 5888187]"
   ]
  },
  {
   "cell_type": "code",
   "execution_count": null,
   "metadata": {},
   "outputs": [],
   "source": [
    "dr25CleanStellarFeh[dr25CleanStellarFeh.kepid == 5888187]"
   ]
  },
  {
   "cell_type": "code",
   "execution_count": null,
   "metadata": {},
   "outputs": [],
   "source": [
    "dr25CleanStellarFehAll[dr25CleanStellarFehAll.kepid == 5888187]"
   ]
  },
  {
   "cell_type": "code",
   "execution_count": null,
   "metadata": {},
   "outputs": [],
   "source": [
    "dr25CleanStellarSuppGaia[dr25CleanStellarSuppGaia.kepid == 5888187]"
   ]
  },
  {
   "cell_type": "code",
   "execution_count": null,
   "metadata": {},
   "outputs": [],
   "source": [
    "dr25CleanStellarAllIso[dr25CleanStellarAllIso.kepid == 5888187]"
   ]
  },
  {
   "cell_type": "code",
   "execution_count": null,
   "metadata": {},
   "outputs": [],
   "source": [
    "dr25CleanStellarGKIso[dr25CleanStellarGKIso.kepid == 5888187]"
   ]
  },
  {
   "cell_type": "code",
   "execution_count": null,
   "metadata": {},
   "outputs": [],
   "source": [
    "print(str(len(chrisPCNotInMergeInBox[~chrisPCNotInMergeInBox.kepoi_name.isin(dr25CleanStellarAllIso.kepid)]))\n",
    "         + \" of \" + str(len(chrisPCNotInMergeInBox)) + \" in-box Chris PCs not in the merge are not in the Berger 2019 catalog\")"
   ]
  },
  {
   "cell_type": "code",
   "execution_count": null,
   "metadata": {},
   "outputs": [],
   "source": [
    "len(ChrisPCs)"
   ]
  },
  {
   "cell_type": "code",
   "execution_count": null,
   "metadata": {},
   "outputs": [],
   "source": [
    "len(mergedPCs)"
   ]
  },
  {
   "cell_type": "code",
   "execution_count": null,
   "metadata": {},
   "outputs": [],
   "source": [
    "len(base_kois)"
   ]
  },
  {
   "cell_type": "code",
   "execution_count": null,
   "metadata": {},
   "outputs": [],
   "source": [
    "plt.figure(figsize=(5,5));\n",
    "plt.plot(mergedPCs.corrected_prad, mergedPCs.chris_prad, \"k.\");\n",
    "plt.title(\"PCs GK dwarfs\")\n",
    "plt.xlabel(\"iso-fitted corrected radius\")\n",
    "plt.ylabel(\"Burke corrected radius\")\n",
    "\n",
    "dd = mergedPCs.corrected_prad/mergedPCs.chris_prad\n",
    "\n",
    "plt.figure(figsize=(5,5));\n",
    "plt.hist(dd, 100);\n",
    "plt.title(\"PCs GK dwarfs ratio of iso-fitted corrected radius to Burke corrected radius\")\n",
    "plt.xlabel(\"ratio\")\n"
   ]
  },
  {
   "cell_type": "code",
   "execution_count": null,
   "metadata": {},
   "outputs": [],
   "source": [
    "steveInBoxPcs = mergedPCs[(mergedPCs.koi_period>=period_rng[0])&(mergedPCs.koi_period<=period_rng[1])&(mergedPCs.corrected_prad>=rp_rng[0])&(mergedPCs.corrected_prad<=rp_rng[1])]\n",
    "chrisInBoxPcs = mergedPCs[(mergedPCs.chris_period>=period_rng[0])&(mergedPCs.chris_period<=period_rng[1])&(mergedPCs.chris_prad>=rp_rng[0])&(mergedPCs.chris_prad<=rp_rng[1])]\n",
    "chrisOrigInBoxPcs = ChrisPCs[(ChrisPCs.chris_period>=period_rng[0])&(ChrisPCs.chris_period<=period_rng[1])&(ChrisPCs.chris_prad>=rp_rng[0])&(ChrisPCs.chris_prad<=rp_rng[1])]\n",
    "print(\"There are \" + str(len(steveInBoxPcs)) + \" steve PCs in the box\")\n",
    "print(\"There are \" + str(len(chrisInBoxPcs)) + \" chris PCs in the box\")\n",
    "print(\"There are \" + str(len(chrisOrigInBoxPcs)) + \" original chris PCs in the box\")\n"
   ]
  },
  {
   "cell_type": "code",
   "execution_count": null,
   "metadata": {},
   "outputs": [],
   "source": [
    "plt.figure(figsize=(5,5));\n",
    "plt.plot(mergedDr25Stellar.radius_x, mergedDr25Stellar.radius_y, \"k.\");\n",
    "plt.title(\"GK dwarfs\")\n",
    "plt.xlabel(\"Berger original radius\")\n",
    "plt.ylabel(\"Burke radius\")\n"
   ]
  },
  {
   "cell_type": "code",
   "execution_count": null,
   "metadata": {},
   "outputs": [],
   "source": [
    "plt.figure(figsize=(5,5));\n",
    "plt.plot(mergedDr25Stellar.iso_rad, mergedDr25Stellar.radius_y, \"k.\");\n",
    "plt.title(\"GK dwarfs\")\n",
    "plt.xlabel(\"Berger isochrone-fitted radius\")\n",
    "plt.ylabel(\"Burke radius\")\n"
   ]
  },
  {
   "cell_type": "code",
   "execution_count": null,
   "metadata": {
    "scrolled": false
   },
   "outputs": [],
   "source": [
    "dd = mergedDr25Stellar.iso_rad/mergedDr25Stellar.radius_y\n",
    "\n",
    "plt.figure(figsize=(5,5));\n",
    "plt.hist(dd, 100);\n",
    "plt.title(\"ratio of Berger isochrone-fitted radius to Burke radius\")\n",
    "plt.xlabel(\"ratio\")\n"
   ]
  },
  {
   "cell_type": "code",
   "execution_count": null,
   "metadata": {},
   "outputs": [],
   "source": [
    "dr25CleanStellarFeh[dr25CleanStellarFeh.kepid.isin(chrisPCNotInMergeInBox.chris_kepid)][\"kepid\"]"
   ]
  },
  {
   "cell_type": "code",
   "execution_count": null,
   "metadata": {},
   "outputs": [],
   "source": [
    "dr25CleanStellarFeh[dr25CleanStellarFeh.kepid.isin(chrisPCNotInMergeInBox.chris_kepid)][\"kepmag\"]"
   ]
  },
  {
   "cell_type": "code",
   "execution_count": null,
   "metadata": {},
   "outputs": [],
   "source": [
    "68284 - 63631"
   ]
  },
  {
   "cell_type": "code",
   "execution_count": null,
   "metadata": {},
   "outputs": [],
   "source": [
    "missing = dr25CleanStellarFeh[dr25CleanStellarFeh.kepid.isin(chrisPCNotInMergeInBox.chris_kepid)]\n",
    "print(\"kepid     kepmag\")\n",
    "for i in range(len(missing)):\n",
    "    print(str(missing.iloc[i][\"kepid\"]) + \"    \" + str(missing.iloc[i][\"kepmag\"]))"
   ]
  },
  {
   "cell_type": "code",
   "execution_count": null,
   "metadata": {},
   "outputs": [],
   "source": []
  }
 ],
 "metadata": {
  "kernelspec": {
   "display_name": "Python 2",
   "language": "python",
   "name": "python2"
  },
  "language_info": {
   "codemirror_mode": {
    "name": "ipython",
    "version": 2
   },
   "file_extension": ".py",
   "mimetype": "text/x-python",
   "name": "python",
   "nbconvert_exporter": "python",
   "pygments_lexer": "ipython2",
   "version": "2.7.15"
  }
 },
 "nbformat": 4,
 "nbformat_minor": 2
}
