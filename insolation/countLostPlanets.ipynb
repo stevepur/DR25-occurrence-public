{
 "cells": [
  {
   "cell_type": "code",
   "execution_count": 1,
   "metadata": {},
   "outputs": [],
   "source": [
    "import numpy as np\n",
    "import matplotlib.pyplot as plt\n",
    "import scipy.special as spec\n",
    "import pandas as pd\n",
    "from astropy.io import ascii\n",
    "from astropy.table import Table, vstack\n"
   ]
  },
  {
   "cell_type": "code",
   "execution_count": 3,
   "metadata": {},
   "outputs": [
    {
     "name": "stdout",
     "output_type": "stream",
     "text": [
      "Loaded 8054 KOIs\n",
      "Loaded 2520 FGK PCs\n"
     ]
    }
   ],
   "source": [
    "dr25Koi = pd.read_csv(\"../GKBaseline/koiCatalogs/dr25_kois_archive.txt\", dtype={\"kepoi_name\":str})\n",
    "print(\"Loaded \" + str(len(dr25Koi)) + \" KOIs\")\n",
    "\n",
    "fgkPCs = pd.read_csv(\"koiCatalogs/PCs_dr25_FGK.csv\", dtype={\"kepoi_name\":str})\n",
    "print(\"Loaded \" + str(len(fgkPCs)) + \" FGK PCs\")\n"
   ]
  },
  {
   "cell_type": "code",
   "execution_count": 6,
   "metadata": {},
   "outputs": [],
   "source": [
    "travisData = pd.read_csv(\"../data/GKSPCIIPapTable1_2020-05-28.csv\")\n",
    "for i in range(len(travisData)):\n",
    "    travisData.loc[i, \"kepoi_name\"] = \"K%08.2f\"%travisData.loc[i].KOI\n",
    "    \n",
    "dr25Koi = pd.merge(dr25Koi, travisData, on=\"kepoi_name\", how=\"inner\")\n",
    "dr25Koi[\"insolation\"] = dr25Koi.gaia_iso_insol;\n"
   ]
  },
  {
   "cell_type": "code",
   "execution_count": 23,
   "metadata": {},
   "outputs": [
    {
     "name": "stdout",
     "output_type": "stream",
     "text": [
      "57 KOIs in the box\n",
      "54 FGKs in the box\n"
     ]
    }
   ],
   "source": [
    "dr25KOIsInBox = dr25Koi[(dr25Koi.gaia_iso_prad < 2.5) \n",
    "                        & (dr25Koi.gaia_iso_insol < 2.2) \n",
    "                        & (dr25Koi.gaia_iso_insol > 0.2)\n",
    "                        & (dr25Koi.koi_pdisposition == \"CANDIDATE\")]\n",
    "print(str(len(dr25KOIsInBox)) + \" KOIs in the box\")\n",
    "\n",
    "fgkPCsInBox = fgkPCs[(fgkPCs.gaia_iso_prad < 2.5) \n",
    "                        & (fgkPCs.gaia_iso_insol < 2.2) \n",
    "                        & (fgkPCs.gaia_iso_insol > 0.2)]\n",
    "print(str(len(fgkPCsInBox)) + \" FGKs in the box\")\n"
   ]
  },
  {
   "cell_type": "code",
   "execution_count": 24,
   "metadata": {},
   "outputs": [
    {
     "name": "stdout",
     "output_type": "stream",
     "text": [
      "3 KOIs in the box not in FGK\n"
     ]
    }
   ],
   "source": [
    "dr25KOIsInBoxNotInFgks = dr25KOIsInBox[~dr25KOIsInBox.kepid.isin(fgkPCsInBox.kepid_x)]\n",
    "print(str(len(dr25KOIsInBoxNotInFgks)) + \" KOIs in the box not in FGK\")\n"
   ]
  },
  {
   "cell_type": "code",
   "execution_count": 27,
   "metadata": {},
   "outputs": [
    {
     "data": {
      "text/html": [
       "<div>\n",
       "<style scoped>\n",
       "    .dataframe tbody tr th:only-of-type {\n",
       "        vertical-align: middle;\n",
       "    }\n",
       "\n",
       "    .dataframe tbody tr th {\n",
       "        vertical-align: top;\n",
       "    }\n",
       "\n",
       "    .dataframe thead th {\n",
       "        text-align: right;\n",
       "    }\n",
       "</style>\n",
       "<table border=\"1\" class=\"dataframe\">\n",
       "  <thead>\n",
       "    <tr style=\"text-align: right;\">\n",
       "      <th></th>\n",
       "      <th>kepid</th>\n",
       "      <th>kepoi_name</th>\n",
       "      <th>koi_tce_plnt_num</th>\n",
       "      <th>koi_pdisposition</th>\n",
       "      <th>koi_score</th>\n",
       "      <th>koi_period</th>\n",
       "      <th>koi_max_mult_ev</th>\n",
       "      <th>koi_prad</th>\n",
       "      <th>koi_prad_err1</th>\n",
       "      <th>koi_prad_err2</th>\n",
       "      <th>...</th>\n",
       "      <th>gaia_iso_prad_errm</th>\n",
       "      <th>gaia_iso_sma</th>\n",
       "      <th>gaia_iso_sma_errp</th>\n",
       "      <th>gaia_iso_sma_errm</th>\n",
       "      <th>gaia_iso_insol</th>\n",
       "      <th>gaia_iso_insol_errp</th>\n",
       "      <th>gaia_iso_insol_errm</th>\n",
       "      <th>ZAMSFlux</th>\n",
       "      <th>Flag</th>\n",
       "      <th>insolation</th>\n",
       "    </tr>\n",
       "  </thead>\n",
       "  <tbody>\n",
       "    <tr>\n",
       "      <th>200</th>\n",
       "      <td>6435936</td>\n",
       "      <td>K00854.01</td>\n",
       "      <td>1</td>\n",
       "      <td>CANDIDATE</td>\n",
       "      <td>0.996</td>\n",
       "      <td>56.056075</td>\n",
       "      <td>19.254200</td>\n",
       "      <td>1.94</td>\n",
       "      <td>0.12</td>\n",
       "      <td>-0.22</td>\n",
       "      <td>...</td>\n",
       "      <td>0.083025</td>\n",
       "      <td>0.233494</td>\n",
       "      <td>0.001885</td>\n",
       "      <td>0.001954</td>\n",
       "      <td>0.944913</td>\n",
       "      <td>0.096387</td>\n",
       "      <td>0.084826</td>\n",
       "      <td>0.742053</td>\n",
       "      <td>HZAO</td>\n",
       "      <td>0.944913</td>\n",
       "    </tr>\n",
       "    <tr>\n",
       "      <th>2758</th>\n",
       "      <td>4172805</td>\n",
       "      <td>K04427.01</td>\n",
       "      <td>1</td>\n",
       "      <td>CANDIDATE</td>\n",
       "      <td>0.969</td>\n",
       "      <td>147.661729</td>\n",
       "      <td>10.793761</td>\n",
       "      <td>1.59</td>\n",
       "      <td>0.12</td>\n",
       "      <td>-0.14</td>\n",
       "      <td>...</td>\n",
       "      <td>0.094362</td>\n",
       "      <td>0.447414</td>\n",
       "      <td>0.003522</td>\n",
       "      <td>0.003619</td>\n",
       "      <td>0.318758</td>\n",
       "      <td>0.033427</td>\n",
       "      <td>0.030053</td>\n",
       "      <td>0.248065</td>\n",
       "      <td>HZAO</td>\n",
       "      <td>0.318758</td>\n",
       "    </tr>\n",
       "    <tr>\n",
       "      <th>3295</th>\n",
       "      <td>9278575</td>\n",
       "      <td>K07932.01</td>\n",
       "      <td>1</td>\n",
       "      <td>CANDIDATE</td>\n",
       "      <td>0.230</td>\n",
       "      <td>502.256480</td>\n",
       "      <td>7.206314</td>\n",
       "      <td>1.03</td>\n",
       "      <td>0.22</td>\n",
       "      <td>-0.15</td>\n",
       "      <td>...</td>\n",
       "      <td>0.235062</td>\n",
       "      <td>1.253948</td>\n",
       "      <td>0.027281</td>\n",
       "      <td>0.024871</td>\n",
       "      <td>2.033609</td>\n",
       "      <td>0.200840</td>\n",
       "      <td>0.213520</td>\n",
       "      <td>0.667615</td>\n",
       "      <td>NaN</td>\n",
       "      <td>2.033609</td>\n",
       "    </tr>\n",
       "  </tbody>\n",
       "</table>\n",
       "<p>3 rows × 28 columns</p>\n",
       "</div>"
      ],
      "text/plain": [
       "        kepid kepoi_name  koi_tce_plnt_num koi_pdisposition  koi_score  \\\n",
       "200   6435936  K00854.01                 1        CANDIDATE      0.996   \n",
       "2758  4172805  K04427.01                 1        CANDIDATE      0.969   \n",
       "3295  9278575  K07932.01                 1        CANDIDATE      0.230   \n",
       "\n",
       "      koi_period  koi_max_mult_ev  koi_prad  koi_prad_err1  koi_prad_err2  \\\n",
       "200    56.056075        19.254200      1.94           0.12          -0.22   \n",
       "2758  147.661729        10.793761      1.59           0.12          -0.14   \n",
       "3295  502.256480         7.206314      1.03           0.22          -0.15   \n",
       "\n",
       "      ...  gaia_iso_prad_errm  gaia_iso_sma  gaia_iso_sma_errp  \\\n",
       "200   ...            0.083025      0.233494           0.001885   \n",
       "2758  ...            0.094362      0.447414           0.003522   \n",
       "3295  ...            0.235062      1.253948           0.027281   \n",
       "\n",
       "      gaia_iso_sma_errm  gaia_iso_insol gaia_iso_insol_errp  \\\n",
       "200            0.001954        0.944913            0.096387   \n",
       "2758           0.003619        0.318758            0.033427   \n",
       "3295           0.024871        2.033609            0.200840   \n",
       "\n",
       "      gaia_iso_insol_errm  ZAMSFlux  Flag  insolation  \n",
       "200              0.084826  0.742053  HZAO    0.944913  \n",
       "2758             0.030053  0.248065  HZAO    0.318758  \n",
       "3295             0.213520  0.667615   NaN    2.033609  \n",
       "\n",
       "[3 rows x 28 columns]"
      ]
     },
     "execution_count": 27,
     "metadata": {},
     "output_type": "execute_result"
    }
   ],
   "source": [
    "dr25KOIsInBoxNotInFgks"
   ]
  },
  {
   "cell_type": "code",
   "execution_count": 29,
   "metadata": {},
   "outputs": [
    {
     "name": "stdout",
     "output_type": "stream",
     "text": [
      "Loaded 162219 stars\n"
     ]
    }
   ],
   "source": [
    "allStars = pd.read_csv(\"../stellarCatalogs/dr25_stellar_berger2020.txt\")\n",
    "print(\"Loaded \" + str(len(allStars)) + \" stars\")\n"
   ]
  },
  {
   "cell_type": "code",
   "execution_count": 64,
   "metadata": {},
   "outputs": [
    {
     "name": "stdout",
     "output_type": "stream",
     "text": [
      "K00854.01 95088    3686.075212\n",
      "Name: teff, dtype: float64\n",
      "K04427.01 59962    3895.177497\n",
      "Name: teff, dtype: float64\n",
      "K07932.01 146747    5690.986001\n",
      "Name: teff, dtype: float64\n"
     ]
    }
   ],
   "source": [
    "for i, p in dr25KOIsInBoxNotInFgks.iterrows():\n",
    "    print(p.kepoi_name, allStars[allStars.kepid == p.kepid].teff)"
   ]
  },
  {
   "cell_type": "code",
   "execution_count": null,
   "metadata": {},
   "outputs": [],
   "source": [
    "for i, p in dr25KOIsInBoxNotInFgks.iterrows():\n",
    "    print(allStars[allStars.kepid == p.kepid].RUWE)"
   ]
  },
  {
   "cell_type": "code",
   "execution_count": 42,
   "metadata": {},
   "outputs": [
    {
     "name": "stdout",
     "output_type": "stream",
     "text": [
      "95088    0.0095\n",
      "dtype: float64\n",
      "59962    0.0039\n",
      "dtype: float64\n",
      "146747    0.0036\n",
      "dtype: float64\n"
     ]
    }
   ],
   "source": [
    "for i, p in dr25KOIsInBoxNotInFgks.iterrows():\n",
    "    dutyCycleChange = allStars[allStars.kepid == p.kepid].dutycycle - allStars[allStars.kepid == p.kepid].dutycycle_post\n",
    "    print(dutyCycleChange)"
   ]
  },
  {
   "cell_type": "code",
   "execution_count": 43,
   "metadata": {},
   "outputs": [
    {
     "name": "stdout",
     "output_type": "stream",
     "text": [
      "95088    0.8732\n",
      "Name: dutycycle, dtype: float64\n",
      "59962    0.698\n",
      "Name: dutycycle, dtype: float64\n",
      "146747    0.8734\n",
      "Name: dutycycle, dtype: float64\n"
     ]
    }
   ],
   "source": [
    "for i, p in dr25KOIsInBoxNotInFgks.iterrows():\n",
    "    print(allStars[allStars.kepid == p.kepid].dutycycle)"
   ]
  },
  {
   "cell_type": "code",
   "execution_count": 44,
   "metadata": {},
   "outputs": [
    {
     "name": "stdout",
     "output_type": "stream",
     "text": [
      "95088    1458.931\n",
      "Name: dataspan, dtype: float64\n",
      "59962    1458.931\n",
      "Name: dataspan, dtype: float64\n",
      "146747    1458.931\n",
      "Name: dataspan, dtype: float64\n"
     ]
    }
   ],
   "source": [
    "for i, p in dr25KOIsInBoxNotInFgks.iterrows():\n",
    "    print(allStars[allStars.kepid == p.kepid].dataspan)"
   ]
  },
  {
   "cell_type": "code",
   "execution_count": 45,
   "metadata": {},
   "outputs": [
    {
     "name": "stdout",
     "output_type": "stream",
     "text": [
      "95088    1.0\n",
      "Name: timeoutsumry, dtype: float64\n",
      "59962    1.0\n",
      "Name: timeoutsumry, dtype: float64\n",
      "146747    1.0\n",
      "Name: timeoutsumry, dtype: float64\n"
     ]
    }
   ],
   "source": [
    "for i, p in dr25KOIsInBoxNotInFgks.iterrows():\n",
    "    print(allStars[allStars.kepid == p.kepid].timeoutsumry)"
   ]
  },
  {
   "cell_type": "code",
   "execution_count": 46,
   "metadata": {},
   "outputs": [
    {
     "name": "stdout",
     "output_type": "stream",
     "text": [
      "95088    0.609892\n",
      "Name: limbdark_coeff1, dtype: float64\n",
      "95088   -0.16199\n",
      "Name: limbdark_coeff2, dtype: float64\n",
      "95088    0.657235\n",
      "Name: limbdark_coeff3, dtype: float64\n",
      "95088   -0.263529\n",
      "Name: limbdark_coeff4, dtype: float64\n",
      "59962    0.585469\n",
      "Name: limbdark_coeff1, dtype: float64\n",
      "59962    0.163967\n",
      "Name: limbdark_coeff2, dtype: float64\n",
      "59962    0.173391\n",
      "Name: limbdark_coeff3, dtype: float64\n",
      "59962   -0.086793\n",
      "Name: limbdark_coeff4, dtype: float64\n",
      "146747    0.432897\n",
      "Name: limbdark_coeff1, dtype: float64\n",
      "146747    0.302951\n",
      "Name: limbdark_coeff2, dtype: float64\n",
      "146747    0.150653\n",
      "Name: limbdark_coeff3, dtype: float64\n",
      "146747   -0.147388\n",
      "Name: limbdark_coeff4, dtype: float64\n"
     ]
    }
   ],
   "source": [
    "for i, p in dr25KOIsInBoxNotInFgks.iterrows():\n",
    "    print(allStars[allStars.kepid == p.kepid].limbdark_coeff1)\n",
    "    print(allStars[allStars.kepid == p.kepid].limbdark_coeff2)\n",
    "    print(allStars[allStars.kepid == p.kepid].limbdark_coeff3)\n",
    "    print(allStars[allStars.kepid == p.kepid].limbdark_coeff4)\n",
    "    \n",
    "    \n",
    "    "
   ]
  },
  {
   "cell_type": "code",
   "execution_count": 48,
   "metadata": {},
   "outputs": [
    {
     "name": "stdout",
     "output_type": "stream",
     "text": [
      "95088    False\n",
      "Name: kepid, dtype: bool\n",
      "59962    False\n",
      "Name: kepid, dtype: bool\n",
      "146747    False\n",
      "Name: kepid, dtype: bool\n"
     ]
    }
   ],
   "source": [
    "noisyTargets = pd.read_csv(\"../data/DR25_DEModel_NoisyTargetList.txt\", header=9)\n",
    "# cleanDr25GaiaStellar = cleanDr25GaiaStellar[~cleanDr25GaiaStellar.kepid.isin(noisyTargets['# 1- Kepler ID'])]\n",
    "for i, p in dr25KOIsInBoxNotInFgks.iterrows():\n",
    "    print(allStars[allStars.kepid == p.kepid].kepid.isin(noisyTargets['# 1- Kepler ID']))\n"
   ]
  },
  {
   "cell_type": "code",
   "execution_count": 49,
   "metadata": {},
   "outputs": [
    {
     "name": "stdout",
     "output_type": "stream",
     "text": [
      "840    K00854.01\n",
      "Name: kepoi_name, dtype: object\n",
      "2950    K04427.01\n",
      "Name: kepoi_name, dtype: object\n",
      "3832    K07932.01\n",
      "Name: kepoi_name, dtype: object\n"
     ]
    }
   ],
   "source": [
    "for i, p in dr25KOIsInBoxNotInFgks.iterrows():\n",
    "    print(travisData[travisData.kepoi_name == p.kepoi_name].kepoi_name)\n"
   ]
  },
  {
   "cell_type": "code",
   "execution_count": 50,
   "metadata": {},
   "outputs": [
    {
     "data": {
      "text/plain": [
       "200     K00854.01\n",
       "2758    K04427.01\n",
       "3295    K07932.01\n",
       "Name: kepoi_name, dtype: object"
      ]
     },
     "execution_count": 50,
     "metadata": {},
     "output_type": "execute_result"
    }
   ],
   "source": [
    "dr25KOIsInBoxNotInFgks.kepoi_name"
   ]
  },
  {
   "cell_type": "code",
   "execution_count": 51,
   "metadata": {},
   "outputs": [
    {
     "data": {
      "text/plain": [
       "200     0.944913\n",
       "2758    0.318758\n",
       "3295    2.033609\n",
       "Name: insolation, dtype: float64"
      ]
     },
     "execution_count": 51,
     "metadata": {},
     "output_type": "execute_result"
    }
   ],
   "source": [
    "dr25KOIsInBoxNotInFgks.insolation"
   ]
  },
  {
   "cell_type": "code",
   "execution_count": 54,
   "metadata": {},
   "outputs": [
    {
     "name": "stdout",
     "output_type": "stream",
     "text": [
      "Series([], Name: kepoi_name, dtype: object)\n",
      "Series([], Name: kepoi_name, dtype: object)\n",
      "Series([], Name: kepoi_name, dtype: object)\n"
     ]
    }
   ],
   "source": [
    "for i, p in dr25KOIsInBoxNotInFgks.iterrows():\n",
    "    print(fgkPCs[fgkPCs.kepoi_name == p.kepoi_name].kepoi_name)\n"
   ]
  },
  {
   "cell_type": "code",
   "execution_count": 55,
   "metadata": {},
   "outputs": [
    {
     "name": "stdout",
     "output_type": "stream",
     "text": [
      "Loaded 80929 clean FGKs\n"
     ]
    }
   ],
   "source": [
    "cleanFGKs = pd.read_csv(\"../stellarCatalogs/dr25_stellar_berger2020_clean_FGK.txt\")\n",
    "print(\"Loaded \" + str(len(cleanFGKs)) + \" clean FGKs\")\n"
   ]
  },
  {
   "cell_type": "code",
   "execution_count": 58,
   "metadata": {},
   "outputs": [
    {
     "name": "stdout",
     "output_type": "stream",
     "text": [
      "Series([], Name: kepid, dtype: int64)\n",
      "Series([], Name: kepid, dtype: int64)\n",
      "Series([], Name: kepid, dtype: int64)\n"
     ]
    }
   ],
   "source": [
    "for i, p in dr25KOIsInBoxNotInFgks.iterrows():\n",
    "    print(cleanFGKs[cleanFGKs.kepid == p.kepid].kepid)"
   ]
  },
  {
   "cell_type": "code",
   "execution_count": 57,
   "metadata": {},
   "outputs": [
    {
     "name": "stdout",
     "output_type": "stream",
     "text": [
      "95088    0\n",
      "Name: Bin, dtype: int64\n",
      "59962    0\n",
      "Name: Bin, dtype: int64\n",
      "146747    0\n",
      "Name: Bin, dtype: int64\n"
     ]
    }
   ],
   "source": [
    "for i, p in dr25KOIsInBoxNotInFgks.iterrows():\n",
    "    print(allStars[allStars.kepid == p.kepid].Bin)"
   ]
  },
  {
   "cell_type": "code",
   "execution_count": 59,
   "metadata": {},
   "outputs": [
    {
     "name": "stdout",
     "output_type": "stream",
     "text": [
      "Loaded 80929 evolved stars\n"
     ]
    }
   ],
   "source": [
    "evolvedStars = pd.read_csv(\"../stellarCatalogs/dr25_stellar_berger2020_evolved.txt\")\n",
    "print(\"Loaded \" + str(len(cleanFGKs)) + \" evolved stars\")\n"
   ]
  },
  {
   "cell_type": "code",
   "execution_count": 60,
   "metadata": {},
   "outputs": [
    {
     "name": "stdout",
     "output_type": "stream",
     "text": [
      "Series([], Name: kepid, dtype: int64)\n",
      "Series([], Name: kepid, dtype: int64)\n",
      "50550    9278575\n",
      "Name: kepid, dtype: int64\n"
     ]
    }
   ],
   "source": [
    "for i, p in dr25KOIsInBoxNotInFgks.iterrows():\n",
    "    print(evolvedStars[evolvedStars.kepid == p.kepid].kepid)"
   ]
  },
  {
   "cell_type": "code",
   "execution_count": 62,
   "metadata": {},
   "outputs": [
    {
     "name": "stdout",
     "output_type": "stream",
     "text": [
      "95088    6435936\n",
      "Name: kepid, dtype: int64 95088    0.997091\n",
      "Name: iso_gof, dtype: float64\n",
      "59962    4172805\n",
      "Name: kepid, dtype: int64 59962    1.0\n",
      "Name: iso_gof, dtype: float64\n",
      "146747    9278575\n",
      "Name: kepid, dtype: int64 146747    1.0\n",
      "Name: iso_gof, dtype: float64\n"
     ]
    }
   ],
   "source": [
    "\n",
    "for i, p in dr25KOIsInBoxNotInFgks.iterrows():\n",
    "    print(allStars[allStars.kepid == p.kepid].kepid, allStars[allStars.kepid == p.kepid].iso_gof)"
   ]
  },
  {
   "cell_type": "code",
   "execution_count": null,
   "metadata": {},
   "outputs": [],
   "source": []
  }
 ],
 "metadata": {
  "kernelspec": {
   "display_name": "Python 3",
   "language": "python",
   "name": "python3"
  },
  "language_info": {
   "codemirror_mode": {
    "name": "ipython",
    "version": 3
   },
   "file_extension": ".py",
   "mimetype": "text/x-python",
   "name": "python",
   "nbconvert_exporter": "python",
   "pygments_lexer": "ipython3",
   "version": "3.6.10"
  }
 },
 "nbformat": 4,
 "nbformat_minor": 4
}
