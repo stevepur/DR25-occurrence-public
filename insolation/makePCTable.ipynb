{
 "cells": [
  {
   "cell_type": "code",
   "execution_count": 1,
   "metadata": {},
   "outputs": [],
   "source": [
    "import os\n",
    "import requests\n",
    "import pandas as pd\n",
    "from astropy.io import fits\n",
    "import numpy as np\n",
    "import matplotlib.pyplot as plt\n",
    "from scipy.stats import gamma\n",
    "from scipy.optimize import minimize\n",
    "from scipy.interpolate import RectBivariateSpline\n",
    "import emcee\n",
    "import corner\n",
    "import scipy.io as sio\n",
    "from ipywidgets import FloatProgress\n",
    "from IPython.display import display\n",
    "import time\n",
    "import os.path\n",
    "from os import path\n",
    "\n",
    "import sys\n",
    "sys.path.insert(0, '../completenessContours')\n",
    "import compute_num_completeness_w_ve_insol as kp\n",
    "\n",
    "sys.path.insert(0, '..')\n",
    "import occRateUtils as ut\n",
    "\n",
    "import rateModels3D as rm3D"
   ]
  },
  {
   "cell_type": "code",
   "execution_count": 2,
   "metadata": {},
   "outputs": [],
   "source": [
    "stellarType = \"FGK\"\n",
    "catalog = \"dr25\"\n",
    "hzType = \"optimistic\"\n",
    "\n",
    "if stellarType == \"hab\":\n",
    "    teffRange = (4800, 6300)\n",
    "elif stellarType == \"hab2\":\n",
    "    teffRange = (3900, 6300)\n",
    "elif stellarType == \"GK\":\n",
    "    teffRange = (3900, 6000)\n",
    "elif stellarType == \"FGK\":\n",
    "    teffRange = (3900, 7300)\n",
    "else:\n",
    "    raise ValueError('Bad catalog name');\n",
    "    \n",
    "cs = rm3D.compSpace(periodName = \"Instellation\", \n",
    "               periodUnits = \"$I_\\oplus$\",\n",
    "               periodRange = (0.2, 2.2), \n",
    "               nPeriod = 61, \n",
    "               radiusName = \"Radius\", \n",
    "               radiusUnits = \"$R_\\oplus$\",\n",
    "               rpRange = (0.5, 2.5), \n",
    "               nRp = 61,\n",
    "               tempName = \"$T_\\mathrm{eff}$\", \n",
    "               tempUnits = \"$R_\\oplus$\",\n",
    "               tempRange = teffRange, \n",
    "               nTemp = 10)\n",
    "\n",
    "# model 1: triplePowerLawTeffAvg\n",
    "# model 2: triplePowerLaw\n",
    "# model 3: dualPowerLawFixedTeffAvg\n",
    "# model 4: dualPowerLaw\n",
    "# model 5: constantFixedTeffAvg\n",
    "model = rm3D.triplePowerLawTeffAvg(cs)\n",
    "\n",
    "# completenessExtrapType = \"extrap_const\"\n",
    "completenessExtrapType = \"extrap_zero\"\n",
    "\n",
    "# make output directory if needed\n",
    "outDir = \"computeOccurrencefixedTeff_\" + catalog + \"_\" + stellarType + \"_\"  \\\n",
    "        + model.name + \"_\" + hzType + \"_\" + completenessExtrapType + \"_out\"\n",
    "if not path.exists(outDir):\n",
    "    os.mkdir(outDir)\n",
    "\n"
   ]
  },
  {
   "cell_type": "code",
   "execution_count": 3,
   "metadata": {},
   "outputs": [],
   "source": [
    "pcCatalog = \"koiCatalogs/PCs_\" + catalog + \"_\" + stellarType + \".csv\"\n",
    "base_pcs = pd.read_csv(pcCatalog)\n",
    "\n",
    "m = (cs.periodRange[0] <= base_pcs.insolation) & (base_pcs.insolation <= cs.periodRange[1])\n",
    "thisRadii = base_pcs.gaia_iso_prad\n",
    "m &= np.isfinite(thisRadii) & (cs.rpRange[0] <= thisRadii) & (thisRadii <= cs.rpRange[1])\n",
    "    \n",
    "pcs = pd.DataFrame(base_pcs[m])\n",
    "allPcs = pcs\n"
   ]
  },
  {
   "cell_type": "code",
   "execution_count": 4,
   "metadata": {},
   "outputs": [
    {
     "data": {
      "text/plain": [
       "['kepid_x',\n",
       " 'kepoi_name',\n",
       " 'koi_tce_plnt_num',\n",
       " 'koi_pdisposition',\n",
       " 'koi_score',\n",
       " 'koi_period',\n",
       " 'koi_max_mult_ev',\n",
       " 'koi_prad',\n",
       " 'koi_prad_err1',\n",
       " 'koi_prad_err2',\n",
       " 'koi_ror',\n",
       " 'koi_ror_err1',\n",
       " 'koi_ror_err2',\n",
       " 'KIC',\n",
       " 'KOI',\n",
       " 'koi_disposition',\n",
       " 'gaia_iso_prad',\n",
       " 'gaia_iso_prad_errp',\n",
       " 'gaia_iso_prad_errm',\n",
       " 'gaia_iso_sma',\n",
       " 'gaia_iso_sma_errp',\n",
       " 'gaia_iso_sma_errm',\n",
       " 'gaia_iso_insol',\n",
       " 'gaia_iso_insol_errp',\n",
       " 'gaia_iso_insol_errm',\n",
       " 'ZAMSFlux',\n",
       " 'Flag',\n",
       " 'insolation',\n",
       " 'TCE_ID',\n",
       " 'radius',\n",
       " 'radius_err1',\n",
       " 'radius_err2',\n",
       " 'teff',\n",
       " 'teff_err1',\n",
       " 'teff_err2',\n",
       " 'corrected_prad',\n",
       " 'corrected_prad_err1',\n",
       " 'corrected_prad_err2',\n",
       " 'rowid',\n",
       " 'kepid_y',\n",
       " 'fpp_koi_period',\n",
       " 'fpp_prob',\n",
       " 'fpEffectiveness',\n",
       " 'obsFpRate',\n",
       " 'reliability',\n",
       " 'fpp_prob_use',\n",
       " 'totalReliability',\n",
       " 'Disp']"
      ]
     },
     "execution_count": 4,
     "metadata": {},
     "output_type": "execute_result"
    }
   ],
   "source": [
    "list(base_pcs)"
   ]
  },
  {
   "cell_type": "code",
   "execution_count": 5,
   "metadata": {},
   "outputs": [
    {
     "name": "stderr",
     "output_type": "stream",
     "text": [
      "/opt/anaconda3/envs/py3.6/lib/python3.6/site-packages/scipy/stats/_distn_infrastructure.py:1847: RuntimeWarning: invalid value encountered in greater_equal\n",
      "  cond2 = (x >= np.asarray(_b)) & cond0\n"
     ]
    }
   ],
   "source": [
    "# compute probability of inclusion from base_kois\n",
    "from scipy.stats import norm\n",
    "\n",
    "base_pcs[\"prob_inclusion_radius\"] = 0*base_pcs.gaia_iso_prad\n",
    "base_pcs[\"prob_inclusion_insol\"] = 0*base_pcs.gaia_iso_prad\n",
    "base_pcs[\"prob_inclusion_teff\"] = 0*base_pcs.gaia_iso_prad\n",
    "\n",
    "bothPlus = (cs.rpRange[0] > base_pcs.gaia_iso_prad) & (cs.rpRange[1] > base_pcs.gaia_iso_prad)\n",
    "bothMinus = (cs.rpRange[0] <= base_pcs.gaia_iso_prad) & (cs.rpRange[1] <= base_pcs.gaia_iso_prad)\n",
    "plusMinus = (cs.rpRange[0] <= base_pcs.gaia_iso_prad) & (cs.rpRange[1] > base_pcs.gaia_iso_prad)\n",
    "diffMinus = cs.rpRange[0]-base_pcs.gaia_iso_prad\n",
    "diffPlus = cs.rpRange[1]-base_pcs.gaia_iso_prad\n",
    "base_pcs.loc[bothPlus, \"prob_inclusion_radius\"] = norm.cdf(diffPlus[bothPlus]/base_pcs[bothPlus].gaia_iso_prad_errp) \\\n",
    "                                                - norm.cdf(diffMinus[bothPlus]/base_pcs[bothPlus].gaia_iso_prad_errp)\n",
    "base_pcs.loc[bothMinus, \"prob_inclusion_radius\"] = norm.cdf(diffPlus[bothMinus]/base_pcs[bothMinus].gaia_iso_prad_errm) \\\n",
    "                                                - norm.cdf(diffMinus[bothMinus]/base_pcs[bothMinus].gaia_iso_prad_errm)\n",
    "base_pcs.loc[plusMinus, \"prob_inclusion_radius\"] = norm.cdf(diffPlus[plusMinus]/base_pcs[plusMinus].gaia_iso_prad_errp) \\\n",
    "                                                - norm.cdf(diffMinus[plusMinus]/base_pcs[plusMinus].gaia_iso_prad_errm)\n",
    "\n",
    "bothPlus = (cs.periodRange[0] > base_pcs.gaia_iso_insol) & (cs.periodRange[1] > base_pcs.gaia_iso_insol)\n",
    "bothMinus = (cs.periodRange[0] <= base_pcs.gaia_iso_insol) & (cs.periodRange[1] <= base_pcs.gaia_iso_insol)\n",
    "plusMinus = (cs.periodRange[0] <= base_pcs.gaia_iso_insol) & (cs.periodRange[1] > base_pcs.gaia_iso_insol)\n",
    "diffMinus = cs.periodRange[0]-base_pcs.gaia_iso_insol\n",
    "diffPlus = cs.periodRange[1]-base_pcs.gaia_iso_insol\n",
    "base_pcs.loc[bothPlus, \"prob_inclusion_insol\"] = norm.cdf(diffPlus[bothPlus]/base_pcs[bothPlus].gaia_iso_insol_errp) \\\n",
    "                                                - norm.cdf(diffMinus[bothPlus]/base_pcs[bothPlus].gaia_iso_insol_errp)\n",
    "base_pcs.loc[bothMinus, \"prob_inclusion_insol\"] = norm.cdf(diffPlus[bothMinus]/base_pcs[bothMinus].gaia_iso_insol_errm) \\\n",
    "                                                - norm.cdf(diffMinus[bothMinus]/base_pcs[bothMinus].gaia_iso_insol_errm)\n",
    "base_pcs.loc[plusMinus, \"prob_inclusion_insol\"] = norm.cdf(diffPlus[plusMinus]/base_pcs[plusMinus].gaia_iso_insol_errp) \\\n",
    "                                                - norm.cdf(diffMinus[plusMinus]/base_pcs[plusMinus].gaia_iso_insol_errm)\n",
    "\n",
    "bothPlus = (cs.tempRange[0] > base_pcs.teff) & (cs.tempRange[1] > base_pcs.teff)\n",
    "bothMinus = (cs.tempRange[0] <= base_pcs.teff) & (cs.tempRange[1] <= base_pcs.teff)\n",
    "plusMinus = (cs.tempRange[0] <= base_pcs.teff) & (cs.tempRange[1] > base_pcs.teff)\n",
    "diffMinus = cs.tempRange[0]-base_pcs.teff\n",
    "diffPlus = cs.tempRange[1]-base_pcs.teff\n",
    "base_pcs.loc[bothPlus, \"prob_inclusion_teff\"] = norm.cdf(diffPlus[bothPlus]/base_pcs[bothPlus].teff_err1) \\\n",
    "                                                - norm.cdf(diffMinus[bothPlus]/base_pcs[bothPlus].teff_err1)\n",
    "base_pcs.loc[bothMinus, \"prob_inclusion_teff\"] = norm.cdf(diffPlus[bothMinus]/base_pcs[bothMinus].teff_err2) \\\n",
    "                                                - norm.cdf(diffMinus[bothMinus]/base_pcs[bothMinus].teff_err2)\n",
    "base_pcs.loc[plusMinus, \"prob_inclusion_teff\"] = norm.cdf(diffPlus[plusMinus]/base_pcs[plusMinus].teff_err1) \\\n",
    "                                                - norm.cdf(diffMinus[plusMinus]/base_pcs[plusMinus].teff_err2)\n"
   ]
  },
  {
   "cell_type": "code",
   "execution_count": 6,
   "metadata": {},
   "outputs": [
    {
     "data": {
      "text/plain": [
       "0       0.606639\n",
       "2       0.014140\n",
       "3       0.921908\n",
       "4       0.592810\n",
       "5       0.110127\n",
       "          ...   \n",
       "2510    0.999435\n",
       "2515    0.009011\n",
       "2516    1.000000\n",
       "2518    0.020604\n",
       "2519    0.859630\n",
       "Name: prob_inclusion_radius, Length: 2134, dtype: float64"
      ]
     },
     "execution_count": 6,
     "metadata": {},
     "output_type": "execute_result"
    }
   ],
   "source": [
    "base_pcs[base_pcs.prob_inclusion_radius > 1/400].prob_inclusion_radius"
   ]
  },
  {
   "cell_type": "code",
   "execution_count": 7,
   "metadata": {},
   "outputs": [
    {
     "data": {
      "text/plain": [
       "11      0.999983\n",
       "205     1.000000\n",
       "268     0.053322\n",
       "276     0.336130\n",
       "284     0.436305\n",
       "          ...   \n",
       "2418    1.000000\n",
       "2429    1.000000\n",
       "2432    0.998982\n",
       "2490    0.995155\n",
       "2508    1.000000\n",
       "Name: prob_inclusion_insol, Length: 151, dtype: float64"
      ]
     },
     "execution_count": 7,
     "metadata": {},
     "output_type": "execute_result"
    }
   ],
   "source": [
    "base_pcs[base_pcs.prob_inclusion_insol > 1/400].prob_inclusion_insol"
   ]
  },
  {
   "cell_type": "code",
   "execution_count": 8,
   "metadata": {},
   "outputs": [
    {
     "data": {
      "text/plain": [
       "11      1.000000\n",
       "205     1.000000\n",
       "268     1.000000\n",
       "276     1.000000\n",
       "284     0.999994\n",
       "          ...   \n",
       "2418    1.000000\n",
       "2429    1.000000\n",
       "2432    1.000000\n",
       "2490    1.000000\n",
       "2508    1.000000\n",
       "Name: prob_inclusion_teff, Length: 151, dtype: float64"
      ]
     },
     "execution_count": 8,
     "metadata": {},
     "output_type": "execute_result"
    }
   ],
   "source": [
    "base_pcs[base_pcs.prob_inclusion_insol > 1/400].prob_inclusion_teff"
   ]
  },
  {
   "cell_type": "code",
   "execution_count": 9,
   "metadata": {},
   "outputs": [
    {
     "data": {
      "text/plain": [
       "124     0.000258\n",
       "182     0.000472\n",
       "284     0.436240\n",
       "316     0.019179\n",
       "434     0.999933\n",
       "          ...   \n",
       "2418    0.999999\n",
       "2429    0.999998\n",
       "2432    0.998982\n",
       "2433    0.002493\n",
       "2508    1.000000\n",
       "Name: prob_inclusion, Length: 117, dtype: float64"
      ]
     },
     "execution_count": 9,
     "metadata": {},
     "output_type": "execute_result"
    }
   ],
   "source": [
    "base_pcs[\"prob_inclusion\" ] = base_pcs.prob_inclusion_radius * base_pcs.prob_inclusion_insol * base_pcs.prob_inclusion_teff\n",
    "base_pcs[base_pcs.prob_inclusion > 1/4000].prob_inclusion"
   ]
  },
  {
   "cell_type": "code",
   "execution_count": 10,
   "metadata": {},
   "outputs": [
    {
     "data": {
      "text/plain": [
       "53.61261474699585"
      ]
     },
     "execution_count": 10,
     "metadata": {},
     "output_type": "execute_result"
    }
   ],
   "source": [
    "np.sum(base_pcs[base_pcs.prob_inclusion > 1/4000].prob_inclusion)"
   ]
  },
  {
   "cell_type": "code",
   "execution_count": 11,
   "metadata": {},
   "outputs": [
    {
     "data": {
      "text/plain": [
       "54"
      ]
     },
     "execution_count": 11,
     "metadata": {},
     "output_type": "execute_result"
    }
   ],
   "source": [
    "len(pcs)"
   ]
  },
  {
   "cell_type": "code",
   "execution_count": 12,
   "metadata": {},
   "outputs": [
    {
     "data": {
      "text/plain": [
       "106.64171702566954"
      ]
     },
     "execution_count": 12,
     "metadata": {},
     "output_type": "execute_result"
    }
   ],
   "source": [
    "np.sum(base_pcs[base_pcs.prob_inclusion > 1/4000].prob_inclusion*base_pcs[base_pcs.prob_inclusion > 1/4000].gaia_iso_prad)"
   ]
  },
  {
   "cell_type": "code",
   "execution_count": 13,
   "metadata": {},
   "outputs": [
    {
     "data": {
      "text/plain": [
       "105.00786364855126"
      ]
     },
     "execution_count": 13,
     "metadata": {},
     "output_type": "execute_result"
    }
   ],
   "source": [
    "sum(pcs.gaia_iso_prad)"
   ]
  },
  {
   "cell_type": "code",
   "execution_count": 14,
   "metadata": {},
   "outputs": [],
   "source": [
    "prob_pcs = base_pcs[base_pcs.prob_inclusion > 1/4000]\n"
   ]
  },
  {
   "cell_type": "code",
   "execution_count": 19,
   "metadata": {},
   "outputs": [
    {
     "data": {
      "image/png": "[encoded data removed]",
      "text/plain": [
       "<Figure size 1440x864 with 2 Axes>"
      ]
     },
     "metadata": {
      "needs_background": "light"
     },
     "output_type": "display_data"
    }
   ],
   "source": [
    "figDir = \"summaryFigures\"\n",
    "fig, ax = plt.subplots(figsize=(20,12));\n",
    "\n",
    "plt.plot([cs.periodRange[0], cs.periodRange[0]], [0.5, 2.5], color='g', linewidth=1)\n",
    "plt.plot([cs.periodRange[1], cs.periodRange[1]], [0.5, 2.5], color='g', linewidth=1)\n",
    "plt.plot(cs.periodRange, [0.5, 0.5], color='g', linewidth=1)\n",
    "plt.plot(cs.periodRange, [2.5, 2.5], color='g', linewidth=1)\n",
    "\n",
    "\n",
    "scf = plt.scatter(prob_pcs.gaia_iso_insol, prob_pcs.gaia_iso_prad, cmap=\"plasma\", \n",
    "               c=prob_pcs.prob_inclusion, edgecolors='k', \n",
    "                  s=3000*(prob_pcs.prob_inclusion)**2, alpha = 0.7, zorder=1000)\n",
    "cbh = plt.colorbar(scf);\n",
    "cbh.ax.set_ylabel(\"Probability of Inclusion\", fontsize = 24);\n",
    "cbh.ax.tick_params(labelsize=18)\n",
    "\n",
    "ax.errorbar(prob_pcs.gaia_iso_insol, prob_pcs.gaia_iso_prad, \n",
    "            xerr = [prob_pcs.gaia_iso_insol_errm, prob_pcs.gaia_iso_insol_errp],\n",
    "            yerr = [prob_pcs.gaia_iso_prad_errm, prob_pcs.gaia_iso_prad_errp],\n",
    "            fmt=\"none\", ecolor=\"k\", alpha = 0.2, marker = None, zorder=2000);\n",
    "\n",
    "plt.xlim(3.5, 0)\n",
    "plt.ylim(0.5,5)\n",
    "plt.tick_params(labelsize = 24)\n",
    "plt.xlabel('Instellation Flux ($I_\\oplus$)', fontsize = 32);\n",
    "plt.ylabel(\"Planet Radius [$R_\\oplus$]\", fontsize = 32);\n",
    "plt.savefig(figDir + \"/probPcInclusion.pdf\",bbox_inches='tight')\n"
   ]
  },
  {
   "cell_type": "code",
   "execution_count": 20,
   "metadata": {
    "scrolled": false
   },
   "outputs": [
    {
     "name": "stdout",
     "output_type": "stream",
     "text": [
      "{\\bf4742.01} & $1.35^{+0.08}_{-0.08}$ & 112.30 & $1.01^{+0.08}_{-0.07}$ & $4602^{+84}_{-76}$ & 0.91 & 1.00000 \\\\\n",
      "{\\bf8107.01} & $1.19^{+0.06}_{-0.06}$ & 578.89 & $1.00^{+0.08}_{-0.08}$ & $5832^{+102}_{-103}$ & 0.62 & 1.00000 \\\\\n",
      "{\\bf7016.01} & $1.46^{+0.09}_{-0.08}$ & 384.85 & $1.11^{+0.08}_{-0.08}$ & $5900^{+102}_{-100}$ & 0.68 & 1.00000 \\\\\n",
      "{\\bf2719.02} & $1.25^{+0.15}_{-0.08}$ & 106.26 & $1.25^{+0.10}_{-0.09}$ & $4601^{+81}_{-76}$ & 0.96 & 1.00000 \\\\\n",
      "{\\bf701.03} & $1.80^{+0.07}_{-0.04}$ & 122.39 & $1.44^{+0.11}_{-0.10}$ & $4966^{+82}_{-82}$ & 1.00 & 1.00000 \\\\\n",
      "{\\bf4036.01} & $1.71^{+0.12}_{-0.08}$ & 168.81 & $0.77^{+0.05}_{-0.05}$ & $4697^{+76}_{-68}$ & 1.00 & 1.00000 \\\\\n",
      "{\\bf2194.03} & $1.80^{+0.10}_{-0.14}$ & 445.22 & $1.36^{+0.13}_{-0.12}$ & $5965^{+122}_{-116}$ & 0.68 & 1.00000 \\\\\n",
      "{\\bf4087.01} & $1.80^{+0.10}_{-0.08}$ & 101.11 & $0.82^{+0.07}_{-0.07}$ & $4171^{+56}_{-49}$ & 1.00 & 1.00000 \\\\\n",
      "{\\bf7923.01} & $0.91^{+0.03}_{-0.08}$ & 395.13 & $0.43^{+0.03}_{-0.03}$ & $5064^{+84}_{-73}$ & 0.40 & 1.00000 \\\\\n",
      "{\\bf8242.01} & $1.48^{+0.10}_{-0.21}$ & 331.55 & $0.89^{+0.07}_{-0.07}$ & $5736^{+105}_{-97}$ & 0.53 & 1.00000 \\\\\n",
      "{\\bf8047.01} & $1.86^{+0.14}_{-0.22}$ & 302.35 & $0.38^{+0.03}_{-0.03}$ & $4712^{+78}_{-74}$ & 0.72 & 1.00000 \\\\\n",
      "{\\bf8048.01} & $1.76^{+0.16}_{-0.15}$ & 379.67 & $1.31^{+0.11}_{-0.11}$ & $6058^{+108}_{-107}$ & 0.48 & 1.00000 \\\\\n",
      "{\\bf7894.01} & $1.91^{+0.15}_{-0.10}$ & 347.98 & $1.16^{+0.11}_{-0.10}$ & $5772^{+108}_{-106}$ & 0.86 & 0.99996 \\\\\n",
      "{\\bf2184.02} & $1.93^{+0.05}_{-0.21}$ & 95.91 & $1.66^{+0.14}_{-0.13}$ & $4820^{+88}_{-83}$ & 0.97 & 0.99993 \\\\\n",
      "{\\bf7749.01} & $1.68^{+0.09}_{-0.16}$ & 133.63 & $1.73^{+0.12}_{-0.12}$ & $5098^{+83}_{-78}$ & 0.01 & 0.99993 \\\\\n",
      "{\\bf7931.01} & $1.75^{+0.10}_{-0.19}$ & 242.04 & $1.61^{+0.16}_{-0.15}$ & $5843^{+106}_{-100}$ & 0.84 & 0.99992 \\\\\n",
      "{\\bf7915.01} & $2.14^{+0.08}_{-0.26}$ & 382.59 & $1.69^{+0.14}_{-0.14}$ & $6138^{+118}_{-117}$ & 0.47 & 0.99990 \\\\\n",
      "{\\bf7953.01} & $1.63^{+0.27}_{-0.10}$ & 432.97 & $0.69^{+0.07}_{-0.06}$ & $5421^{+107}_{-95}$ & 0.37 & 0.99940 \\\\\n",
      "{\\bf4450.01} & $2.06^{+0.14}_{-0.10}$ & 196.44 & $1.29^{+0.11}_{-0.11}$ & $5361^{+91}_{-89}$ & 0.99 & 0.99932 \\\\\n",
      "{\\bf8246.01} & $1.72^{+0.12}_{-0.22}$ & 425.65 & $1.70^{+0.16}_{-0.15}$ & $6091^{+125}_{-123}$ & 0.36 & 0.99898 \\\\\n",
      "{\\bf6971.01} & $1.69^{+0.27}_{-0.31}$ & 129.22 & $1.23^{+0.10}_{-0.09}$ & $4921^{+82}_{-83}$ & 0.98 & 0.99857 \\\\\n",
      "{\\bf87.01} & $2.22^{+0.10}_{-0.30}$ & 289.86 & $0.96^{+0.07}_{-0.07}$ & $5625^{+93}_{-93}$ & 0.96 & 0.99827 \\\\\n",
      "{\\bf7746.01} & $2.15^{+0.12}_{-0.26}$ & 393.96 & $1.02^{+0.15}_{-0.13}$ & $6135^{+118}_{-114}$ & 0.56 & 0.99799 \\\\\n",
      "{\\bf2992.01} & $2.24^{+0.09}_{-0.24}$ & 82.66 & $1.02^{+0.10}_{-0.09}$ & $4166^{+68}_{-57}$ & 0.66 & 0.99754 \\\\\n",
      "{\\bf2931.01} & $2.22^{+0.05}_{-0.59}$ & 99.25 & $1.79^{+0.14}_{-0.13}$ & $4806^{+84}_{-76}$ & 0.99 & 0.99682 \\\\\n",
      "{\\bf3344.03} & $2.13^{+0.15}_{-0.16}$ & 208.54 & $1.44^{+0.14}_{-0.14}$ & $5495^{+96}_{-95}$ & 0.97 & 0.99409 \\\\\n",
      "{\\bf8063.01} & $2.13^{+0.15}_{-0.19}$ & 405.35 & $0.63^{+0.07}_{-0.06}$ & $5455^{+103}_{-102}$ & 0.78 & 0.99238 \\\\\n",
      "{\\bf8159.02} & $2.20^{+0.13}_{-0.10}$ & 353.02 & $1.80^{+0.15}_{-0.15}$ & $6290^{+121}_{-118}$ & 0.84 & 0.98719 \\\\\n",
      "{\\bf7882.01} & $1.33^{+0.08}_{-0.15}$ & 65.42 & $1.87^{+0.15}_{-0.13}$ & $4390^{+81}_{-74}$ & 0.90 & 0.98612 \\\\\n",
      "{\\bf3282.01} & $1.89^{+0.11}_{-0.10}$ & 49.28 & $1.66^{+0.16}_{-0.15}$ & $4050^{+64}_{-69}$ & 1.00 & 0.98445 \\\\\n",
      "{\\bf4622.01} & $1.48^{+0.09}_{-0.11}$ & 207.25 & $0.24^{+0.02}_{-0.02}$ & $4147^{+67}_{-45}$ & 0.98 & 0.98121 \\\\\n",
      "{\\bf5067.01} & $2.11^{+0.19}_{-0.27}$ & 219.93 & $1.26^{+0.10}_{-0.09}$ & $5526^{+93}_{-87}$ & 0.21 & 0.97935 \\\\\n",
      "{\\bf571.05} & $1.43^{+0.14}_{-0.25}$ & 129.95 & $0.40^{+0.03}_{-0.03}$ & $4023^{+58}_{-62}$ & 0.92 & 0.97528 \\\\\n",
      "{\\bf2770.01} & $2.26^{+0.13}_{-0.08}$ & 205.39 & $0.45^{+0.04}_{-0.03}$ & $4475^{+80}_{-75}$ & 0.99 & 0.96615 \\\\\n",
      "{\\bf8033.01} & $2.24^{+0.16}_{-0.26}$ & 362.13 & $0.40^{+0.04}_{-0.04}$ & $5035^{+90}_{-83}$ & 0.55 & 0.94736 \\\\\n",
      "{\\bf2290.01} & $1.77^{+0.10}_{-0.05}$ & 91.50 & $2.01^{+0.14}_{-0.14}$ & $4944^{+75}_{-74}$ & 1.00 & 0.90532 \\\\\n",
      "{\\bf4084.01} & $2.32^{+0.16}_{-0.09}$ & 214.88 & $1.14^{+0.10}_{-0.09}$ & $5288^{+94}_{-89}$ & 0.99 & 0.86571 \\\\\n",
      "{\\bf250.04} & $2.36^{+0.09}_{-0.13}$ & 46.83 & $2.00^{+0.17}_{-0.17}$ & $4124^{+43}_{-68}$ & 1.00 & 0.82052 \\\\\n",
      "{\\bf4005.01} & $2.36^{+0.14}_{-0.09}$ & 178.14 & $1.97^{+0.16}_{-0.15}$ & $5545^{+94}_{-94}$ & 0.99 & 0.79403 \\\\\n",
      "{\\bf4054.01} & $2.22^{+0.35}_{-0.23}$ & 169.14 & $1.34^{+0.11}_{-0.10}$ & $5216^{+91}_{-86}$ & 1.00 & 0.78695 \\\\\n",
      "{\\bf5276.01} & $2.36^{+0.21}_{-0.14}$ & 220.72 & $0.91^{+0.12}_{-0.10}$ & $5086^{+95}_{-88}$ & 0.96 & 0.75601 \\\\\n",
      "{\\bf4015.01} & $2.42^{+0.14}_{-0.11}$ & 133.30 & $1.60^{+0.15}_{-0.15}$ & $5051^{+90}_{-85}$ & 1.00 & 0.72676 \\\\\n",
      "{\\bf2162.02} & $1.42^{+0.09}_{-0.07}$ & 199.67 & $2.09^{+0.19}_{-0.18}$ & $5814^{+116}_{-112}$ & 0.99 & 0.72275 \\\\\n",
      "{\\bf1989.01} & $2.34^{+0.09}_{-0.06}$ & 201.12 & $2.10^{+0.15}_{-0.15}$ & $5756^{+97}_{-96}$ & 1.00 & 0.71591 \\\\\n",
      "{\\bf2028.03} & $2.40^{+0.17}_{-0.13}$ & 142.54 & $1.72^{+0.21}_{-0.19}$ & $5213^{+97}_{-91}$ & 1.00 & 0.71120 \\\\\n",
      "{\\bf5874.01} & $2.46^{+0.07}_{-0.17}$ & 287.33 & $1.61^{+0.13}_{-0.12}$ & $5432^{+109}_{-102}$ & 0.03 & 0.70033 \\\\\n",
      "{\\bf5433.01} & $2.42^{+0.16}_{-0.13}$ & 237.82 & $1.81^{+0.19}_{-0.18}$ & $5798^{+112}_{-110}$ & 0.97 & 0.68318 \\\\\n",
      "{\\bf518.03} & $2.45^{+0.11}_{-0.07}$ & 247.35 & $0.56^{+0.04}_{-0.04}$ & $4918^{+90}_{-88}$ & 1.00 & 0.66314 \\\\\n",
      "{\\bf7345.01} & $2.44^{+0.19}_{-0.13}$ & 377.50 & $1.18^{+0.12}_{-0.11}$ & $5883^{+113}_{-111}$ & 0.88 & 0.62068 \\\\\n",
      "{\\bf2834.01} & $2.48^{+0.08}_{-0.20}$ & 136.21 & $1.09^{+0.11}_{-0.10}$ & $4775^{+91}_{-83}$ & 1.00 & 0.61320 \\\\\n",
      "{\\bf8201.01} & $2.25^{+0.89}_{-0.24}$ & 392.60 & $0.38^{+0.03}_{-0.03}$ & $5141^{+91}_{-88}$ & 0.04 & 0.61117 \\\\\n",
      "{\\bf4745.01} & $2.37^{+0.51}_{-0.33}$ & 177.67 & $0.78^{+0.08}_{-0.07}$ & $4790^{+84}_{-78}$ & 0.99 & 0.59915 \\\\\n",
      "{\\bf2841.01} & $2.48^{+0.16}_{-0.13}$ & 159.39 & $1.65^{+0.20}_{-0.18}$ & $5397^{+103}_{-100}$ & 0.99 & 0.55438 \\\\\n",
      "{\\bf7673.01} & $0.79^{+0.05}_{-0.17}$ & 80.77 & $2.20^{+0.15}_{-0.14}$ & $4747^{+78}_{-70}$ & 0.74 & 0.48552 \\\\\n",
      "4121.01 & $2.52^{+0.66}_{-0.19}$ & 198.09 & $1.08^{+0.12}_{-0.11}$ & $5237^{+90}_{-86}$ & 0.99 & 0.45819 \\\\\n",
      "812.03 & $2.10^{+0.11}_{-0.07}$ & 46.18 & $2.24^{+0.24}_{-0.22}$ & $4293^{+82}_{-90}$ & 1.00 & 0.43624 \\\\\n",
      "2757.01 & $2.53^{+0.11}_{-0.10}$ & 234.64 & $1.18^{+0.09}_{-0.09}$ & $5437^{+96}_{-97}$ & 0.96 & 0.39568 \\\\\n",
      "238.03 & $2.08^{+0.11}_{-0.11}$ & 362.98 & $2.42^{+0.52}_{-0.49}$ & $6572^{+272}_{-320}$ & 0.90 & 0.32274 \\\\\n",
      "4016.01 & $2.71^{+0.33}_{-0.40}$ & 125.41 & $0.81^{+0.06}_{-0.05}$ & $4444^{+78}_{-76}$ & 0.99 & 0.30347 \\\\\n",
      "612.03 & $3.00^{+0.07}_{-0.77}$ & 122.08 & $2.00^{+0.15}_{-0.14}$ & $5192^{+94}_{-89}$ & 0.73 & 0.23460 \\\\\n",
      "1876.01 & $2.58^{+0.13}_{-0.11}$ & 82.53 & $1.13^{+0.12}_{-0.11}$ & $4269^{+81}_{-76}$ & 1.00 & 0.23173 \\\\\n",
      "8156.01 & $2.94^{+0.34}_{-0.59}$ & 364.98 & $1.42^{+0.12}_{-0.12}$ & $6214^{+114}_{-108}$ & 0.41 & 0.22789 \\\\\n",
      "1353.03 & $2.64^{+1.08}_{-0.19}$ & 330.07 & $1.38^{+0.10}_{-0.10}$ & $6081^{+102}_{-101}$ & 0.30 & 0.22344 \\\\\n",
      "427.03 & $2.28^{+0.11}_{-0.08}$ & 117.03 & $2.34^{+0.18}_{-0.18}$ & $5208^{+90}_{-84}$ & 1.00 & 0.21061 \\\\\n",
      "7880.01 & $2.61^{+0.17}_{-0.19}$ & 623.71 & $2.11^{+0.18}_{-0.18}$ & $6753^{+156}_{-139}$ & 0.47 & 0.20068 \\\\\n",
      "8238.01 & $3.26^{+0.19}_{-0.87}$ & 495.66 & $0.58^{+0.05}_{-0.05}$ & $5540^{+108}_{-106}$ & 0.74 & 0.18981 \\\\\n",
      "4076.01 & $1.89^{+0.10}_{-0.11}$ & 124.83 & $2.37^{+0.21}_{-0.19}$ & $5552^{+94}_{-89}$ & 0.97 & 0.17777 \\\\\n",
      "1430.03 & $2.83^{+0.44}_{-0.33}$ & 77.47 & $1.73^{+0.13}_{-0.12}$ & $4543^{+79}_{-75}$ & 1.00 & 0.15944 \\\\\n",
      "1871.01 & $3.00^{+0.27}_{-0.49}$ & 92.73 & $1.57^{+0.12}_{-0.11}$ & $4589^{+75}_{-72}$ & 1.00 & 0.15384 \\\\\n",
      "2762.01 & $2.79^{+0.40}_{-0.27}$ & 133.00 & $1.10^{+0.08}_{-0.08}$ & $4694^{+80}_{-75}$ & 1.00 & 0.14364 \\\\\n",
      "5581.01 & $2.68^{+0.64}_{-0.17}$ & 374.88 & $0.54^{+0.04}_{-0.04}$ & $5311^{+89}_{-89}$ & 0.92 & 0.13855 \\\\\n",
      "4356.01 & $2.64^{+0.17}_{-0.13}$ & 174.51 & $0.63^{+0.06}_{-0.06}$ & $4577^{+85}_{-80}$ & 0.99 & 0.13305 \\\\\n",
      "7889.01 & $2.30^{+0.23}_{-0.17}$ & 130.24 & $2.57^{+0.35}_{-0.33}$ & $5494^{+105}_{-102}$ & 0.94 & 0.10455 \\\\\n",
      "581.02 & $2.37^{+0.13}_{-0.09}$ & 151.86 & $2.45^{+0.23}_{-0.22}$ & $5669^{+100}_{-94}$ & 0.99 & 0.10319 \\\\\n",
      "2529.02 & $2.40^{+0.51}_{-0.24}$ & 64.00 & $2.42^{+0.24}_{-0.23}$ & $4607^{+89}_{-84}$ & 0.96 & 0.09608 \\\\\n",
      "1596.02 & $2.85^{+0.70}_{-0.25}$ & 105.36 & $1.47^{+0.12}_{-0.11}$ & $4626^{+74}_{-69}$ & 0.79 & 0.08588 \\\\\n",
      "3086.01 & $2.70^{+0.19}_{-0.14}$ & 174.73 & $1.60^{+0.19}_{-0.17}$ & $5480^{+104}_{-104}$ & 0.98 & 0.07218 \\\\\n",
      "4636.01 & $5.02^{+5964.94}_{-2.05}$ & 122.75 & $2.04^{+0.24}_{-0.22}$ & $5158^{+92}_{-86}$ & 0.01 & 0.07088 \\\\\n",
      "4009.01 & $2.23^{+0.15}_{-0.11}$ & 175.14 & $2.63^{+0.31}_{-0.29}$ & $5870^{+120}_{-117}$ & 0.99 & 0.06576 \\\\\n",
      "1938.01 & $2.26^{+0.27}_{-0.10}$ & 96.92 & $2.44^{+0.19}_{-0.17}$ & $5086^{+86}_{-82}$ & 1.00 & 0.06496 \\\\\n",
      "505.05 & $2.91^{+0.06}_{-0.41}$ & 87.09 & $2.26^{+0.15}_{-0.15}$ & $4868^{+75}_{-70}$ & 1.00 & 0.05449 \\\\\n",
      "5622.01 & $3.62^{+0.16}_{-0.68}$ & 469.61 & $0.40^{+0.05}_{-0.04}$ & $5260^{+98}_{-90}$ & 0.83 & 0.04917 \\\\\n",
      "4014.01 & $2.96^{+0.29}_{-0.59}$ & 234.24 & $2.35^{+0.18}_{-0.18}$ & $5993^{+103}_{-101}$ & 0.93 & 0.04457 \\\\\n",
      "5790.01 & $3.97^{+0.52}_{-0.84}$ & 178.27 & $0.85^{+0.08}_{-0.07}$ & $4797^{+80}_{-75}$ & 0.98 & 0.03965 \\\\\n",
      "1527.01 & $3.81^{+0.11}_{-0.73}$ & 192.67 & $1.85^{+0.17}_{-0.16}$ & $5603^{+105}_{-105}$ & 0.82 & 0.03565 \\\\\n",
      "1707.02 & $4.32^{+11.24}_{-1.02}$ & 265.48 & $1.76^{+0.28}_{-0.21}$ & $5766^{+142}_{-130}$ & 0.50 & 0.03458 \\\\\n",
      "8193.01 & $4.03^{+0.73}_{-0.82}$ & 367.95 & $0.74^{+0.09}_{-0.08}$ & $5546^{+95}_{-92}$ & 0.36 & 0.03023 \\\\\n",
      "2210.02 & $2.92^{+0.54}_{-0.22}$ & 210.63 & $0.58^{+0.05}_{-0.04}$ & $4779^{+80}_{-78}$ & 1.00 & 0.02503 \\\\\n",
      "4202.01 & $2.54^{+0.17}_{-0.13}$ & 153.98 & $2.66^{+0.32}_{-0.29}$ & $5741^{+110}_{-104}$ & 1.00 & 0.02312 \\\\\n",
      "947.01 & $2.02^{+0.07}_{-0.06}$ & 28.60 & $2.60^{+0.23}_{-0.21}$ & $3926^{+60}_{-61}$ & 1.00 & 0.01918 \\\\\n",
      "2828.01 & $2.35^{+0.08}_{-0.16}$ & 59.50 & $2.69^{+0.24}_{-0.23}$ & $4629^{+88}_{-80}$ & 1.00 & 0.01785 \\\\\n",
      "4051.01 & $2.71^{+0.16}_{-0.10}$ & 163.69 & $1.63^{+0.14}_{-0.14}$ & $5351^{+100}_{-98}$ & 0.97 & 0.01523 \\\\\n",
      "4242.01 & $1.66^{+0.10}_{-0.09}$ & 145.79 & $2.61^{+0.20}_{-0.19}$ & $5725^{+89}_{-92}$ & 0.90 & 0.01379 \\\\\n",
      "2686.01 & $3.51^{+0.07}_{-0.45}$ & 211.03 & $0.47^{+0.03}_{-0.03}$ & $4475^{+73}_{-69}$ & 1.00 & 0.01289 \\\\\n",
      "3508.01 & $1.62^{+0.11}_{-0.09}$ & 190.80 & $2.71^{+0.23}_{-0.22}$ & $6067^{+106}_{-106}$ & 0.98 & 0.01120 \\\\\n",
      "172.02 & $2.17^{+0.10}_{-0.08}$ & 242.47 & $2.71^{+0.24}_{-0.22}$ & $5890^{+118}_{-114}$ & 0.98 & 0.01037 \\\\\n",
      "8276.01 & $3.48^{+0.11}_{-0.53}$ & 385.86 & $2.29^{+0.18}_{-0.19}$ & $6618^{+128}_{-123}$ & 0.63 & 0.01028 \\\\\n",
      "2172.02 & $2.47^{+0.10}_{-0.30}$ & 116.58 & $2.74^{+0.23}_{-0.25}$ & $5420^{+97}_{-93}$ & 0.98 & 0.00927 \\\\\n",
      "4926.01 & $1.49^{+0.15}_{-0.14}$ & 69.09 & $2.78^{+0.24}_{-0.24}$ & $4831^{+92}_{-86}$ & 0.39 & 0.00750 \\\\\n",
      "1986.01 & $3.53^{+0.48}_{-0.42}$ & 148.46 & $1.63^{+0.15}_{-0.13}$ & $5228^{+107}_{-100}$ & 0.99 & 0.00673 \\\\\n",
      "1608.03 & $2.01^{+0.07}_{-0.14}$ & 232.04 & $2.81^{+0.22}_{-0.22}$ & $6128^{+111}_{-111}$ & 0.89 & 0.00310 \\\\\n",
      "2525.01 & $1.85^{+0.13}_{-0.08}$ & 57.29 & $2.93^{+0.26}_{-0.26}$ & $4617^{+87}_{-79}$ & 1.00 & 0.00253 \\\\\n",
      "8249.01 & $1.58^{+0.11}_{-0.12}$ & 309.19 & $2.88^{+0.29}_{-0.24}$ & $6153^{+129}_{-113}$ & 0.64 & 0.00249 \\\\\n",
      "4385.02 & $2.98^{+0.21}_{-0.16}$ & 386.37 & $0.48^{+0.06}_{-0.05}$ & $5215^{+99}_{-93}$ & 0.90 & 0.00180 \\\\\n",
      "3266.01 & $2.28^{+0.12}_{-0.57}$ & 54.51 & $2.79^{+0.22}_{-0.20}$ & $4459^{+75}_{-70}$ & 1.00 & 0.00158 \\\\\n",
      "8275.01 & $4.06^{+0.23}_{-0.52}$ & 389.88 & $0.55^{+0.08}_{-0.07}$ & $5370^{+113}_{-109}$ & 0.15 & 0.00138 \\\\\n",
      "7982.01 & $3.44^{+0.23}_{-0.31}$ & 376.38 & $1.01^{+0.14}_{-0.12}$ & $5814^{+107}_{-103}$ & 0.56 & 0.00119 \\\\\n",
      "7798.01 & $2.66^{+0.22}_{-0.19}$ & 309.89 & $3.12^{+0.32}_{-0.37}$ & $6258^{+133}_{-127}$ & 0.54 & 0.00110 \\\\\n",
      "6786.01 & $3.35^{+0.28}_{-0.28}$ & 455.62 & $0.71^{+0.12}_{-0.11}$ & $5622^{+118}_{-115}$ & 0.80 & 0.00099 \\\\\n",
      "2650.01 & $1.39^{+0.11}_{-0.08}$ & 34.99 & $3.21^{+0.34}_{-0.33}$ & $4096^{+69}_{-80}$ & 1.00 & 0.00099 \\\\\n",
      "416.02 & $3.03^{+0.19}_{-0.50}$ & 88.26 & $2.71^{+0.21}_{-0.20}$ & $5083^{+91}_{-85}$ & 1.00 & 0.00091 \\\\\n",
      "1980.01 & $2.73^{+0.07}_{-0.40}$ & 122.88 & $2.70^{+0.18}_{-0.18}$ & $5441^{+85}_{-85}$ & 1.00 & 0.00087 \\\\\n",
      "401.02 & $4.17^{+0.27}_{-0.53}$ & 160.02 & $2.13^{+0.16}_{-0.15}$ & $5516^{+90}_{-87}$ & 0.95 & 0.00057 \\\\\n",
      "1078.03 & $2.16^{+0.09}_{-0.07}$ & 28.46 & $3.03^{+0.27}_{-0.25}$ & $4015^{+58}_{-62}$ & 1.00 & 0.00047 \\\\\n",
      "1970.02 & $2.66^{+0.15}_{-0.12}$ & 125.60 & $2.99^{+0.32}_{-0.30}$ & $5585^{+98}_{-96}$ & 1.00 & 0.00040 \\\\\n",
      "4856.01 & $2.87^{+0.22}_{-0.19}$ & 147.39 & $3.16^{+0.47}_{-0.42}$ & $5773^{+108}_{-104}$ & 1.00 & 0.00029 \\\\\n",
      "775.03 & $2.04^{+0.12}_{-0.11}$ & 36.45 & $3.17^{+0.29}_{-0.28}$ & $4164^{+49}_{-62}$ & 1.00 & 0.00026 \\\\\n"
     ]
    }
   ],
   "source": [
    "fs = \"{:.2f}\"\n",
    "fs0 = \"{:.0f}\"\n",
    "fs4 = \"{:.5f}\"\n",
    "for ii, p in prob_pcs.sort_values(\"prob_inclusion\", ascending=False).iterrows():\n",
    "    if np.isclose(pcs.KOI, p.KOI).any():\n",
    "        print(\"{\\\\bf\" + str(p.KOI) + \"}\" \n",
    "              +\" & $\"+fs.format(p.gaia_iso_prad)+\"^{+\" \n",
    "              + fs.format(p.gaia_iso_prad_errp) \n",
    "              + \"}_{-\" + fs.format(p.gaia_iso_prad_errm)  + \"}$\"\n",
    "              +\" & \"+fs.format(p.koi_period)\n",
    "              +\" & $\"+fs.format(p.gaia_iso_insol)+\"^{+\" \n",
    "              + fs.format(p.gaia_iso_insol_errp) \n",
    "              + \"}_{-\" + fs.format(p.gaia_iso_insol_errm)  + \"}$\"\n",
    "              +\" & $\"+fs0.format(p.teff)+\"^{+\" \n",
    "              + fs0.format(p.teff_err1) \n",
    "              + \"}_{-\" + fs0.format(p.teff_err2)  + \"}$\"\n",
    "              +\" & \"+fs.format(p.totalReliability)\n",
    "              +\" & \"+fs4.format(p.prob_inclusion)\n",
    "              + \" \\\\\\\\\")\n",
    "    else:\n",
    "        print(str(p.KOI) \n",
    "              +\" & $\"+fs.format(p.gaia_iso_prad)+\"^{+\" \n",
    "              + fs.format(p.gaia_iso_prad_errp) \n",
    "              + \"}_{-\" + fs.format(p.gaia_iso_prad_errm)  + \"}$\"\n",
    "              +\" & \"+fs.format(p.koi_period)\n",
    "              +\" & $\"+fs.format(p.gaia_iso_insol)+\"^{+\" \n",
    "              + fs.format(p.gaia_iso_insol_errp) \n",
    "              + \"}_{-\" + fs.format(p.gaia_iso_insol_errm)  + \"}$\"\n",
    "              +\" & $\"+fs0.format(p.teff)+\"^{+\" \n",
    "              + fs0.format(p.teff_err1) \n",
    "              + \"}_{-\" + fs0.format(p.teff_err2)  + \"}$\"\n",
    "              +\" & \"+fs.format(p.totalReliability)\n",
    "              +\" & \"+fs4.format(p.prob_inclusion)\n",
    "              + \" \\\\\\\\\")\n",
    "\n"
   ]
  },
  {
   "cell_type": "code",
   "execution_count": 24,
   "metadata": {},
   "outputs": [
    {
     "data": {
      "image/png": "[encoded data removed]",
      "text/plain": [
       "<Figure size 432x288 with 1 Axes>"
      ]
     },
     "metadata": {
      "needs_background": "light"
     },
     "output_type": "display_data"
    }
   ],
   "source": [
    "plt.hist(base_pcs[base_pcs.prob_inclusion_insol > 1/400].prob_inclusion_teff, 20);"
   ]
  },
  {
   "cell_type": "code",
   "execution_count": null,
   "metadata": {},
   "outputs": [],
   "source": [
    "701.03 in pcs.KOI"
   ]
  },
  {
   "cell_type": "code",
   "execution_count": null,
   "metadata": {},
   "outputs": [],
   "source": [
    "np.isclose(pcs.KOI, 701.03).any()"
   ]
  },
  {
   "cell_type": "code",
   "execution_count": null,
   "metadata": {},
   "outputs": [],
   "source": [
    "prob_pcs[prob_pcs.KOI == 4636.01].koi_prad_err1"
   ]
  },
  {
   "cell_type": "code",
   "execution_count": null,
   "metadata": {},
   "outputs": [],
   "source": [
    "prob_pcs[prob_pcs.KOI == 4636.01].gaia_iso_prad_errp"
   ]
  },
  {
   "cell_type": "code",
   "execution_count": 6,
   "metadata": {},
   "outputs": [
    {
     "data": {
      "text/plain": [
       "['kepid_x',\n",
       " 'kepoi_name',\n",
       " 'koi_tce_plnt_num',\n",
       " 'koi_pdisposition',\n",
       " 'koi_score',\n",
       " 'koi_period',\n",
       " 'koi_max_mult_ev',\n",
       " 'koi_prad',\n",
       " 'koi_prad_err1',\n",
       " 'koi_prad_err2',\n",
       " 'koi_ror',\n",
       " 'koi_ror_err1',\n",
       " 'koi_ror_err2',\n",
       " 'KIC',\n",
       " 'KOI',\n",
       " 'koi_disposition',\n",
       " 'gaia_iso_prad',\n",
       " 'gaia_iso_prad_errp',\n",
       " 'gaia_iso_prad_errm',\n",
       " 'gaia_iso_sma',\n",
       " 'gaia_iso_sma_errp',\n",
       " 'gaia_iso_sma_errm',\n",
       " 'gaia_iso_insol',\n",
       " 'gaia_iso_insol_errp',\n",
       " 'gaia_iso_insol_errm',\n",
       " 'ZAMSFlux',\n",
       " 'Flag',\n",
       " 'insolation',\n",
       " 'TCE_ID',\n",
       " 'radius',\n",
       " 'radius_err1',\n",
       " 'radius_err2',\n",
       " 'teff',\n",
       " 'teff_err1',\n",
       " 'teff_err2',\n",
       " 'corrected_prad',\n",
       " 'corrected_prad_err1',\n",
       " 'corrected_prad_err2',\n",
       " 'rowid',\n",
       " 'kepid_y',\n",
       " 'fpp_koi_period',\n",
       " 'fpp_prob',\n",
       " 'fpEffectiveness',\n",
       " 'obsFpRate',\n",
       " 'reliability',\n",
       " 'fpp_prob_use',\n",
       " 'totalReliability',\n",
       " 'Disp',\n",
       " 'prob_inclusion_radius',\n",
       " 'prob_inclusion_insol',\n",
       " 'prob_inclusion_teff']"
      ]
     },
     "execution_count": 6,
     "metadata": {},
     "output_type": "execute_result"
    }
   ],
   "source": [
    "list(base_pcs)"
   ]
  },
  {
   "cell_type": "code",
   "execution_count": 15,
   "metadata": {},
   "outputs": [
    {
     "data": {
      "text/plain": [
       "117"
      ]
     },
     "execution_count": 15,
     "metadata": {},
     "output_type": "execute_result"
    }
   ],
   "source": [
    "len(prob_pcs)"
   ]
  },
  {
   "cell_type": "code",
   "execution_count": 17,
   "metadata": {},
   "outputs": [],
   "source": [
    "sprob_pcs = prob_pcs.sort_values(\"prob_inclusion\", ascending=False)"
   ]
  },
  {
   "cell_type": "code",
   "execution_count": 22,
   "metadata": {},
   "outputs": [
    {
     "data": {
      "text/html": [
       "<div>\n",
       "<style scoped>\n",
       "    .dataframe tbody tr th:only-of-type {\n",
       "        vertical-align: middle;\n",
       "    }\n",
       "\n",
       "    .dataframe tbody tr th {\n",
       "        vertical-align: top;\n",
       "    }\n",
       "\n",
       "    .dataframe thead th {\n",
       "        text-align: right;\n",
       "    }\n",
       "</style>\n",
       "<table border=\"1\" class=\"dataframe\">\n",
       "  <thead>\n",
       "    <tr style=\"text-align: right;\">\n",
       "      <th></th>\n",
       "      <th>kepid_x</th>\n",
       "      <th>kepoi_name</th>\n",
       "      <th>koi_tce_plnt_num</th>\n",
       "      <th>koi_pdisposition</th>\n",
       "      <th>koi_score</th>\n",
       "      <th>koi_period</th>\n",
       "      <th>koi_max_mult_ev</th>\n",
       "      <th>koi_prad</th>\n",
       "      <th>koi_prad_err1</th>\n",
       "      <th>koi_prad_err2</th>\n",
       "      <th>...</th>\n",
       "      <th>fpEffectiveness</th>\n",
       "      <th>obsFpRate</th>\n",
       "      <th>reliability</th>\n",
       "      <th>fpp_prob_use</th>\n",
       "      <th>totalReliability</th>\n",
       "      <th>Disp</th>\n",
       "      <th>prob_inclusion_radius</th>\n",
       "      <th>prob_inclusion_insol</th>\n",
       "      <th>prob_inclusion_teff</th>\n",
       "      <th>prob_inclusion</th>\n",
       "    </tr>\n",
       "  </thead>\n",
       "  <tbody>\n",
       "    <tr>\n",
       "      <th>1891</th>\n",
       "      <td>4138008</td>\n",
       "      <td>K04742.01</td>\n",
       "      <td>1</td>\n",
       "      <td>CANDIDATE</td>\n",
       "      <td>0.993</td>\n",
       "      <td>112.303136</td>\n",
       "      <td>12.923793</td>\n",
       "      <td>1.30</td>\n",
       "      <td>0.07</td>\n",
       "      <td>-0.05</td>\n",
       "      <td>...</td>\n",
       "      <td>0.995950</td>\n",
       "      <td>0.323238</td>\n",
       "      <td>0.998058</td>\n",
       "      <td>0.09000</td>\n",
       "      <td>0.908232</td>\n",
       "      <td>PC</td>\n",
       "      <td>1.000000</td>\n",
       "      <td>1.000000</td>\n",
       "      <td>1.000000</td>\n",
       "      <td>1.000000</td>\n",
       "    </tr>\n",
       "    <tr>\n",
       "      <th>2307</th>\n",
       "      <td>5802205</td>\n",
       "      <td>K08107.01</td>\n",
       "      <td>1</td>\n",
       "      <td>CANDIDATE</td>\n",
       "      <td>0.381</td>\n",
       "      <td>578.887610</td>\n",
       "      <td>7.586177</td>\n",
       "      <td>1.69</td>\n",
       "      <td>0.45</td>\n",
       "      <td>-0.67</td>\n",
       "      <td>...</td>\n",
       "      <td>0.993533</td>\n",
       "      <td>0.983084</td>\n",
       "      <td>0.621722</td>\n",
       "      <td>0.00250</td>\n",
       "      <td>0.620168</td>\n",
       "      <td>PC</td>\n",
       "      <td>1.000000</td>\n",
       "      <td>1.000000</td>\n",
       "      <td>1.000000</td>\n",
       "      <td>1.000000</td>\n",
       "    </tr>\n",
       "    <tr>\n",
       "      <th>2356</th>\n",
       "      <td>8311864</td>\n",
       "      <td>K07016.01</td>\n",
       "      <td>1</td>\n",
       "      <td>CANDIDATE</td>\n",
       "      <td>0.771</td>\n",
       "      <td>384.847556</td>\n",
       "      <td>7.602392</td>\n",
       "      <td>1.09</td>\n",
       "      <td>0.20</td>\n",
       "      <td>-0.10</td>\n",
       "      <td>...</td>\n",
       "      <td>0.991249</td>\n",
       "      <td>0.973007</td>\n",
       "      <td>0.681760</td>\n",
       "      <td>0.00860</td>\n",
       "      <td>0.675897</td>\n",
       "      <td>PC</td>\n",
       "      <td>1.000000</td>\n",
       "      <td>1.000000</td>\n",
       "      <td>1.000000</td>\n",
       "      <td>1.000000</td>\n",
       "    </tr>\n",
       "    <tr>\n",
       "      <th>1357</th>\n",
       "      <td>5184911</td>\n",
       "      <td>K02719.02</td>\n",
       "      <td>2</td>\n",
       "      <td>CANDIDATE</td>\n",
       "      <td>0.990</td>\n",
       "      <td>106.259760</td>\n",
       "      <td>10.022375</td>\n",
       "      <td>1.50</td>\n",
       "      <td>0.10</td>\n",
       "      <td>-0.16</td>\n",
       "      <td>...</td>\n",
       "      <td>0.995846</td>\n",
       "      <td>0.403468</td>\n",
       "      <td>0.997178</td>\n",
       "      <td>0.04000</td>\n",
       "      <td>0.957291</td>\n",
       "      <td>PC</td>\n",
       "      <td>1.000000</td>\n",
       "      <td>1.000000</td>\n",
       "      <td>1.000000</td>\n",
       "      <td>1.000000</td>\n",
       "    </tr>\n",
       "    <tr>\n",
       "      <th>2508</th>\n",
       "      <td>9002278</td>\n",
       "      <td>K00701.03</td>\n",
       "      <td>3</td>\n",
       "      <td>CANDIDATE</td>\n",
       "      <td>0.994</td>\n",
       "      <td>122.385868</td>\n",
       "      <td>35.940640</td>\n",
       "      <td>1.72</td>\n",
       "      <td>0.10</td>\n",
       "      <td>-0.07</td>\n",
       "      <td>...</td>\n",
       "      <td>0.995950</td>\n",
       "      <td>0.015811</td>\n",
       "      <td>0.999935</td>\n",
       "      <td>0.00280</td>\n",
       "      <td>0.997135</td>\n",
       "      <td>PC</td>\n",
       "      <td>1.000000</td>\n",
       "      <td>1.000000</td>\n",
       "      <td>1.000000</td>\n",
       "      <td>1.000000</td>\n",
       "    </tr>\n",
       "    <tr>\n",
       "      <th>...</th>\n",
       "      <td>...</td>\n",
       "      <td>...</td>\n",
       "      <td>...</td>\n",
       "      <td>...</td>\n",
       "      <td>...</td>\n",
       "      <td>...</td>\n",
       "      <td>...</td>\n",
       "      <td>...</td>\n",
       "      <td>...</td>\n",
       "      <td>...</td>\n",
       "      <td>...</td>\n",
       "      <td>...</td>\n",
       "      <td>...</td>\n",
       "      <td>...</td>\n",
       "      <td>...</td>\n",
       "      <td>...</td>\n",
       "      <td>...</td>\n",
       "      <td>...</td>\n",
       "      <td>...</td>\n",
       "      <td>...</td>\n",
       "      <td>...</td>\n",
       "    </tr>\n",
       "    <tr>\n",
       "      <th>1793</th>\n",
       "      <td>3217264</td>\n",
       "      <td>K00401.02</td>\n",
       "      <td>2</td>\n",
       "      <td>CANDIDATE</td>\n",
       "      <td>1.000</td>\n",
       "      <td>160.019160</td>\n",
       "      <td>46.990246</td>\n",
       "      <td>4.28</td>\n",
       "      <td>0.50</td>\n",
       "      <td>-0.33</td>\n",
       "      <td>...</td>\n",
       "      <td>0.995950</td>\n",
       "      <td>0.005316</td>\n",
       "      <td>0.999978</td>\n",
       "      <td>0.05200</td>\n",
       "      <td>0.947979</td>\n",
       "      <td>PC</td>\n",
       "      <td>0.000848</td>\n",
       "      <td>0.678187</td>\n",
       "      <td>1.000000</td>\n",
       "      <td>0.000575</td>\n",
       "    </tr>\n",
       "    <tr>\n",
       "      <th>182</th>\n",
       "      <td>10166274</td>\n",
       "      <td>K01078.03</td>\n",
       "      <td>3</td>\n",
       "      <td>CANDIDATE</td>\n",
       "      <td>0.992</td>\n",
       "      <td>28.464648</td>\n",
       "      <td>22.192923</td>\n",
       "      <td>1.87</td>\n",
       "      <td>0.14</td>\n",
       "      <td>-0.22</td>\n",
       "      <td>...</td>\n",
       "      <td>0.995950</td>\n",
       "      <td>0.028613</td>\n",
       "      <td>0.999880</td>\n",
       "      <td>0.00012</td>\n",
       "      <td>0.999760</td>\n",
       "      <td>PC</td>\n",
       "      <td>0.999837</td>\n",
       "      <td>0.000488</td>\n",
       "      <td>0.967586</td>\n",
       "      <td>0.000472</td>\n",
       "    </tr>\n",
       "    <tr>\n",
       "      <th>483</th>\n",
       "      <td>9650808</td>\n",
       "      <td>K01970.02</td>\n",
       "      <td>2</td>\n",
       "      <td>CANDIDATE</td>\n",
       "      <td>0.899</td>\n",
       "      <td>125.602323</td>\n",
       "      <td>19.515469</td>\n",
       "      <td>2.89</td>\n",
       "      <td>0.81</td>\n",
       "      <td>-0.35</td>\n",
       "      <td>...</td>\n",
       "      <td>0.995950</td>\n",
       "      <td>0.176609</td>\n",
       "      <td>0.999128</td>\n",
       "      <td>0.00073</td>\n",
       "      <td>0.998398</td>\n",
       "      <td>PC</td>\n",
       "      <td>0.091889</td>\n",
       "      <td>0.004394</td>\n",
       "      <td>1.000000</td>\n",
       "      <td>0.000404</td>\n",
       "    </tr>\n",
       "    <tr>\n",
       "      <th>1893</th>\n",
       "      <td>9782748</td>\n",
       "      <td>K04856.01</td>\n",
       "      <td>1</td>\n",
       "      <td>CANDIDATE</td>\n",
       "      <td>0.924</td>\n",
       "      <td>147.388124</td>\n",
       "      <td>13.097614</td>\n",
       "      <td>3.03</td>\n",
       "      <td>1.00</td>\n",
       "      <td>-0.34</td>\n",
       "      <td>...</td>\n",
       "      <td>0.995950</td>\n",
       "      <td>0.449405</td>\n",
       "      <td>0.996681</td>\n",
       "      <td>0.00150</td>\n",
       "      <td>0.995186</td>\n",
       "      <td>PC</td>\n",
       "      <td>0.024800</td>\n",
       "      <td>0.011613</td>\n",
       "      <td>1.000000</td>\n",
       "      <td>0.000288</td>\n",
       "    </tr>\n",
       "    <tr>\n",
       "      <th>124</th>\n",
       "      <td>11754553</td>\n",
       "      <td>K00775.03</td>\n",
       "      <td>3</td>\n",
       "      <td>CANDIDATE</td>\n",
       "      <td>1.000</td>\n",
       "      <td>36.445400</td>\n",
       "      <td>19.803268</td>\n",
       "      <td>1.99</td>\n",
       "      <td>0.09</td>\n",
       "      <td>-0.09</td>\n",
       "      <td>...</td>\n",
       "      <td>0.995950</td>\n",
       "      <td>0.046269</td>\n",
       "      <td>0.999803</td>\n",
       "      <td>0.00080</td>\n",
       "      <td>0.999003</td>\n",
       "      <td>PC</td>\n",
       "      <td>0.999920</td>\n",
       "      <td>0.000258</td>\n",
       "      <td>0.999989</td>\n",
       "      <td>0.000258</td>\n",
       "    </tr>\n",
       "  </tbody>\n",
       "</table>\n",
       "<p>117 rows × 52 columns</p>\n",
       "</div>"
      ],
      "text/plain": [
       "       kepid_x kepoi_name  koi_tce_plnt_num koi_pdisposition  koi_score  \\\n",
       "1891   4138008  K04742.01                 1        CANDIDATE      0.993   \n",
       "2307   5802205  K08107.01                 1        CANDIDATE      0.381   \n",
       "2356   8311864  K07016.01                 1        CANDIDATE      0.771   \n",
       "1357   5184911  K02719.02                 2        CANDIDATE      0.990   \n",
       "2508   9002278  K00701.03                 3        CANDIDATE      0.994   \n",
       "...        ...        ...               ...              ...        ...   \n",
       "1793   3217264  K00401.02                 2        CANDIDATE      1.000   \n",
       "182   10166274  K01078.03                 3        CANDIDATE      0.992   \n",
       "483    9650808  K01970.02                 2        CANDIDATE      0.899   \n",
       "1893   9782748  K04856.01                 1        CANDIDATE      0.924   \n",
       "124   11754553  K00775.03                 3        CANDIDATE      1.000   \n",
       "\n",
       "      koi_period  koi_max_mult_ev  koi_prad  koi_prad_err1  koi_prad_err2  \\\n",
       "1891  112.303136        12.923793      1.30           0.07          -0.05   \n",
       "2307  578.887610         7.586177      1.69           0.45          -0.67   \n",
       "2356  384.847556         7.602392      1.09           0.20          -0.10   \n",
       "1357  106.259760        10.022375      1.50           0.10          -0.16   \n",
       "2508  122.385868        35.940640      1.72           0.10          -0.07   \n",
       "...          ...              ...       ...            ...            ...   \n",
       "1793  160.019160        46.990246      4.28           0.50          -0.33   \n",
       "182    28.464648        22.192923      1.87           0.14          -0.22   \n",
       "483   125.602323        19.515469      2.89           0.81          -0.35   \n",
       "1893  147.388124        13.097614      3.03           1.00          -0.34   \n",
       "124    36.445400        19.803268      1.99           0.09          -0.09   \n",
       "\n",
       "      ...  fpEffectiveness  obsFpRate  reliability  fpp_prob_use  \\\n",
       "1891  ...         0.995950   0.323238     0.998058       0.09000   \n",
       "2307  ...         0.993533   0.983084     0.621722       0.00250   \n",
       "2356  ...         0.991249   0.973007     0.681760       0.00860   \n",
       "1357  ...         0.995846   0.403468     0.997178       0.04000   \n",
       "2508  ...         0.995950   0.015811     0.999935       0.00280   \n",
       "...   ...              ...        ...          ...           ...   \n",
       "1793  ...         0.995950   0.005316     0.999978       0.05200   \n",
       "182   ...         0.995950   0.028613     0.999880       0.00012   \n",
       "483   ...         0.995950   0.176609     0.999128       0.00073   \n",
       "1893  ...         0.995950   0.449405     0.996681       0.00150   \n",
       "124   ...         0.995950   0.046269     0.999803       0.00080   \n",
       "\n",
       "      totalReliability Disp  prob_inclusion_radius  prob_inclusion_insol  \\\n",
       "1891          0.908232   PC               1.000000              1.000000   \n",
       "2307          0.620168   PC               1.000000              1.000000   \n",
       "2356          0.675897   PC               1.000000              1.000000   \n",
       "1357          0.957291   PC               1.000000              1.000000   \n",
       "2508          0.997135   PC               1.000000              1.000000   \n",
       "...                ...  ...                    ...                   ...   \n",
       "1793          0.947979   PC               0.000848              0.678187   \n",
       "182           0.999760   PC               0.999837              0.000488   \n",
       "483           0.998398   PC               0.091889              0.004394   \n",
       "1893          0.995186   PC               0.024800              0.011613   \n",
       "124           0.999003   PC               0.999920              0.000258   \n",
       "\n",
       "      prob_inclusion_teff  prob_inclusion  \n",
       "1891             1.000000        1.000000  \n",
       "2307             1.000000        1.000000  \n",
       "2356             1.000000        1.000000  \n",
       "1357             1.000000        1.000000  \n",
       "2508             1.000000        1.000000  \n",
       "...                   ...             ...  \n",
       "1793             1.000000        0.000575  \n",
       "182              0.967586        0.000472  \n",
       "483              1.000000        0.000404  \n",
       "1893             1.000000        0.000288  \n",
       "124              0.999989        0.000258  \n",
       "\n",
       "[117 rows x 52 columns]"
      ]
     },
     "execution_count": 22,
     "metadata": {},
     "output_type": "execute_result"
    }
   ],
   "source": [
    "sprob_pcs"
   ]
  },
  {
   "cell_type": "code",
   "execution_count": 20,
   "metadata": {},
   "outputs": [
    {
     "data": {
      "text/html": [
       "<i>Table length=117</i>\n",
       "<table id=\"table140639650950392\" class=\"table-striped table-bordered table-condensed\">\n",
       "<thead><tr><th>KOI</th><th>f_KOI</th><th>Radius</th><th>E_Radius</th><th>e_Radius</th><th>Period</th><th>Instel</th><th>E_Instel</th><th>e_Instel</th><th>Teff</th><th>E_Teff</th><th>e_Teff</th><th>Rel</th><th>IncProb</th></tr></thead>\n",
       "<thead><tr><th></th><th></th><th>Rgeo</th><th>Rgeo</th><th>Rgeo</th><th>d</th><th></th><th></th><th></th><th>K</th><th>K</th><th>K</th><th></th><th></th></tr></thead>\n",
       "<thead><tr><th>str7</th><th>str1</th><th>float64</th><th>float64</th><th>float64</th><th>float64</th><th>float64</th><th>float64</th><th>float64</th><th>int64</th><th>int64</th><th>int64</th><th>float64</th><th>float64</th></tr></thead>\n",
       "<tr><td>4742.01</td><td>b</td><td>1.35</td><td>0.08</td><td>0.08</td><td>112.3</td><td>1.01</td><td>0.08</td><td>0.07</td><td>4602</td><td>84</td><td>76</td><td>0.91</td><td>1.0</td></tr>\n",
       "<tr><td>8107.01</td><td>b</td><td>1.19</td><td>0.06</td><td>0.06</td><td>578.89</td><td>1.0</td><td>0.08</td><td>0.08</td><td>5832</td><td>102</td><td>103</td><td>0.62</td><td>1.0</td></tr>\n",
       "<tr><td>7016.01</td><td>b</td><td>1.46</td><td>0.09</td><td>0.08</td><td>384.85</td><td>1.11</td><td>0.08</td><td>0.08</td><td>5900</td><td>102</td><td>100</td><td>0.68</td><td>1.0</td></tr>\n",
       "<tr><td>2719.02</td><td>b</td><td>1.25</td><td>0.15</td><td>0.08</td><td>106.26</td><td>1.25</td><td>0.1</td><td>0.09</td><td>4601</td><td>81</td><td>76</td><td>0.96</td><td>1.0</td></tr>\n",
       "<tr><td>701.03</td><td>b</td><td>1.8</td><td>0.07</td><td>0.04</td><td>122.39</td><td>1.44</td><td>0.11</td><td>0.1</td><td>4966</td><td>82</td><td>82</td><td>1.0</td><td>1.0</td></tr>\n",
       "<tr><td>4036.01</td><td>b</td><td>1.71</td><td>0.12</td><td>0.08</td><td>168.81</td><td>0.77</td><td>0.05</td><td>0.05</td><td>4697</td><td>76</td><td>68</td><td>1.0</td><td>1.0</td></tr>\n",
       "<tr><td>2194.03</td><td>b</td><td>1.8</td><td>0.1</td><td>0.14</td><td>445.22</td><td>1.36</td><td>0.13</td><td>0.12</td><td>5965</td><td>122</td><td>116</td><td>0.68</td><td>1.0</td></tr>\n",
       "<tr><td>4087.01</td><td>b</td><td>1.8</td><td>0.1</td><td>0.08</td><td>101.11</td><td>0.82</td><td>0.07</td><td>0.07</td><td>4171</td><td>56</td><td>49</td><td>1.0</td><td>1.0</td></tr>\n",
       "<tr><td>7923.01</td><td>b</td><td>0.91</td><td>0.03</td><td>0.08</td><td>395.13</td><td>0.43</td><td>0.03</td><td>0.03</td><td>5064</td><td>84</td><td>73</td><td>0.4</td><td>1.0</td></tr>\n",
       "<tr><td>...</td><td>...</td><td>...</td><td>...</td><td>...</td><td>...</td><td>...</td><td>...</td><td>...</td><td>...</td><td>...</td><td>...</td><td>...</td><td>...</td></tr>\n",
       "<tr><td>7798.01</td><td>--</td><td>2.66</td><td>0.22</td><td>0.19</td><td>309.89</td><td>3.12</td><td>0.32</td><td>0.37</td><td>6258</td><td>133</td><td>127</td><td>0.54</td><td>0.0011</td></tr>\n",
       "<tr><td>6786.01</td><td>--</td><td>3.35</td><td>0.28</td><td>0.28</td><td>455.62</td><td>0.71</td><td>0.12</td><td>0.11</td><td>5622</td><td>118</td><td>115</td><td>0.8</td><td>0.00099</td></tr>\n",
       "<tr><td>2650.01</td><td>--</td><td>1.39</td><td>0.11</td><td>0.08</td><td>34.99</td><td>3.21</td><td>0.34</td><td>0.33</td><td>4096</td><td>69</td><td>80</td><td>1.0</td><td>0.00099</td></tr>\n",
       "<tr><td>416.02</td><td>--</td><td>3.03</td><td>0.19</td><td>0.5</td><td>88.26</td><td>2.71</td><td>0.21</td><td>0.2</td><td>5083</td><td>91</td><td>85</td><td>1.0</td><td>0.00091</td></tr>\n",
       "<tr><td>1980.01</td><td>--</td><td>2.73</td><td>0.07</td><td>0.4</td><td>122.88</td><td>2.7</td><td>0.18</td><td>0.18</td><td>5441</td><td>85</td><td>85</td><td>1.0</td><td>0.00087</td></tr>\n",
       "<tr><td>401.02</td><td>--</td><td>4.17</td><td>0.27</td><td>0.53</td><td>160.02</td><td>2.13</td><td>0.16</td><td>0.15</td><td>5516</td><td>90</td><td>87</td><td>0.95</td><td>0.00057</td></tr>\n",
       "<tr><td>1078.03</td><td>--</td><td>2.16</td><td>0.09</td><td>0.07</td><td>28.46</td><td>3.03</td><td>0.27</td><td>0.25</td><td>4015</td><td>58</td><td>62</td><td>1.0</td><td>0.00047</td></tr>\n",
       "<tr><td>1970.02</td><td>--</td><td>2.66</td><td>0.15</td><td>0.12</td><td>125.6</td><td>2.99</td><td>0.32</td><td>0.3</td><td>5585</td><td>98</td><td>96</td><td>1.0</td><td>0.0004</td></tr>\n",
       "<tr><td>4856.01</td><td>--</td><td>2.87</td><td>0.22</td><td>0.19</td><td>147.39</td><td>3.16</td><td>0.47</td><td>0.42</td><td>5773</td><td>108</td><td>104</td><td>1.0</td><td>0.00029</td></tr>\n",
       "<tr><td>775.03</td><td>--</td><td>2.04</td><td>0.12</td><td>0.11</td><td>36.45</td><td>3.17</td><td>0.29</td><td>0.28</td><td>4164</td><td>49</td><td>62</td><td>1.0</td><td>0.00026</td></tr>\n",
       "</table>"
      ],
      "text/plain": [
       "<Table length=117>\n",
       "  KOI   f_KOI  Radius E_Radius e_Radius ...  Teff E_Teff e_Teff   Rel   IncProb\n",
       "                Rgeo    Rgeo     Rgeo   ...   K     K      K                   \n",
       "  str7   str1 float64 float64  float64  ... int64 int64  int64  float64 float64\n",
       "------- ----- ------- -------- -------- ... ----- ------ ------ ------- -------\n",
       "4742.01     b    1.35     0.08     0.08 ...  4602     84     76    0.91     1.0\n",
       "8107.01     b    1.19     0.06     0.06 ...  5832    102    103    0.62     1.0\n",
       "7016.01     b    1.46     0.09     0.08 ...  5900    102    100    0.68     1.0\n",
       "2719.02     b    1.25     0.15     0.08 ...  4601     81     76    0.96     1.0\n",
       " 701.03     b     1.8     0.07     0.04 ...  4966     82     82     1.0     1.0\n",
       "4036.01     b    1.71     0.12     0.08 ...  4697     76     68     1.0     1.0\n",
       "2194.03     b     1.8      0.1     0.14 ...  5965    122    116    0.68     1.0\n",
       "4087.01     b     1.8      0.1     0.08 ...  4171     56     49     1.0     1.0\n",
       "7923.01     b    0.91     0.03     0.08 ...  5064     84     73     0.4     1.0\n",
       "    ...   ...     ...      ...      ... ...   ...    ...    ...     ...     ...\n",
       "7798.01    --    2.66     0.22     0.19 ...  6258    133    127    0.54  0.0011\n",
       "6786.01    --    3.35     0.28     0.28 ...  5622    118    115     0.8 0.00099\n",
       "2650.01    --    1.39     0.11     0.08 ...  4096     69     80     1.0 0.00099\n",
       " 416.02    --    3.03     0.19      0.5 ...  5083     91     85     1.0 0.00091\n",
       "1980.01    --    2.73     0.07      0.4 ...  5441     85     85     1.0 0.00087\n",
       " 401.02    --    4.17     0.27     0.53 ...  5516     90     87    0.95 0.00057\n",
       "1078.03    --    2.16     0.09     0.07 ...  4015     58     62     1.0 0.00047\n",
       "1970.02    --    2.66     0.15     0.12 ...  5585     98     96     1.0  0.0004\n",
       "4856.01    --    2.87     0.22     0.19 ...  5773    108    104     1.0 0.00029\n",
       " 775.03    --    2.04     0.12     0.11 ...  4164     49     62     1.0 0.00026"
      ]
     },
     "execution_count": 20,
     "metadata": {},
     "output_type": "execute_result"
    }
   ],
   "source": [
    "from astropy.io import ascii\n",
    "paperTable = ascii.read(\"../../papers/paper3/proof/AAS27024R2_datafile8.txt\")\n",
    "paperTable"
   ]
  },
  {
   "cell_type": "code",
   "execution_count": 39,
   "metadata": {},
   "outputs": [
    {
     "data": {
      "text/plain": [
       "1.35"
      ]
     },
     "execution_count": 39,
     "metadata": {},
     "output_type": "execute_result"
    }
   ],
   "source": [
    "paperTable[0][2]"
   ]
  },
  {
   "cell_type": "code",
   "execution_count": 56,
   "metadata": {},
   "outputs": [],
   "source": [
    "i = 0\n",
    "for ii, p in prob_pcs.sort_values(\"prob_inclusion\", ascending=False).iterrows():\n",
    "    if p.KOI != float(paperTable[i][0]):\n",
    "        print(\"KOI error \" + str(p.KOI) + \" \" + paperTable[i][0])\n",
    "    if round(p.gaia_iso_prad,2) != paperTable[i][2]:\n",
    "        print(\"gaia_iso_prad error\" + str(p.KOI) + \" \" + str(round(p.gaia_iso_prad,2)) + \" \" + str(paperTable[i][2]))\n",
    "    if round(p.gaia_iso_prad_errp,2) != paperTable[i][3]:\n",
    "        print(\"gaia_iso_prad_errp error \" + str(p.KOI) + \" \" + str(round(p.gaia_iso_prad_errp,2)) + \" \" + str(paperTable[i][3]))\n",
    "    if round(p.gaia_iso_prad_errm,2) != paperTable[i][4]:\n",
    "        print(\"gaia_iso_prad_errm error \" + str(p.KOI) + \" \" + str(round(p.gaia_iso_prad_errm,2)) + \" \" + str(paperTable[i][4]))\n",
    "    if round(p.koi_period,2) != paperTable[i][5]:\n",
    "        print(\"koi_period error \" + str(p.KOI) + \" \" + str(round(p.koi_period,2)) + \" \" + str(paperTable[i][5]))\n",
    "    if round(p.gaia_iso_insol,2) != paperTable[i][6]:\n",
    "        print(\"gaia_iso_insol error \" + str(p.KOI) + \" \" + str(round(p.gaia_iso_insol,2)) + \" \" + str(paperTable[i][6]))\n",
    "    if round(p.gaia_iso_insol_errp,2) != paperTable[i][7]:\n",
    "        print(\"gaia_iso_insol_errp error \" + str(p.KOI) + \" \" + str(round(p.gaia_iso_insol_errp,2)) + \" \" + str(paperTable[i][7]))\n",
    "    if round(p.gaia_iso_insol_errm,2) != paperTable[i][8]:\n",
    "        print(\"gaia_iso_insol_errm error \" + str(p.KOI) + \" \" + str(round(p.gaia_iso_insol_errm,2)) + \" \" + str(paperTable[i][8]))\n",
    "    if round(p.teff,0) != paperTable[i][9]:\n",
    "        print(\"teff error \" + str(p.KOI) + \" \" + str(round(p.teff,0)) + \" \" + str(paperTable[i][9]))\n",
    "    if round(p.teff_err1,0) != paperTable[i][10]:\n",
    "        print(\"teff_err1 error \" + str(p.KOI) + \" \" + str(round(p.teff_err1,0)) + \" \" + str(paperTable[i][10]))\n",
    "    if round(p.teff_err2,0) != paperTable[i][11]:\n",
    "        print(\"teff_err2 error \" + str(p.KOI) + \" \" + str(round(p.teff_err2,0)) + \" \" + str(paperTable[i][11]))\n",
    "    if round(p.totalReliability,2) != paperTable[i][12]:\n",
    "        print(\"totalReliability error \" + str(p.KOI) + \" \" + str(round(p.totalReliability,2)) + \" \" + str(paperTable[i][12]))\n",
    "    if round(p.prob_inclusion,5) != paperTable[i][13]:\n",
    "        print(\"prob_inclusion error \" + str(p.KOI) + \" \" + str(round(p.prob_inclusion,5)) + \" \" + str(paperTable[i][13]))\n",
    "    i += 1"
   ]
  },
  {
   "cell_type": "code",
   "execution_count": null,
   "metadata": {},
   "outputs": [],
   "source": []
  }
 ],
 "metadata": {
  "kernelspec": {
   "display_name": "Python 3",
   "language": "python",
   "name": "python3"
  },
  "language_info": {
   "codemirror_mode": {
    "name": "ipython",
    "version": 3
   },
   "file_extension": ".py",
   "mimetype": "text/x-python",
   "name": "python",
   "nbconvert_exporter": "python",
   "pygments_lexer": "ipython3",
   "version": "3.6.10"
  }
 },
 "nbformat": 4,
 "nbformat_minor": 4
}
