{
 "cells": [
  {
   "cell_type": "code",
   "execution_count": 1,
   "metadata": {},
   "outputs": [],
   "source": [
    "import os\n",
    "import requests\n",
    "import pandas as pd\n",
    "from astropy.io import fits\n",
    "import numpy as np\n",
    "import matplotlib.pyplot as plt\n",
    "from scipy.stats import gamma\n",
    "from scipy.optimize import minimize\n",
    "from scipy.interpolate import RectBivariateSpline\n",
    "import emcee\n",
    "import corner\n",
    "import scipy.io as sio\n",
    "from ipywidgets import FloatProgress\n",
    "from IPython.display import display\n",
    "import time\n",
    "import os.path\n",
    "from os import path\n",
    "\n",
    "import sys\n",
    "sys.path.insert(0, '../completenessContours')\n",
    "import compute_num_completeness_w_ve_insol as kp\n",
    "\n",
    "sys.path.insert(0, '..')\n",
    "import occRateUtils as ut\n",
    "\n",
    "import rateModels3D as rm3D"
   ]
  },
  {
   "cell_type": "code",
   "execution_count": 2,
   "metadata": {},
   "outputs": [
    {
     "name": "stdout",
     "output_type": "stream",
     "text": [
      "allStars has 68885 stars\n"
     ]
    }
   ],
   "source": [
    "figDir = \"summaryFigures\"\n",
    "stellarCatalog = \"../stellarCatalogs/dr25_stellar_berger2020_clean_hab2.txt\"\n",
    "allStars = pd.read_csv(stellarCatalog)\n",
    "# allStars = pd.read_csv(\"../stellarCatalogs/dr25_stellar_supp_gaia_clean_GKM.txt\")\n",
    "print(\"allStars has \" + str(len(allStars)) + \" stars\")\n"
   ]
  },
  {
   "cell_type": "code",
   "execution_count": 3,
   "metadata": {},
   "outputs": [],
   "source": [
    "teffRange = (3900, 6300)\n",
    "\n",
    "cs = rm3D.compSpace(periodName = \"Insolation\", \n",
    "               periodUnits = \"Earth Flux\",\n",
    "               periodRange = (2.2, 0.2), \n",
    "               nPeriod = 61, \n",
    "               radiusName = \"Radius\", \n",
    "               radiusUnits = \"$R_\\oplus$\",\n",
    "               rpRange = (0.5, 2.5), \n",
    "               nRp = 61,\n",
    "               tempName = \"$T_\\mathrm{eff}$\", \n",
    "               tempUnits = \"$R_\\oplus$\",\n",
    "               tempRange = teffRange, \n",
    "               nTemp = 10)\n",
    "\n",
    "model = rm3D.triplePowerLawTeffAvg(cs) # model 1\n",
    "\n",
    "postZero = np.load(\"computeOccurrencefixedTeff_dr25_hab2_triplePowerLawTeffAvg_extrap_zero_uncertainty_out/occurenceRatePosteriors.npy\")           \n",
    "postConst= np.load(\"computeOccurrencefixedTeff_dr25_hab2_triplePowerLawTeffAvg_extrap_const_uncertainty_out/occurenceRatePosteriors.npy\")           \n",
    "medThetaZero = np.median(postZero, 0)\n",
    "medThetaConst = np.median(postConst, 0)"
   ]
  },
  {
   "cell_type": "code",
   "execution_count": 4,
   "metadata": {},
   "outputs": [
    {
     "data": {
      "text/plain": [
       "array([0.40657862])"
      ]
     },
     "execution_count": 4,
     "metadata": {},
     "output_type": "execute_result"
    }
   ],
   "source": [
    "-(4/3)*model.rateModel(1, 1, np.atleast_1d(4780), cs.periodRange, cs.rpRange, cs.tempRange, medThetaZero)"
   ]
  },
  {
   "cell_type": "code",
   "execution_count": 5,
   "metadata": {},
   "outputs": [
    {
     "data": {
      "text/plain": [
       "array([0.36564553])"
      ]
     },
     "execution_count": 5,
     "metadata": {},
     "output_type": "execute_result"
    }
   ],
   "source": [
    "-(4/3)*model.rateModel(1, 1, np.atleast_1d(4780), cs.periodRange, cs.rpRange, cs.tempRange, medThetaConst)"
   ]
  },
  {
   "cell_type": "code",
   "execution_count": 6,
   "metadata": {},
   "outputs": [
    {
     "data": {
      "text/plain": [
       "'0.384^{+0.267}_{-0.177}'"
      ]
     },
     "execution_count": 6,
     "metadata": {},
     "output_type": "execute_result"
    }
   ],
   "source": [
    "ut.printMedianAndErrorbars(-(4/3)*model.rateModel(1, 1, np.atleast_1d(4780), cs.periodRange, cs.rpRange, cs.tempRange, postZero))"
   ]
  },
  {
   "cell_type": "code",
   "execution_count": 7,
   "metadata": {},
   "outputs": [
    {
     "data": {
      "text/plain": [
       "'0.348^{+0.242}_{-0.161}'"
      ]
     },
     "execution_count": 7,
     "metadata": {},
     "output_type": "execute_result"
    }
   ],
   "source": [
    "ut.printMedianAndErrorbars(-(4/3)*model.rateModel(1, 1, np.atleast_1d(4780), cs.periodRange, cs.rpRange, cs.tempRange, postConst))"
   ]
  },
  {
   "cell_type": "code",
   "execution_count": 14,
   "metadata": {},
   "outputs": [],
   "source": [
    "def compute_Gamma_Earth(post):\n",
    "    Samples = 1000\n",
    "    GammaEarthDist = np.zeros((len(allStars), nSamples))\n",
    "    f = FloatProgress(min=0, max=len(allStars))\n",
    "    display(f)\n",
    "    for i, s in allStars.iterrows():\n",
    "        insol = s.radius**2 * (s.teff/4778)**4 / s.mass**(2./3)\n",
    "    #     lmb = model.rateModel(insol, 1, np.atleast_1d(s.teff), cs.periodRange, cs.rpRange, cs.tempRange, medThetaZero)\n",
    "        sampleIndex = np.floor(post.shape[0]*np.random.rand(nSamples)).astype(int)\n",
    "        lmb = model.rateModel(insol, 1, np.atleast_1d(s.teff), cs.periodRange, cs.rpRange, cs.tempRange, post[sampleIndex,:])\n",
    "        GammaEarthDist[i,:] = -(4/3)*insol*lmb\n",
    "        f.value += 1\n",
    "\n",
    "    return GammaEarthDist"
   ]
  },
  {
   "cell_type": "code",
   "execution_count": 18,
   "metadata": {},
   "outputs": [
    {
     "data": {
      "application/vnd.jupyter.widget-view+json": {
       "model_id": "6e8aae334e9b4fe2a45869fef923019c",
       "version_major": 2,
       "version_minor": 0
      },
      "text/plain": [
       "FloatProgress(value=0.0, max=68885.0)"
      ]
     },
     "metadata": {},
     "output_type": "display_data"
    },
    {
     "data": {
      "text/plain": [
       "'0.50^{+0.46}_{-0.26}'"
      ]
     },
     "execution_count": 18,
     "metadata": {},
     "output_type": "execute_result"
    }
   ],
   "source": [
    "GammaEarthZero = compute_Gamma_Earth(postZero)\n",
    "ut.printMedianAndErrorbars(GammaEarthZero.flatten(), precision=2)"
   ]
  },
  {
   "cell_type": "code",
   "execution_count": 17,
   "metadata": {},
   "outputs": [
    {
     "data": {
      "application/vnd.jupyter.widget-view+json": {
       "model_id": "4bee3f8450a64526b3cf3302e58e960b",
       "version_major": 2,
       "version_minor": 0
      },
      "text/plain": [
       "FloatProgress(value=0.0, max=68885.0)"
      ]
     },
     "metadata": {},
     "output_type": "display_data"
    },
    {
     "data": {
      "text/plain": [
       "'0.45^{+0.45}_{-0.24}'"
      ]
     },
     "execution_count": 17,
     "metadata": {},
     "output_type": "execute_result"
    }
   ],
   "source": [
    "GammaEarthConst = compute_Gamma_Earth(postConst)\n",
    "ut.printMedianAndErrorbars(GammaEarthConst.flatten(), precision=2)"
   ]
  },
  {
   "cell_type": "code",
   "execution_count": null,
   "metadata": {},
   "outputs": [],
   "source": []
  },
  {
   "cell_type": "code",
   "execution_count": null,
   "metadata": {},
   "outputs": [],
   "source": []
  }
 ],
 "metadata": {
  "kernelspec": {
   "display_name": "Python 3",
   "language": "python",
   "name": "python3"
  },
  "language_info": {
   "codemirror_mode": {
    "name": "ipython",
    "version": 3
   },
   "file_extension": ".py",
   "mimetype": "text/x-python",
   "name": "python",
   "nbconvert_exporter": "python",
   "pygments_lexer": "ipython3",
   "version": "3.6.10"
  }
 },
 "nbformat": 4,
 "nbformat_minor": 4
}
