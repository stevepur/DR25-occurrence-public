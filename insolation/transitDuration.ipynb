{
 "cells": [
  {
   "cell_type": "code",
   "execution_count": 1,
   "metadata": {},
   "outputs": [],
   "source": [
    "import numpy as np\n",
    "import matplotlib.pyplot as plt\n",
    "import pandas as pd\n",
    "import rateModels3D as rm3D"
   ]
  },
  {
   "cell_type": "code",
   "execution_count": 2,
   "metadata": {},
   "outputs": [],
   "source": [
    "def mstar_from_stellarprops(rstar, logg):\n",
    "    \"\"\"Gives stellar mass from the rstar and logg\n",
    "       INPUT:\n",
    "         rstar - Radius of star [Rsun]\n",
    "         logg - log surface gravity [cgs]\n",
    "       OUTPUT:\n",
    "         mstar - stellar mass [Msun]\n",
    "    \"\"\"\n",
    "    # Convert logg and rstar into stellar mass assuming logg_sun=4.437\n",
    "    mstar = 10.0**logg * rstar**2. / 10.0**4.437\n",
    "    return mstar\n",
    "\n",
    "\n",
    "def transit_duration(rstar, logg, per, ecc=0):\n",
    "    \"\"\"Transit duration\n",
    "       assuming uniform distribution of cos(inc) orbits,\n",
    "       assuming rstar/a is small, and assuming rp/rstar is small.\n",
    "       INPUT:\n",
    "        rstar - Radius of star [Rsun]\n",
    "        logg - log surface gravity [cgs]\n",
    "        per - Period of orbit [day]\n",
    "        ecc - Eccentricity; hardcoded to be < 0.99 \n",
    "       OUTPUT:\n",
    "        durat - Transit duration [hr]\n",
    "       COMMENTS:  example:  x=transit_duration(1.0,4.437,365.25,0.0)\n",
    "                            x=10.19559 [hr] duration for planet in 1 year orbit\n",
    "                            around sun\n",
    "    \"\"\"\n",
    "    # Replace large ecc values with 0.99\n",
    "    ecc = np.where(ecc > 0.99, 0.99, ecc)\n",
    "    # Convert logg and rstar into stellar mass\n",
    "    mstar = mstar_from_stellarprops(rstar, logg)\n",
    "    # Semi-major axis in AU\n",
    "    semia = mstar**(1.0/3.0) * (per/365.25)**(2.0/3.0)\n",
    "    # transit duration e=0 including pi/4 effect of cos(inc) dist\n",
    "    r_sun = 6.9598e10 # cm\n",
    "    au2cm = 1.49598e13 # 1 AU = 1.49598e13 cm\n",
    "    durat = (per*24.0) / 4.0 * (rstar*r_sun) / (semia*au2cm)\n",
    "    #transit duration e > 0\n",
    "    durat = durat * np.sqrt(1.0-ecc**2);\n",
    "\n",
    "    return durat\n",
    "\n",
    "def earthflux_at_period(rstar, logg, teff, period):\n",
    "    \"\"\"Gives equivalent solar-earth bolometric flux for a given period\n",
    "       INPUT:\n",
    "         rstar - Radius of star [Rsun]\n",
    "         logg - log surface gravity [cgs]\n",
    "         teff - Effective Temperature [K]\n",
    "         period - Orbital Period [day]\n",
    "       OUTPUT:\n",
    "         flx - Flux relative to sun-earth \n",
    "    \"\"\"\n",
    "    mstar = mstar_from_stellarprops(rstar, logg)\n",
    "    # Calculate semi-major axis [AU]\n",
    "    semia = mstar**(1.0/3.0) * (period/365.25)**(2.0/3.0)\n",
    "    # Star bolometric luminosity in Lsun assuming teff_sun=5778.0\n",
    "    lumstar = rstar**2.0 * (teff/5778.0)**4.0\n",
    "    # Calculate solar earth bolometric flux ratio\n",
    "    flx = lumstar / semia**2.0\n",
    "    return flx\n",
    "\n",
    "def period_at_earthflux(rstar, mstar, teff, seff):\n",
    "    \"\"\"Gives period for a given equivalent solar-earth bolometric flux\n",
    "       INPUT:\n",
    "         rstar - Radius of star [Rsun]\n",
    "         mstar - stellar mass [Msun]\n",
    "         teff - Effective Temperature [K]\n",
    "         seff - insolation flux relative to sun-earth flux\n",
    "       OUTPUT:\n",
    "         period - Orbital period [days]\n",
    "    \"\"\"\n",
    "    # Calculate semi-major axis [AU] assuming teff_sun=5778.0\n",
    "    semia = rstar * (teff/5778.0)**2 / np.sqrt(seff)\n",
    "    period = ( semia / (mstar**(1.0/3.0)) )**(3.0/2.0) * 365.25\n",
    "    return period\n",
    "\n",
    "\n",
    "def earthflux_at_semia(rstar, logg, teff, semia):\n",
    "    \"\"\"Gives equivalent solar-earth bolometric flux for a given period\n",
    "       INPUT:\n",
    "         rstar - Radius of star [Rsun]\n",
    "         logg - log surface gravity [cgs]\n",
    "         teff - Effective Temperature [K]\n",
    "         semia - Orbital semi-major axis [AU]\n",
    "       OUTPUT:\n",
    "         flx - Flux relative to sun-earth \n",
    "    \"\"\"\n",
    "    mstar = mstar_from_stellarprops(rstar, logg)\n",
    "    # Star bolometric luminosity in Lsun assuming teff_sun=5778.0\n",
    "    lumstar = rstar**2.0 * (teff/5778.0)**4.0\n",
    "    # Calculate solar earth bolometric flux ratio\n",
    "    flx = lumstar / semia**2.0\n",
    "    return flx\n",
    "\n",
    "def semia_at_earthflux(rstar, teff, flx):\n",
    "    \"\"\"Gives equivalent solar-earth bolometric flux for a given period\n",
    "       INPUT:\n",
    "         rstar - Radius of star [Rsun]\n",
    "         logg - log surface gravity [cgs]\n",
    "         teff - Effective Temperature [K]\n",
    "         flx - Flux relative to sun-earth\n",
    "       OUTPUT:\n",
    "         semia - Orbital semi-major axis [AU]\n",
    "    \"\"\"\n",
    "    # Star bolometric luminosity in Lsun assuming teff_sun=5778.0\n",
    "    lumstar = rstar**2.0 * (teff/5778.0)**4.0\n",
    "    # Calculate solar earth bolometric flux ratio\n",
    "    semia = np.sqrt(lumstar/flx)\n",
    "    return semia\n"
   ]
  },
  {
   "cell_type": "code",
   "execution_count": 3,
   "metadata": {},
   "outputs": [
    {
     "name": "stdout",
     "output_type": "stream",
     "text": [
      "stellarTargets has 68885 stars\n"
     ]
    }
   ],
   "source": [
    "figDir = \"summaryFigures\"\n",
    "stellarCatalog = \"../stellarCatalogs/dr25_stellar_berger2020_clean_hab2.txt\"\n",
    "stellarTargets = pd.read_csv(stellarCatalog)\n",
    "# allStars = pd.read_csv(\"../stellarCatalogs/dr25_stellar_supp_gaia_clean_GKM.txt\")\n",
    "print(\"stellarTargets has \" + str(len(stellarTargets)) + \" stars\")\n"
   ]
  },
  {
   "cell_type": "code",
   "execution_count": 5,
   "metadata": {},
   "outputs": [],
   "source": [
    "optHz = rm3D.getHzFlux(stellarTargets.iso_teff, hzType = \"optimistic\")\n"
   ]
  },
  {
   "cell_type": "code",
   "execution_count": 6,
   "metadata": {},
   "outputs": [],
   "source": [
    "innerHzPeriod = period_at_earthflux(stellarTargets.iso_rad, stellarTargets.iso_mass, stellarTargets.iso_teff, optHz[0,:])\n",
    "outerHzPeriod = period_at_earthflux(stellarTargets.iso_rad, stellarTargets.iso_mass, stellarTargets.iso_teff, optHz[1,:])"
   ]
  },
  {
   "cell_type": "code",
   "execution_count": 7,
   "metadata": {},
   "outputs": [],
   "source": [
    "duration500d = transit_duration(stellarTargets.radius,stellarTargets.logg,500,0)\n",
    "durationInnerHz = transit_duration(stellarTargets.radius,stellarTargets.logg,innerHzPeriod)\n",
    "durationOuterHz = transit_duration(stellarTargets.radius,stellarTargets.logg,outerHzPeriod)"
   ]
  },
  {
   "cell_type": "code",
   "execution_count": 8,
   "metadata": {},
   "outputs": [
    {
     "name": "stdout",
     "output_type": "stream",
     "text": [
      "11.122192613408783\n"
     ]
    }
   ],
   "source": [
    "print(transit_duration(np.median(stellarTargets.radius),np.median(stellarTargets.logg),500,0))"
   ]
  },
  {
   "cell_type": "code",
   "execution_count": 9,
   "metadata": {},
   "outputs": [
    {
     "data": {
      "text/plain": [
       "41.027300916459126"
      ]
     },
     "execution_count": 9,
     "metadata": {},
     "output_type": "execute_result"
    }
   ],
   "source": [
    "np.max(durationOuterHz)"
   ]
  },
  {
   "cell_type": "code",
   "execution_count": 10,
   "metadata": {},
   "outputs": [
    {
     "data": {
      "image/png": "[encoded data removed]",
      "text/plain": [
       "<Figure size 864x504 with 1 Axes>"
      ]
     },
     "metadata": {
      "needs_background": "light"
     },
     "output_type": "display_data"
    }
   ],
   "source": [
    "plt.figure(figsize=(12,7))\n",
    "plt.hist(duration500d, 100, lw=2, histtype=\"step\");\n",
    "plt.hist(durationInnerHz, 100, lw=2, histtype=\"step\");\n",
    "plt.hist(durationOuterHz, 100, lw=2, histtype=\"step\");\n",
    "plt.legend([\"500 Days\", \"Inner HZ\", \"Outer HZ\"], fontsize = 24)\n",
    "plt.xlim(0,40);\n",
    "plt.tick_params(labelsize = 18)\n",
    "plt.xlabel(\"Transit Duration (hours)\", fontSize = 24);\n",
    "plt.grid(axis='x', linestyle='--', alpha = 0.7)\n",
    "plt.gca().set_yticklabels([])\n",
    "\n",
    "plt.savefig(\"durationDist.pdf\",bbox_inches='tight')\n"
   ]
  },
  {
   "cell_type": "code",
   "execution_count": 11,
   "metadata": {},
   "outputs": [
    {
     "name": "stdout",
     "output_type": "stream",
     "text": [
      "500 day fraction over 15 hours: 0.056166073891268056\n",
      "Inner HZ fraction over 15 hours: 0.02717572766204544\n",
      "Outer HZ fraction over 15 hours: 0.3549539086883937\n"
     ]
    }
   ],
   "source": [
    "print(\"500 day fraction over 15 hours: \" + str(np.sum(duration500d>15)/len(duration500d)))\n",
    "print(\"Inner HZ fraction over 15 hours: \" + str(np.sum(durationInnerHz>15)/len(durationInnerHz)))\n",
    "print(\"Outer HZ fraction over 15 hours: \" + str(np.sum(durationOuterHz>15)/len(durationOuterHz)))\n"
   ]
  },
  {
   "cell_type": "code",
   "execution_count": 18,
   "metadata": {},
   "outputs": [
    {
     "data": {
      "text/plain": [
       "25.0"
      ]
     },
     "execution_count": 18,
     "metadata": {},
     "output_type": "execute_result"
    }
   ],
   "source": [
    "15/9*15"
   ]
  },
  {
   "cell_type": "code",
   "execution_count": 19,
   "metadata": {},
   "outputs": [
    {
     "data": {
      "text/plain": [
       "0.9866734412426508"
      ]
     },
     "execution_count": 19,
     "metadata": {},
     "output_type": "execute_result"
    }
   ],
   "source": [
    "np.sum((durationOuterHz<25))/len(durationOuterHz)"
   ]
  },
  {
   "cell_type": "code",
   "execution_count": 12,
   "metadata": {},
   "outputs": [
    {
     "data": {
      "text/plain": [
       "2.27273921819"
      ]
     },
     "execution_count": 12,
     "metadata": {},
     "output_type": "execute_result"
    }
   ],
   "source": [
    "np.max(stellarTargets.radius)"
   ]
  },
  {
   "cell_type": "code",
   "execution_count": 13,
   "metadata": {},
   "outputs": [
    {
     "data": {
      "text/plain": [
       "4670"
      ]
     },
     "execution_count": 13,
     "metadata": {},
     "output_type": "execute_result"
    }
   ],
   "source": [
    "np.sum(stellarTargets.radius>1.35)"
   ]
  },
  {
   "cell_type": "code",
   "execution_count": 14,
   "metadata": {},
   "outputs": [
    {
     "data": {
      "text/plain": [
       "0.06779414966973941"
      ]
     },
     "execution_count": 14,
     "metadata": {},
     "output_type": "execute_result"
    }
   ],
   "source": [
    "np.sum(stellarTargets.radius>1.35)/float(len(stellarTargets))"
   ]
  },
  {
   "cell_type": "code",
   "execution_count": 15,
   "metadata": {},
   "outputs": [
    {
     "data": {
      "text/plain": [
       "(array([   6.,   16.,   34.,  134.,  385.,  481.,  609.,  829.,  949.,\n",
       "        1227.]),\n",
       " array([5555.26074847, 5629.73369038, 5704.20663229, 5778.6795742 ,\n",
       "        5853.15251611, 5927.62545802, 6002.09839993, 6076.57134184,\n",
       "        6151.04428375, 6225.51722566, 6299.99016757]),\n",
       " <a list of 10 Patch objects>)"
      ]
     },
     "execution_count": 15,
     "metadata": {},
     "output_type": "execute_result"
    },
    {
     "data": {
      "image/png": "[encoded data removed]",
      "text/plain": [
       "<Figure size 432x288 with 1 Axes>"
      ]
     },
     "metadata": {
      "needs_background": "light"
     },
     "output_type": "display_data"
    }
   ],
   "source": [
    "plt.hist(stellarTargets[stellarTargets.radius>1.35].iso_teff)"
   ]
  },
  {
   "cell_type": "code",
   "execution_count": null,
   "metadata": {},
   "outputs": [],
   "source": []
  }
 ],
 "metadata": {
  "kernelspec": {
   "display_name": "Python 3",
   "language": "python",
   "name": "python3"
  },
  "language_info": {
   "codemirror_mode": {
    "name": "ipython",
    "version": 3
   },
   "file_extension": ".py",
   "mimetype": "text/x-python",
   "name": "python",
   "nbconvert_exporter": "python",
   "pygments_lexer": "ipython3",
   "version": "3.6.10"
  }
 },
 "nbformat": 4,
 "nbformat_minor": 2
}
