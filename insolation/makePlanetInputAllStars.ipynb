{
 "cells": [
  {
   "cell_type": "markdown",
   "metadata": {},
   "source": [
    "This notebook prepares a planet candidate catalog for the stellar population in the specified input stellar catalog.  It computes the reliability, corrected planet radius and includes useful planet properties such as robovetter score.  It outputs two catalogs, one that contains only PCs and one that contains all KOIs."
   ]
  },
  {
   "cell_type": "markdown",
   "metadata": {},
   "source": [
    "Reliability is given by\n",
    "\n",
    "$$ R = \\frac{N_{\\mathrm{truePC}}}{N_{\\mathrm{obsPC}}} = 1 - \\frac{N_{\\mathrm{obsFP}}}{N_{\\mathrm{obsPC}}} \\left( \\frac{1 - E}{E} \\right) = 1 - \\frac{F_{\\mathrm{obsFP}}}{F_{\\mathrm{obsPC}}} \\left( \\frac{1 - E}{E} \\right) $$\n",
    "\n",
    "where $E = N_{\\mathrm{obsFP}}/N_{\\mathrm{trueFP}}$ is the false positive effectiveness, $F_{\\mathrm{obsFP}} = N_{\\mathrm{obsFP}}/N_{\\mathrm{obsTCEs}}$ is the fraction of observed TCEs that are dispositioned as FP and $F_{\\mathrm{obsPC}} = N_{\\mathrm{obsPC}}/N_{\\mathrm{obsTCEs}}$ is the fraction of TCEs dispositioned as PC.\n",
    "\n",
    "We will separately measure $E$ and $F_{\\mathrm{obsFP}}$ as binomial point processes with probabilities that depend on period and MES.  Once we have $F_{\\mathrm{obsFP}}$ then $F_{\\mathrm{obsPC}} = 1 - F_{\\mathrm{obsFP}}$, assuming that $N_{\\mathrm{obsTCEs}} = N_{\\mathrm{obsPC}} + N_{\\mathrm{obsFP}}$.\n",
    "\n",
    "We think of TCEs as consisting of two sets: those that are dispositioned as FP and those that are dispositioned as PC.  We do this for both the observed TCEs, and for inverted/scrambled TCEs, where all TCEs are true false positives.  Then we can think of the vetting process as drawing from the set of TCEs, with a probability $r$ of selecting either PCs or FPs.  Then the probability distribution of selecting $c$ FPs from $n$ TCEs is given by the binomial distribution\n",
    "\n",
    "$$P\\{c\\} = \\left( \\begin{array}{c} n \\\\ c \\end{array} \\right) r^c (1-r)^{n-c}.$$\n",
    "\n",
    "To measure $E$ we use the inverted and scrambled data sets, where all detected TCEs are by definition FPs.  We define $E$ as the probability of drawing FPs from inverted/scrambled TCEs, found via the Bayesian inference $p(E|n, c) \\propto p(c|E, n) p(E)$, where \n",
    "$$p(c|E, n) = \\left( \\begin{array}{c} n \\\\ c \\end{array} \\right) E^c (1-E)^{n-c}$$ and\n",
    "$p(E)$ is a prior distribution of the probability $E$.  By putting the data on a grid indexed by $i,j$, we can fit effectiveness as a function parameterized by a vector $\\theta$, $E(\\theta,\\mathrm{period},\\mathrm{MES})$, as $p(\\theta)|n_{i,j}, c_{i,j}, \\mathrm{period}_{i,j},\\mathrm{MES}_{i,j}) \\propto p(c_{i,j}|\\theta, n_{i,j}, \\mathrm{period}_{i,j},\\mathrm{MES}_{i,j}) p(\\theta)$, where $p(\\theta)$ is some prior distribution of the parameters.\n",
    "\n",
    "To measure $F_{\\mathrm{obsFP}}$ we perform a similar inference using the set of observed TCEs, and inferring the probability of drawing c FPs from n observed TCEs.  The inference in this case becomes $p(F_{\\mathrm{obsFP}}|n, c) \\propto p(c|F_{\\mathrm{obsFP}}, n) p(F_{\\mathrm{obsFP}})$, which we can parameterize interms of a function similar to effectiveness.  "
   ]
  },
  {
   "cell_type": "code",
   "execution_count": 1,
   "metadata": {},
   "outputs": [],
   "source": [
    "import numpy as np\n",
    "import matplotlib.pyplot as plt\n",
    "import scipy.special as spec\n",
    "import pandas as pd\n",
    "from astropy.io import ascii\n",
    "from astropy.table import Table, vstack\n",
    "import pickle\n",
    "from mpl_toolkits.mplot3d import Axes3D  \n",
    "from matplotlib import cm\n",
    "\n",
    "import sys\n",
    "sys.path.insert(0, '..')\n",
    "import dr25Models as funcModels"
   ]
  },
  {
   "cell_type": "markdown",
   "metadata": {},
   "source": [
    "Reliability is given by\n",
    "\n",
    "$$ R = \\frac{N_{\\mathrm{truePC}}}{N_{\\mathrm{obsPC}}} = 1 - \\frac{N_{\\mathrm{obsFP}}}{N_{\\mathrm{obsPC}}} \\left( \\frac{1 - E}{E} \\right) = 1 - \\frac{F_{\\mathrm{obsFP}}}{F_{\\mathrm{obsPC}}} \\left( \\frac{1 - E}{E} \\right) = 1 - \\frac{F_{\\mathrm{obsFP}}}{1 - F_{\\mathrm{obsFP}}} \\left( \\frac{1 - E}{E} \\right) $$\n",
    "\n",
    "where $E = N_{\\mathrm{obsFP}}/N_{\\mathrm{trueFP}}$, $F_{\\mathrm{obsFP}} = N_{\\mathrm{obsFP}}/N_{\\mathrm{obsTCEs}}$ is the fraction of observed TCEs that are dispositioned as FP and $F_{\\mathrm{obsPC}} = N_{\\mathrm{obsPC}}/N_{\\mathrm{obsTCEs}}$ is the fraction of TCEs dispositioned as PC.\n",
    "\n",
    "We get $E$ and $F_{\\mathrm{obsFP}}$ from the outputs of the notebooks binomialFPEffectiveness.ipynb and binomialObsFPRate.ipynb."
   ]
  },
  {
   "cell_type": "code",
   "execution_count": 2,
   "metadata": {},
   "outputs": [],
   "source": [
    "catalogType = \"Berger2020\"\n",
    "# catalogType = \"Berger2018comb2019\"\n",
    "# catalogType = \"Burke\"\n",
    "\n"
   ]
  },
  {
   "cell_type": "code",
   "execution_count": 5,
   "metadata": {},
   "outputs": [
    {
     "name": "stdout",
     "output_type": "stream",
     "text": [
      "Loaded 8054 KOIs\n"
     ]
    }
   ],
   "source": [
    "# import requests\n",
    "# from cStringIO import StringIO\n",
    "# if False:\n",
    "#     selectStr = \"kepid,kepoi_name,koi_tce_plnt_num,koi_pdisposition,koi_score,koi_period,koi_max_mult_ev,koi_prad,koi_prad_err1,koi_prad_err2,koi_ror,koi_ror_err1,koi_ror_err2\"\n",
    "#     urlDr25Koi = \"https://exoplanetarchive.ipac.caltech.edu/cgi-bin/nstedAPI/nph-nstedAPI?table=q1_q17_dr25_koi&select=\" + selectStr\n",
    "\n",
    "#     r = requests.get(urlDr25Koi)\n",
    "#     if r.status_code != requests.codes.ok:\n",
    "#         r.raise_for_status()\n",
    "#     fh = StringIO(r.content)\n",
    "#     dr25Koi = pd.read_csv(fh, dtype={\"kepoi_name\":str})\n",
    "#     dr25Koi.to_csv(\"koiCatalogs/dr25_kois_archive.txt\", index=False)\n",
    "# else:\n",
    "#     dr25Koi = pd.read_csv(\"../GKbaseline/koiCatalogs/dr25_kois_archive.txt\", dtype={\"kepoi_name\":str})\n",
    "\n",
    "dr25Koi = pd.read_csv(\"../GKbaseline/koiCatalogs/dr25_kois_archive.txt\", dtype={\"kepoi_name\":str})\n",
    "\n",
    "print(\"Loaded \" + str(len(dr25Koi)) + \" KOIs\")\n",
    "\n",
    "\n",
    "\n"
   ]
  },
  {
   "cell_type": "code",
   "execution_count": 7,
   "metadata": {},
   "outputs": [
    {
     "name": "stdout",
     "output_type": "stream",
     "text": [
      "105118 entries after removing marked binaries\n",
      "105118 entries after removing marked evolved stars\n",
      "102071 entries after removing stars hotter than 7300K\n"
     ]
    }
   ],
   "source": [
    "# restrict the population to stars in the Travis' catalog\n",
    "\n",
    "if catalogType == \"Berger2020\":\n",
    "    dr25CleanStellarIso = pd.read_csv(\"../stellarCatalogs/dr25_stellar_Berger2020_dwarfs.txt\")\n",
    "    # dr25CleanStellarIso = pd.read_csv(\"../stellarCatalogs/dr25_stellar_supp_gaia_clean_GKM.txt\")\n",
    "    dr25CleanStellarIso = dr25CleanStellarIso[(dr25CleanStellarIso.Bin == 0)|(dr25CleanStellarIso.Bin == 2)]\n",
    "    print(str(len(dr25CleanStellarIso)) + \" entries after removing marked binaries\")\n",
    "    dr25CleanStellarIso = dr25CleanStellarIso[dr25CleanStellarIso.Evol == 0]\n",
    "    print(str(len(dr25CleanStellarIso)) + \" entries after removing marked evolved stars\")\n",
    "    \n",
    "    dr25CleanStellarIso = dr25CleanStellarIso[dr25CleanStellarIso.teff <= 7300]\n",
    "    print(str(len(dr25CleanStellarIso)) + \" entries after removing stars hotter than 7300K\")\n",
    "    \n",
    "    dr25CleanStellarIso.to_csv(\"dr25_Berger2020_FGKM_dwarfs.txt\", index=False)\n",
    "\n"
   ]
  },
  {
   "cell_type": "code",
   "execution_count": 8,
   "metadata": {},
   "outputs": [
    {
     "name": "stdout",
     "output_type": "stream",
     "text": [
      "After removing planets not in Travis' list, we have 4750 KOIs\n"
     ]
    }
   ],
   "source": [
    "dr25Koi = dr25Koi[dr25Koi.kepid.isin(dr25CleanStellarIso.kepid)]\n",
    "dr25Koi = dr25Koi.reset_index(drop=True)\n",
    "print(\"After removing planets not in Travis' list, we have \" + str(len(dr25Koi)) + \" KOIs\")\n"
   ]
  },
  {
   "cell_type": "code",
   "execution_count": 9,
   "metadata": {},
   "outputs": [],
   "source": [
    "# merge in only iso_rad and uncertainties from the stellar table\n",
    "\n",
    "dr25Koi = pd.merge(dr25Koi, dr25CleanStellarIso[[\"kepid\",\"radius\",\"radius_err1\",\"radius_err2\",\"teff\",\"logg\"]], on=\"kepid\", how=\"inner\")\n"
   ]
  },
  {
   "cell_type": "code",
   "execution_count": 10,
   "metadata": {},
   "outputs": [],
   "source": [
    "# correct the planet radii with the new catalog\n",
    "\n",
    "rEarth = 6356.8 # km\n",
    "rSun = 695700 # km\n",
    "\n",
    "dr25Koi['corrected_prad'] = dr25Koi['koi_ror']*dr25Koi['radius']*rSun/rEarth;\n",
    "dr25Koi['corrected_prad_err1'] = np.sqrt(dr25Koi['koi_ror_err1']**2*dr25Koi['radius']**2\n",
    "                                        +dr25Koi['koi_ror']**2*dr25Koi['radius_err1']**2)*rSun/rEarth;\n",
    "dr25Koi['corrected_prad_err2'] = -np.sqrt(dr25Koi['koi_ror_err2']**2*dr25Koi['radius']**2\n",
    "                                        +dr25Koi['koi_ror']**2*dr25Koi['radius_err2']**2)*rSun/rEarth;\n",
    "\n",
    "dr25Koi = dr25Koi[~np.isnan(dr25Koi.koi_prad)]"
   ]
  },
  {
   "cell_type": "code",
   "execution_count": 11,
   "metadata": {},
   "outputs": [
    {
     "data": {
      "image/png": "[encoded data removed]",
      "text/plain": [
       "<Figure size 432x288 with 1 Axes>"
      ]
     },
     "metadata": {
      "needs_background": "light"
     },
     "output_type": "display_data"
    }
   ],
   "source": [
    "v = dr25Koi.corrected_prad_err1/dr25Koi.koi_prad_err1\n",
    "plt.hist(v[v<5], 100);"
   ]
  },
  {
   "cell_type": "code",
   "execution_count": 12,
   "metadata": {},
   "outputs": [
    {
     "data": {
      "image/png": "[encoded data removed]",
      "text/plain": [
       "<Figure size 432x288 with 1 Axes>"
      ]
     },
     "metadata": {
      "needs_background": "light"
     },
     "output_type": "display_data"
    }
   ],
   "source": [
    "plt.hist(dr25Koi['corrected_prad'][dr25Koi['corrected_prad']<10], 100);"
   ]
  },
  {
   "cell_type": "code",
   "execution_count": 13,
   "metadata": {},
   "outputs": [
    {
     "data": {
      "text/plain": [
       "(50.0, 400.0)"
      ]
     },
     "execution_count": 13,
     "metadata": {},
     "output_type": "execute_result"
    },
    {
     "data": {
      "image/png": "[encoded data removed]",
      "text/plain": [
       "<Figure size 1080x720 with 1 Axes>"
      ]
     },
     "metadata": {
      "needs_background": "light"
     },
     "output_type": "display_data"
    }
   ],
   "source": [
    "fig, ax = plt.subplots(figsize=(15,10));\n",
    "ax.errorbar(dr25Koi.koi_period, dr25Koi.koi_prad, \n",
    "            yerr = [-dr25Koi.koi_prad_err2, dr25Koi.koi_prad_err1],\n",
    "            fmt=\"k.\", alpha = 0.5);\n",
    "ax.errorbar(dr25Koi.koi_period, dr25Koi.corrected_prad, \n",
    "            yerr = [-dr25Koi.corrected_prad_err2, dr25Koi.corrected_prad_err1],\n",
    "            fmt=\"r.\", alpha = 0.5);\n",
    "\n",
    "plt.xlabel(\"period\");\n",
    "plt.ylabel(\"planet radius\");\n",
    "plt.title(\"KOI Radius Change\");\n",
    "plt.ylim([0, 2.5])\n",
    "plt.xlim([50, 400])\n",
    "\n"
   ]
  },
  {
   "cell_type": "code",
   "execution_count": null,
   "metadata": {},
   "outputs": [],
   "source": []
  },
  {
   "cell_type": "code",
   "execution_count": 14,
   "metadata": {},
   "outputs": [],
   "source": [
    "dr25Fpp = ascii.read(\"../data/q1_q17_dr25_koifpp.txt\")\n",
    "dr25FppPd = dr25Fpp.to_pandas()"
   ]
  },
  {
   "cell_type": "code",
   "execution_count": null,
   "metadata": {},
   "outputs": [],
   "source": []
  },
  {
   "cell_type": "code",
   "execution_count": 15,
   "metadata": {},
   "outputs": [],
   "source": [
    "mergedDr25Koi = pd.merge(dr25Koi, dr25FppPd, on=\"kepoi_name\", how=\"inner\")\n",
    "\n"
   ]
  },
  {
   "cell_type": "code",
   "execution_count": 16,
   "metadata": {},
   "outputs": [
    {
     "name": "stdout",
     "output_type": "stream",
     "text": [
      "There are 2893 PCs in 102071 observed targets\n",
      "There are 1831 FPs in 102071 observed targets\n"
     ]
    }
   ],
   "source": [
    "dr25PC = mergedDr25Koi[mergedDr25Koi.koi_pdisposition == \"CANDIDATE\"]\n",
    "dr25FP = mergedDr25Koi[mergedDr25Koi.koi_pdisposition == \"FALSE POSITIVE\"]\n",
    "# remove those with corrected_prad = NAN\n",
    "dr25PC = dr25PC[~np.isnan(dr25PC.corrected_prad)]\n",
    "dr25FP = dr25FP[~np.isnan(dr25FP.corrected_prad)]\n",
    "mergedDr25Koi = mergedDr25Koi[~np.isnan(mergedDr25Koi.corrected_prad)]\n",
    "\n",
    "\n",
    "print(\"There are \" + str(len(dr25PC)) + \" PCs in \" + str(len(dr25CleanStellarIso)) + \" observed targets\")\n",
    "print(\"There are \" + str(len(dr25FP)) + \" FPs in \" + str(len(dr25CleanStellarIso)) + \" observed targets\")\n"
   ]
  },
  {
   "cell_type": "code",
   "execution_count": 17,
   "metadata": {},
   "outputs": [
    {
     "data": {
      "image/png": "[encoded data removed]",
      "text/plain": [
       "<Figure size 432x288 with 1 Axes>"
      ]
     },
     "metadata": {
      "needs_background": "light"
     },
     "output_type": "display_data"
    }
   ],
   "source": [
    "plt.hist(dr25PC.corrected_prad/dr25PC.koi_prad, 100);\n",
    "#plt.yscale('log', nonposy='clip')\n",
    "\n"
   ]
  },
  {
   "cell_type": "code",
   "execution_count": 18,
   "metadata": {},
   "outputs": [
    {
     "data": {
      "image/png": "[encoded data removed]",
      "text/plain": [
       "<Figure size 432x288 with 1 Axes>"
      ]
     },
     "metadata": {
      "needs_background": "light"
     },
     "output_type": "display_data"
    }
   ],
   "source": [
    "plt.hist(dr25CleanStellarIso.radius[dr25CleanStellarIso.radius<2]/dr25CleanStellarIso.radius_DR25[dr25CleanStellarIso.radius<2], 100);\n",
    "#plt.yscale('log', nonposy='clip')\n",
    "\n"
   ]
  },
  {
   "cell_type": "code",
   "execution_count": 19,
   "metadata": {},
   "outputs": [],
   "source": [
    "if catalogType == \"Berger2020\":\n",
    "    dr25PC.to_csv(\"koiCatalogs/dr25_GK_PCs.csv\", index=False)\n",
    "    mergedDr25Koi.to_csv(\"koiCatalogs/dr25_GK_KOIs.csv\", index=False)\n"
   ]
  },
  {
   "cell_type": "code",
   "execution_count": 20,
   "metadata": {},
   "outputs": [],
   "source": [
    "kepler186f = dr25PC[dr25PC.kepoi_name==\"K00571.05\"]"
   ]
  },
  {
   "cell_type": "code",
   "execution_count": 21,
   "metadata": {},
   "outputs": [
    {
     "data": {
      "text/plain": [
       "3869    1.429029\n",
       "Name: corrected_prad, dtype: float64"
      ]
     },
     "execution_count": 21,
     "metadata": {},
     "output_type": "execute_result"
    }
   ],
   "source": [
    "kepler186f.corrected_prad"
   ]
  },
  {
   "cell_type": "code",
   "execution_count": 22,
   "metadata": {},
   "outputs": [
    {
     "data": {
      "text/plain": [
       "3869    0.135944\n",
       "Name: corrected_prad_err1, dtype: float64"
      ]
     },
     "execution_count": 22,
     "metadata": {},
     "output_type": "execute_result"
    }
   ],
   "source": [
    "kepler186f.corrected_prad_err1"
   ]
  },
  {
   "cell_type": "code",
   "execution_count": 23,
   "metadata": {},
   "outputs": [
    {
     "data": {
      "text/plain": [
       "3869   -0.24901\n",
       "Name: corrected_prad_err2, dtype: float64"
      ]
     },
     "execution_count": 23,
     "metadata": {},
     "output_type": "execute_result"
    }
   ],
   "source": [
    "kepler186f.corrected_prad_err2"
   ]
  },
  {
   "cell_type": "code",
   "execution_count": 24,
   "metadata": {},
   "outputs": [
    {
     "data": {
      "text/plain": [
       "3869    1.18\n",
       "Name: koi_prad, dtype: float64"
      ]
     },
     "execution_count": 24,
     "metadata": {},
     "output_type": "execute_result"
    }
   ],
   "source": [
    "kepler186f.koi_prad"
   ]
  },
  {
   "cell_type": "code",
   "execution_count": 25,
   "metadata": {},
   "outputs": [
    {
     "data": {
      "text/plain": [
       "3869    0.024432\n",
       "Name: koi_ror, dtype: float64"
      ]
     },
     "execution_count": 25,
     "metadata": {},
     "output_type": "execute_result"
    }
   ],
   "source": [
    "kepler186f.koi_ror"
   ]
  },
  {
   "cell_type": "code",
   "execution_count": 26,
   "metadata": {},
   "outputs": [
    {
     "data": {
      "text/plain": [
       "3869    1.199046\n",
       "Name: radius, dtype: float64"
      ]
     },
     "execution_count": 26,
     "metadata": {},
     "output_type": "execute_result"
    }
   ],
   "source": [
    "0.0205*kepler186f['radius']*rSun/rEarth"
   ]
  },
  {
   "cell_type": "code",
   "execution_count": 27,
   "metadata": {},
   "outputs": [
    {
     "data": {
      "text/plain": [
       "3869    1.441223\n",
       "Name: koi_ror, dtype: float64"
      ]
     },
     "execution_count": 27,
     "metadata": {},
     "output_type": "execute_result"
    }
   ],
   "source": [
    "kepler186f['koi_ror']*0.539*rSun/rEarth"
   ]
  },
  {
   "cell_type": "code",
   "execution_count": 28,
   "metadata": {},
   "outputs": [
    {
     "data": {
      "text/plain": [
       "3869    0.251155\n",
       "dtype: float64"
      ]
     },
     "execution_count": 28,
     "metadata": {},
     "output_type": "execute_result"
    }
   ],
   "source": [
    "np.sqrt(kepler186f['koi_ror_err2']**2*0.539**2+kepler186f['koi_ror']**2*0.015**2)*rSun/rEarth"
   ]
  },
  {
   "cell_type": "code",
   "execution_count": 29,
   "metadata": {},
   "outputs": [
    {
     "data": {
      "text/html": [
       "<div>\n",
       "<style scoped>\n",
       "    .dataframe tbody tr th:only-of-type {\n",
       "        vertical-align: middle;\n",
       "    }\n",
       "\n",
       "    .dataframe tbody tr th {\n",
       "        vertical-align: top;\n",
       "    }\n",
       "\n",
       "    .dataframe thead th {\n",
       "        text-align: right;\n",
       "    }\n",
       "</style>\n",
       "<table border=\"1\" class=\"dataframe\">\n",
       "  <thead>\n",
       "    <tr style=\"text-align: right;\">\n",
       "      <th></th>\n",
       "      <th>kepid_x</th>\n",
       "      <th>kepoi_name</th>\n",
       "      <th>koi_tce_plnt_num</th>\n",
       "      <th>koi_pdisposition</th>\n",
       "      <th>koi_score</th>\n",
       "      <th>koi_period</th>\n",
       "      <th>koi_max_mult_ev</th>\n",
       "      <th>koi_prad</th>\n",
       "      <th>koi_prad_err1</th>\n",
       "      <th>koi_prad_err2</th>\n",
       "      <th>...</th>\n",
       "      <th>radius_err2</th>\n",
       "      <th>teff</th>\n",
       "      <th>logg</th>\n",
       "      <th>corrected_prad</th>\n",
       "      <th>corrected_prad_err1</th>\n",
       "      <th>corrected_prad_err2</th>\n",
       "      <th>rowid</th>\n",
       "      <th>kepid_y</th>\n",
       "      <th>fpp_koi_period</th>\n",
       "      <th>fpp_prob</th>\n",
       "    </tr>\n",
       "  </thead>\n",
       "  <tbody>\n",
       "    <tr>\n",
       "      <th>1</th>\n",
       "      <td>10854555</td>\n",
       "      <td>K00755.01</td>\n",
       "      <td>1</td>\n",
       "      <td>CANDIDATE</td>\n",
       "      <td>1.000</td>\n",
       "      <td>2.525592</td>\n",
       "      <td>33.191900</td>\n",
       "      <td>2.75</td>\n",
       "      <td>0.88</td>\n",
       "      <td>-0.35</td>\n",
       "      <td>...</td>\n",
       "      <td>0.033878</td>\n",
       "      <td>5659.982592</td>\n",
       "      <td>4.486280</td>\n",
       "      <td>2.401175</td>\n",
       "      <td>0.386208</td>\n",
       "      <td>-0.176139</td>\n",
       "      <td>1273</td>\n",
       "      <td>10854555</td>\n",
       "      <td>2.526</td>\n",
       "      <td>1.000000e-03</td>\n",
       "    </tr>\n",
       "    <tr>\n",
       "      <th>2</th>\n",
       "      <td>10872983</td>\n",
       "      <td>K00756.01</td>\n",
       "      <td>1</td>\n",
       "      <td>CANDIDATE</td>\n",
       "      <td>1.000</td>\n",
       "      <td>11.094321</td>\n",
       "      <td>55.204865</td>\n",
       "      <td>3.90</td>\n",
       "      <td>1.27</td>\n",
       "      <td>-0.42</td>\n",
       "      <td>...</td>\n",
       "      <td>0.058554</td>\n",
       "      <td>5850.003018</td>\n",
       "      <td>4.349270</td>\n",
       "      <td>4.452116</td>\n",
       "      <td>0.671612</td>\n",
       "      <td>-0.268642</td>\n",
       "      <td>1274</td>\n",
       "      <td>10872983</td>\n",
       "      <td>11.094</td>\n",
       "      <td>3.600000e-05</td>\n",
       "    </tr>\n",
       "    <tr>\n",
       "      <th>3</th>\n",
       "      <td>10872983</td>\n",
       "      <td>K00756.02</td>\n",
       "      <td>2</td>\n",
       "      <td>CANDIDATE</td>\n",
       "      <td>1.000</td>\n",
       "      <td>4.134435</td>\n",
       "      <td>33.546658</td>\n",
       "      <td>2.77</td>\n",
       "      <td>0.90</td>\n",
       "      <td>-0.30</td>\n",
       "      <td>...</td>\n",
       "      <td>0.058554</td>\n",
       "      <td>5850.003018</td>\n",
       "      <td>4.349270</td>\n",
       "      <td>3.163412</td>\n",
       "      <td>0.301539</td>\n",
       "      <td>-0.299876</td>\n",
       "      <td>1275</td>\n",
       "      <td>10872983</td>\n",
       "      <td>4.134</td>\n",
       "      <td>6.300000e-06</td>\n",
       "    </tr>\n",
       "    <tr>\n",
       "      <th>4</th>\n",
       "      <td>10872983</td>\n",
       "      <td>K00756.03</td>\n",
       "      <td>3</td>\n",
       "      <td>CANDIDATE</td>\n",
       "      <td>0.992</td>\n",
       "      <td>2.566589</td>\n",
       "      <td>12.325094</td>\n",
       "      <td>1.59</td>\n",
       "      <td>0.52</td>\n",
       "      <td>-0.17</td>\n",
       "      <td>...</td>\n",
       "      <td>0.058554</td>\n",
       "      <td>5850.003018</td>\n",
       "      <td>4.349270</td>\n",
       "      <td>1.813699</td>\n",
       "      <td>0.487983</td>\n",
       "      <td>-0.196573</td>\n",
       "      <td>1276</td>\n",
       "      <td>10872983</td>\n",
       "      <td>2.567</td>\n",
       "      <td>7.800000e-05</td>\n",
       "    </tr>\n",
       "    <tr>\n",
       "      <th>5</th>\n",
       "      <td>9579641</td>\n",
       "      <td>K00115.03</td>\n",
       "      <td>3</td>\n",
       "      <td>CANDIDATE</td>\n",
       "      <td>0.871</td>\n",
       "      <td>3.435916</td>\n",
       "      <td>7.433781</td>\n",
       "      <td>0.55</td>\n",
       "      <td>0.08</td>\n",
       "      <td>-0.07</td>\n",
       "      <td>...</td>\n",
       "      <td>0.019940</td>\n",
       "      <td>6023.531921</td>\n",
       "      <td>4.428939</td>\n",
       "      <td>0.516167</td>\n",
       "      <td>0.024433</td>\n",
       "      <td>-0.064030</td>\n",
       "      <td>103</td>\n",
       "      <td>9579641</td>\n",
       "      <td>3.436</td>\n",
       "      <td>4.000000e-02</td>\n",
       "    </tr>\n",
       "    <tr>\n",
       "      <th>...</th>\n",
       "      <td>...</td>\n",
       "      <td>...</td>\n",
       "      <td>...</td>\n",
       "      <td>...</td>\n",
       "      <td>...</td>\n",
       "      <td>...</td>\n",
       "      <td>...</td>\n",
       "      <td>...</td>\n",
       "      <td>...</td>\n",
       "      <td>...</td>\n",
       "      <td>...</td>\n",
       "      <td>...</td>\n",
       "      <td>...</td>\n",
       "      <td>...</td>\n",
       "      <td>...</td>\n",
       "      <td>...</td>\n",
       "      <td>...</td>\n",
       "      <td>...</td>\n",
       "      <td>...</td>\n",
       "      <td>...</td>\n",
       "      <td>...</td>\n",
       "    </tr>\n",
       "    <tr>\n",
       "      <th>4719</th>\n",
       "      <td>9458613</td>\n",
       "      <td>K00707.04</td>\n",
       "      <td>4</td>\n",
       "      <td>CANDIDATE</td>\n",
       "      <td>1.000</td>\n",
       "      <td>13.175560</td>\n",
       "      <td>34.928776</td>\n",
       "      <td>2.82</td>\n",
       "      <td>0.43</td>\n",
       "      <td>-0.70</td>\n",
       "      <td>...</td>\n",
       "      <td>0.043696</td>\n",
       "      <td>6183.041575</td>\n",
       "      <td>4.138255</td>\n",
       "      <td>2.692944</td>\n",
       "      <td>0.097098</td>\n",
       "      <td>-0.079180</td>\n",
       "      <td>922</td>\n",
       "      <td>9458613</td>\n",
       "      <td>13.176</td>\n",
       "      <td>1.000000e+00</td>\n",
       "    </tr>\n",
       "    <tr>\n",
       "      <th>4720</th>\n",
       "      <td>9458613</td>\n",
       "      <td>K00707.05</td>\n",
       "      <td>5</td>\n",
       "      <td>CANDIDATE</td>\n",
       "      <td>0.997</td>\n",
       "      <td>5.668158</td>\n",
       "      <td>13.906199</td>\n",
       "      <td>1.85</td>\n",
       "      <td>0.28</td>\n",
       "      <td>-0.46</td>\n",
       "      <td>...</td>\n",
       "      <td>0.043696</td>\n",
       "      <td>6183.041575</td>\n",
       "      <td>4.138255</td>\n",
       "      <td>1.765969</td>\n",
       "      <td>0.074771</td>\n",
       "      <td>-0.061498</td>\n",
       "      <td>923</td>\n",
       "      <td>9458613</td>\n",
       "      <td>5.668</td>\n",
       "      <td>NaN</td>\n",
       "    </tr>\n",
       "    <tr>\n",
       "      <th>4721</th>\n",
       "      <td>9530945</td>\n",
       "      <td>K00708.01</td>\n",
       "      <td>1</td>\n",
       "      <td>CANDIDATE</td>\n",
       "      <td>1.000</td>\n",
       "      <td>17.406652</td>\n",
       "      <td>57.129204</td>\n",
       "      <td>2.95</td>\n",
       "      <td>0.50</td>\n",
       "      <td>-0.46</td>\n",
       "      <td>...</td>\n",
       "      <td>0.040455</td>\n",
       "      <td>6274.690122</td>\n",
       "      <td>4.144032</td>\n",
       "      <td>3.779871</td>\n",
       "      <td>0.123482</td>\n",
       "      <td>-0.101922</td>\n",
       "      <td>924</td>\n",
       "      <td>9530945</td>\n",
       "      <td>17.407</td>\n",
       "      <td>4.100000e-07</td>\n",
       "    </tr>\n",
       "    <tr>\n",
       "      <th>4722</th>\n",
       "      <td>9530945</td>\n",
       "      <td>K00708.02</td>\n",
       "      <td>2</td>\n",
       "      <td>CANDIDATE</td>\n",
       "      <td>1.000</td>\n",
       "      <td>7.693636</td>\n",
       "      <td>41.437560</td>\n",
       "      <td>2.12</td>\n",
       "      <td>0.36</td>\n",
       "      <td>-0.33</td>\n",
       "      <td>...</td>\n",
       "      <td>0.040455</td>\n",
       "      <td>6274.690122</td>\n",
       "      <td>4.144032</td>\n",
       "      <td>2.714020</td>\n",
       "      <td>0.093069</td>\n",
       "      <td>-0.102060</td>\n",
       "      <td>925</td>\n",
       "      <td>9530945</td>\n",
       "      <td>7.694</td>\n",
       "      <td>1.500000e-07</td>\n",
       "    </tr>\n",
       "    <tr>\n",
       "      <th>4723</th>\n",
       "      <td>9578686</td>\n",
       "      <td>K00709.01</td>\n",
       "      <td>1</td>\n",
       "      <td>CANDIDATE</td>\n",
       "      <td>1.000</td>\n",
       "      <td>21.385158</td>\n",
       "      <td>58.819580</td>\n",
       "      <td>2.17</td>\n",
       "      <td>0.18</td>\n",
       "      <td>-0.15</td>\n",
       "      <td>...</td>\n",
       "      <td>0.015406</td>\n",
       "      <td>5508.275140</td>\n",
       "      <td>4.521020</td>\n",
       "      <td>2.221330</td>\n",
       "      <td>0.263606</td>\n",
       "      <td>-0.080093</td>\n",
       "      <td>926</td>\n",
       "      <td>9578686</td>\n",
       "      <td>21.385</td>\n",
       "      <td>5.900000e-06</td>\n",
       "    </tr>\n",
       "  </tbody>\n",
       "</table>\n",
       "<p>2893 rows × 25 columns</p>\n",
       "</div>"
      ],
      "text/plain": [
       "       kepid_x kepoi_name  koi_tce_plnt_num koi_pdisposition  koi_score  \\\n",
       "1     10854555  K00755.01                 1        CANDIDATE      1.000   \n",
       "2     10872983  K00756.01                 1        CANDIDATE      1.000   \n",
       "3     10872983  K00756.02                 2        CANDIDATE      1.000   \n",
       "4     10872983  K00756.03                 3        CANDIDATE      0.992   \n",
       "5      9579641  K00115.03                 3        CANDIDATE      0.871   \n",
       "...        ...        ...               ...              ...        ...   \n",
       "4719   9458613  K00707.04                 4        CANDIDATE      1.000   \n",
       "4720   9458613  K00707.05                 5        CANDIDATE      0.997   \n",
       "4721   9530945  K00708.01                 1        CANDIDATE      1.000   \n",
       "4722   9530945  K00708.02                 2        CANDIDATE      1.000   \n",
       "4723   9578686  K00709.01                 1        CANDIDATE      1.000   \n",
       "\n",
       "      koi_period  koi_max_mult_ev  koi_prad  koi_prad_err1  koi_prad_err2  \\\n",
       "1       2.525592        33.191900      2.75           0.88          -0.35   \n",
       "2      11.094321        55.204865      3.90           1.27          -0.42   \n",
       "3       4.134435        33.546658      2.77           0.90          -0.30   \n",
       "4       2.566589        12.325094      1.59           0.52          -0.17   \n",
       "5       3.435916         7.433781      0.55           0.08          -0.07   \n",
       "...          ...              ...       ...            ...            ...   \n",
       "4719   13.175560        34.928776      2.82           0.43          -0.70   \n",
       "4720    5.668158        13.906199      1.85           0.28          -0.46   \n",
       "4721   17.406652        57.129204      2.95           0.50          -0.46   \n",
       "4722    7.693636        41.437560      2.12           0.36          -0.33   \n",
       "4723   21.385158        58.819580      2.17           0.18          -0.15   \n",
       "\n",
       "      ...  radius_err2         teff      logg  corrected_prad  \\\n",
       "1     ...     0.033878  5659.982592  4.486280        2.401175   \n",
       "2     ...     0.058554  5850.003018  4.349270        4.452116   \n",
       "3     ...     0.058554  5850.003018  4.349270        3.163412   \n",
       "4     ...     0.058554  5850.003018  4.349270        1.813699   \n",
       "5     ...     0.019940  6023.531921  4.428939        0.516167   \n",
       "...   ...          ...          ...       ...             ...   \n",
       "4719  ...     0.043696  6183.041575  4.138255        2.692944   \n",
       "4720  ...     0.043696  6183.041575  4.138255        1.765969   \n",
       "4721  ...     0.040455  6274.690122  4.144032        3.779871   \n",
       "4722  ...     0.040455  6274.690122  4.144032        2.714020   \n",
       "4723  ...     0.015406  5508.275140  4.521020        2.221330   \n",
       "\n",
       "      corrected_prad_err1  corrected_prad_err2  rowid   kepid_y  \\\n",
       "1                0.386208            -0.176139   1273  10854555   \n",
       "2                0.671612            -0.268642   1274  10872983   \n",
       "3                0.301539            -0.299876   1275  10872983   \n",
       "4                0.487983            -0.196573   1276  10872983   \n",
       "5                0.024433            -0.064030    103   9579641   \n",
       "...                   ...                  ...    ...       ...   \n",
       "4719             0.097098            -0.079180    922   9458613   \n",
       "4720             0.074771            -0.061498    923   9458613   \n",
       "4721             0.123482            -0.101922    924   9530945   \n",
       "4722             0.093069            -0.102060    925   9530945   \n",
       "4723             0.263606            -0.080093    926   9578686   \n",
       "\n",
       "      fpp_koi_period      fpp_prob  \n",
       "1              2.526  1.000000e-03  \n",
       "2             11.094  3.600000e-05  \n",
       "3              4.134  6.300000e-06  \n",
       "4              2.567  7.800000e-05  \n",
       "5              3.436  4.000000e-02  \n",
       "...              ...           ...  \n",
       "4719          13.176  1.000000e+00  \n",
       "4720           5.668           NaN  \n",
       "4721          17.407  4.100000e-07  \n",
       "4722           7.694  1.500000e-07  \n",
       "4723          21.385  5.900000e-06  \n",
       "\n",
       "[2893 rows x 25 columns]"
      ]
     },
     "execution_count": 29,
     "metadata": {},
     "output_type": "execute_result"
    }
   ],
   "source": [
    "dr25PC"
   ]
  },
  {
   "cell_type": "code",
   "execution_count": null,
   "metadata": {},
   "outputs": [],
   "source": []
  }
 ],
 "metadata": {
  "kernelspec": {
   "display_name": "Python 3",
   "language": "python",
   "name": "python3"
  },
  "language_info": {
   "codemirror_mode": {
    "name": "ipython",
    "version": 3
   },
   "file_extension": ".py",
   "mimetype": "text/x-python",
   "name": "python",
   "nbconvert_exporter": "python",
   "pygments_lexer": "ipython3",
   "version": "3.6.10"
  }
 },
 "nbformat": 4,
 "nbformat_minor": 2
}
