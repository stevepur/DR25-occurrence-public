{
 "cells": [
  {
   "cell_type": "code",
   "execution_count": 1,
   "metadata": {},
   "outputs": [],
   "source": [
    "import os\n",
    "import requests\n",
    "import pandas as pd\n",
    "from astropy.io import fits\n",
    "import numpy as np\n",
    "import matplotlib.pyplot as plt\n",
    "from scipy.stats import gamma\n",
    "from scipy.optimize import minimize\n",
    "from scipy.interpolate import RectBivariateSpline\n",
    "import emcee\n",
    "import corner\n",
    "import scipy.io as sio\n",
    "from ipywidgets import FloatProgress\n",
    "from IPython.display import display\n",
    "import time\n",
    "import os.path\n",
    "from os import path\n",
    "\n",
    "import sys\n",
    "sys.path.insert(0, '../completenessContours')\n",
    "import compute_num_completeness_w_ve_insol as kp\n",
    "\n",
    "sys.path.insert(0, '..')\n",
    "import occRateUtils as ut\n",
    "\n",
    "import rateModels3D as rm3D"
   ]
  },
  {
   "cell_type": "code",
   "execution_count": 2,
   "metadata": {},
   "outputs": [],
   "source": [
    "stellarType = \"hab2\"\n",
    "catalog = \"dr25\"\n",
    "hzType = \"optimistic\"\n",
    "\n",
    "if stellarType == \"hab\":\n",
    "    teffRange = (4800, 6300)\n",
    "elif stellarType == \"hab2\":\n",
    "    teffRange = (3900, 6300)\n",
    "elif stellarType == \"GK\":\n",
    "    teffRange = (3900, 6000)\n",
    "elif stellarType == \"FGK\":\n",
    "    teffRange = (3900, 7300)\n",
    "else:\n",
    "    raise ValueError('Bad catalog name');\n",
    "    \n",
    "cs = rm3D.compSpace(periodName = \"Insolation\", \n",
    "               periodUnits = \"Earth Flux\",\n",
    "               periodRange = (0.2, 2.2), \n",
    "               nPeriod = 61, \n",
    "               radiusName = \"Radius\", \n",
    "               radiusUnits = \"$R_\\oplus$\",\n",
    "               rpRange = (0.5, 2.5), \n",
    "               nRp = 61,\n",
    "               tempName = \"$T_\\mathrm{eff}$\", \n",
    "               tempUnits = \"$R_\\oplus$\",\n",
    "               tempRange = teffRange, \n",
    "               nTemp = 10)\n",
    "\n",
    "model = rm3D.triplePowerLawTeffAvg(cs)\n",
    "\n",
    "\n",
    "outputDir = \"caseComparison\"\n",
    "\n"
   ]
  },
  {
   "cell_type": "code",
   "execution_count": null,
   "metadata": {},
   "outputs": [],
   "source": [
    "\n"
   ]
  },
  {
   "cell_type": "code",
   "execution_count": null,
   "metadata": {},
   "outputs": [],
   "source": [
    "\n"
   ]
  },
  {
   "cell_type": "code",
   "execution_count": null,
   "metadata": {},
   "outputs": [],
   "source": []
  },
  {
   "cell_type": "code",
   "execution_count": 16,
   "metadata": {},
   "outputs": [],
   "source": [
    "capsize = 8\n",
    "cbc = ['#377eb8', '#ff7f00', '#4daf4a',\n",
    "                  '#f781bf', '#a65628', '#984ea3',\n",
    "                  '#999999', '#e41a1c', '#dede00']\n",
    "def draw_dists(dr25, hr, hc, fpwg, xlimMax, drawLegend = False):\n",
    "    plt.figure(figsize=(15,6));\n",
    "    ylim = plt.ylim()\n",
    "    plt.hist(hr, 50, histtype=\"step\", linewidth=2, color=cbc[0], density=True);\n",
    "    plt.hist(hc, 50, histtype=\"step\", linewidth=2, color=cbc[1], density=True);\n",
    "    plt.hist(fpwg, 50, histtype=\"step\", linewidth=2, color=cbc[2], density=True);\n",
    "    plt.hist(dr25, 50, histtype=\"step\", linewidth=2, color=cbc[3], density=True);\n",
    "    ylim = plt.ylim()\n",
    "    # plt.xscale('log')\n",
    "    xlim = plt.xlim()\n",
    "    plt.xlim(xlim[0], xlimMax)\n",
    "    hrStats = ut.medianAndErrorbars(hr)\n",
    "    hcStats = ut.medianAndErrorbars(hc)\n",
    "    fpwgpcStats = ut.medianAndErrorbars(fpwg)\n",
    "    dr25Stats = ut.medianAndErrorbars(dr25)\n",
    "    l1 = plt.errorbar(dr25Stats[0], 1.04*ylim[1], xerr=[[dr25Stats[2]],[dr25Stats[1]]], capsize = capsize, color = cbc[3], fmt='--d')\n",
    "    l2 = plt.errorbar(hrStats[0], 1.02*ylim[1], xerr=[[hrStats[2]],[hrStats[1]]], capsize = capsize, color = cbc[0], fmt='--o')\n",
    "    l3 = plt.errorbar(hcStats[0], 1.0*ylim[1], xerr=[[hcStats[2]],[hcStats[1]]], capsize = capsize, color = cbc[1], fmt='--s')\n",
    "    l4 = plt.errorbar(fpwgpcStats[0], 0.98*ylim[1], xerr=[[fpwgpcStats[2]],[fpwgpcStats[1]]], capsize = capsize, color = cbc[2], fmt='--*')\n",
    "    plt.gca().set_yticklabels([])\n",
    "    plt.tick_params(labelsize = 24)\n",
    "    if drawLegend:\n",
    "        plt.legend([l1, l2, l3, l4], [\"DR25\", \"High Reliability\", \"High Completeness\", \"FPWG PC\"], fontsize=24)\n",
    "    \n",
    "    medianVec = [hrStats[0], hcStats[0], fpwgpcStats[0], dr25Stats[0]]\n",
    "    sigmaVecPlus = [hrStats[1], hcStats[1], fpwgpcStats[1], dr25Stats[1]]\n",
    "    sigmaVecMinus = [hrStats[2], hcStats[2], fpwgpcStats[2], dr25Stats[2]]\n",
    "    sigmaVec = [sigmaVecPlus,sigmaVecMinus]\n",
    "    \n",
    "    separation = np.zeros((len(medianVec), len(medianVec)))\n",
    "    separationSigma = np.zeros((len(medianVec), len(medianVec)))\n",
    "    separationInSigma = np.zeros((len(medianVec), len(medianVec)))\n",
    "    for i in range(len(medianVec)):\n",
    "        for j in range(i):\n",
    "            separation[i,j] = np.abs(medianVec[i]-medianVec[j])\n",
    "            if medianVec[i] > medianVec[j]:\n",
    "                # i > j, so use i minus and j plus\n",
    "                separationSigma[i,j] = np.sqrt(sigmaVecMinus[i]**2 + sigmaVecPlus[j]**2)\n",
    "            else:\n",
    "                # i <= j, so use i plus and j minus\n",
    "                separationSigma[i,j] = np.sqrt(sigmaVecPlus[i]**2 + sigmaVecMinus[j]**2)\n",
    "            if separationSigma[i,j] > 0:\n",
    "                separationInSigma[i,j] = separation[i,j]/separationSigma[i,j]\n",
    "            \n",
    "#     print(separation)\n",
    "#     print(separationSigma)\n",
    "#     print(separationInSigma)\n",
    "            \n",
    "    print(\"Range of medians: \" \n",
    "         + str(np.round(np.min(medianVec),2)) + \" to \" + str(np.round(np.max(medianVec),2)))\n",
    "    print(\"std of medians: \" \n",
    "         + str(np.round(np.std(medianVec),2)) + \" = \" + str(np.round(100*np.std(medianVec)/np.mean(medianVec),2)) + \"%\")\n",
    "    print(\"peak-to-peak of medians: \" \n",
    "         + str(np.round(np.ptp(medianVec),2)) + \" = \" + str(np.round(100*np.ptp(medianVec)/np.mean(medianVec),2)) + \"%\")\n",
    "    print(\"peak-to-peak of medians: \" \n",
    "         + str(np.round(np.ptp(medianVec),2)) + \" = \" + str(np.round(np.ptp(medianVec)/np.linalg.norm(sigmaVec),2)) + \" sigma\")\n",
    "    print(\"Maximum separation of medians: \" + str(np.round(np.max(separationInSigma), 3)) + \" sigma\")\n",
    "\n",
    "    "
   ]
  },
  {
   "cell_type": "code",
   "execution_count": 13,
   "metadata": {},
   "outputs": [],
   "source": [
    "str1 = \"computeOccurrencefixedTeff_\"\n",
    "str2 = \"_hab2_triplePowerLawTeffAvg_optimistic_extrap_zero_out\"\n",
    "\n",
    "hrPosteriorsNoReliability = np.load(str1 + \"highreliability\" + str2 + \"/occurenceRatePosteriors_noreliability.npy\")\n",
    "hrPosteriorsWithReliability = np.load(str1 + \"highreliability\" + str2 + \"/occurenceRatePosteriors.npy\")\n",
    "\n",
    "hcPosteriorsNoReliability = np.load(str1 + \"highcompleteness\" + str2 + \"/occurenceRatePosteriors_noreliability.npy\")\n",
    "hcPosteriorsWithReliability = np.load(str1 + \"highcompleteness\" + str2 + \"/occurenceRatePosteriors.npy\")\n",
    "\n",
    "fpwgpcPosteriorsNoReliability = np.load(str1 + \"fpwgpc\" + str2 + \"/occurenceRatePosteriors_noreliability.npy\")\n",
    "fpwgpcPosteriorsWithReliability = np.load(str1 + \"fpwgpc\" + str2 + \"/occurenceRatePosteriors.npy\")\n",
    "\n",
    "dr25PosteriorsNoReliability = np.load(str1 + \"dr25\" + str2 + \"/occurenceRatePosteriors_noreliability.npy\")\n",
    "dr25PosteriorsWithReliability = np.load(str1 + \"dr25\" + str2 + \"/occurenceRatePosteriors.npy\")\n"
   ]
  },
  {
   "cell_type": "code",
   "execution_count": 14,
   "metadata": {},
   "outputs": [
    {
     "name": "stdout",
     "output_type": "stream",
     "text": [
      "F_0 High Reliability Without Reliability = 1.183^{+0.759}_{-0.410}\n",
      "F_0 High Reliability With Reliability = 0.778^{+0.579}_{-0.287}\n",
      "F_0 High Completeness Without Reliability = 2.768^{+1.848}_{-1.021}\n",
      "F_0 High Completeness With Reliability = 0.881^{+0.686}_{-0.349}\n",
      "F_0 fpwgpc Without Reliability = 2.736^{+1.832}_{-1.038}\n",
      "F_0 fpwgpc With Reliability = 0.931^{+0.745}_{-0.367}\n",
      "F_0 DR25 Without Reliability = 2.767^{+1.880}_{-0.986}\n",
      "F_0 DR25 With Reliability = 1.462^{+1.182}_{-0.593}\n"
     ]
    }
   ],
   "source": [
    "print(\"F_0 High Reliability Without Reliability = \" + ut.printMedianAndErrorbars(hrPosteriorsNoReliability[:,0]))\n",
    "print(\"F_0 High Reliability With Reliability = \" + ut.printMedianAndErrorbars(hrPosteriorsWithReliability[:,0]))\n",
    "\n",
    "print(\"F_0 High Completeness Without Reliability = \" + ut.printMedianAndErrorbars(hcPosteriorsNoReliability[:,0]))\n",
    "print(\"F_0 High Completeness With Reliability = \" + ut.printMedianAndErrorbars(hcPosteriorsWithReliability[:,0]))\n",
    "\n",
    "print(\"F_0 fpwgpc Without Reliability = \" + ut.printMedianAndErrorbars(fpwgpcPosteriorsNoReliability[:,0]))\n",
    "print(\"F_0 fpwgpc With Reliability = \" + ut.printMedianAndErrorbars(fpwgpcPosteriorsWithReliability[:,0]))\n",
    "\n",
    "print(\"F_0 DR25 Without Reliability = \" + ut.printMedianAndErrorbars(dr25PosteriorsNoReliability[:,0]))\n",
    "print(\"F_0 DR25 With Reliability = \" + ut.printMedianAndErrorbars(dr25PosteriorsWithReliability[:,0]))\n"
   ]
  },
  {
   "cell_type": "code",
   "execution_count": 17,
   "metadata": {},
   "outputs": [
    {
     "name": "stdout",
     "output_type": "stream",
     "text": [
      "Range of medians: 1.18 to 2.77\n",
      "std of medians: 0.68 = 28.84%\n",
      "peak-to-peak of medians: 1.58 = 67.04%\n",
      "peak-to-peak of medians: 1.58 = 0.42 sigma\n",
      "Maximum separation of medians: 1.273 sigma\n"
     ]
    },
    {
     "data": {
      "image/png": "[encoded data removed]",
      "text/plain": [
       "<Figure size 1080x432 with 1 Axes>"
      ]
     },
     "metadata": {
      "needs_background": "light"
     },
     "output_type": "display_data"
    }
   ],
   "source": [
    "draw_dists(dr25PosteriorsNoReliability[:,0], hrPosteriorsNoReliability[:,0], hcPosteriorsNoReliability[:,0], \n",
    "           fpwgpcPosteriorsNoReliability[:,0], 10, drawLegend=True)\n",
    "plt.xlabel(r\"$F_0$\", fontSize = 36);\n",
    "plt.ylabel(\"Relative Frequency\", fontSize = 32);\n",
    "plt.savefig(outputDir + \"/f0DistNoReliabilityRVVariations.pdf\",bbox_inches='tight')\n",
    "plt.title(\"Distribution for $F_0$: 50-400 days, 0.75 - 2.5 $R_\\oplus$, no reliability\", fontsize=18);\n"
   ]
  },
  {
   "cell_type": "code",
   "execution_count": 18,
   "metadata": {},
   "outputs": [
    {
     "name": "stdout",
     "output_type": "stream",
     "text": [
      "Range of medians: 0.78 to 1.46\n",
      "std of medians: 0.26 = 26.15%\n",
      "peak-to-peak of medians: 0.68 = 67.48%\n",
      "peak-to-peak of medians: 0.68 = 0.37 sigma\n",
      "Maximum separation of medians: 0.825 sigma\n"
     ]
    },
    {
     "data": {
      "image/png": "[encoded data removed]",
      "text/plain": [
       "<Figure size 1080x432 with 1 Axes>"
      ]
     },
     "metadata": {
      "needs_background": "light"
     },
     "output_type": "display_data"
    }
   ],
   "source": [
    "draw_dists(dr25PosteriorsWithReliability[:,0], hrPosteriorsWithReliability[:,0], hcPosteriorsWithReliability[:,0], \n",
    "           fpwgpcPosteriorsWithReliability[:,0], 10)\n",
    "plt.xlabel(r\"$F_0$\", fontSize = 36);\n",
    "plt.ylabel(\"Relative Frequency\", fontSize = 32);\n",
    "plt.savefig(outputDir + \"/f0DistWithReliabilityRVVariations.pdf\",bbox_inches='tight')\n",
    "plt.title(\"Distribution for $F_0$: 50-400 days, 0.75 - 2.5 $R_\\oplus$, with reliability\", fontsize=18);\n"
   ]
  },
  {
   "cell_type": "code",
   "execution_count": 10,
   "metadata": {},
   "outputs": [],
   "source": [
    "def compute_deltas(d, base):\n",
    "    delta = np.zeros(d.shape)\n",
    "    delta[0] = d[0]-baselineZeta[0]\n",
    "    if d[0] > baselineZeta[0]:\n",
    "        # i > j, so use i minus and j plus\n",
    "        delta[1] = np.sqrt(d[2]**2 + baselineZeta[1]**2)\n",
    "    else:\n",
    "        # i <= j, so use i plus and j minus\n",
    "        delta[1] = np.sqrt(d[1]**2 + baselineZeta[2]**2)\n",
    "    if delta[1] > 0:\n",
    "        delta[2] = delta[0]/delta[1]\n",
    "    return delta;\n",
    "\n",
    "def compute_separation(medianVec, sigmaVecPlus, sigmaVecMinus):\n",
    "    separation = np.zeros((len(medianVec), len(medianVec)))\n",
    "    separationSigma = np.zeros((len(medianVec), len(medianVec)))\n",
    "    separationInSigma = np.zeros((len(medianVec), len(medianVec)))\n",
    "    for i in range(len(medianVec)):\n",
    "        for j in range(i):\n",
    "            separation[i,j] = np.abs(medianVec[i]-medianVec[j])\n",
    "            if medianVec[i] > medianVec[j]:\n",
    "                # i > j, so use i minus and j plus\n",
    "                separationSigma[i,j] = np.sqrt(sigmaVecMinus[i]**2 + sigmaVecPlus[j]**2)\n",
    "            else:\n",
    "                # i <= j, so use i plus and j minus\n",
    "                separationSigma[i,j] = np.sqrt(sigmaVecPlus[i]**2 + sigmaVecMinus[j]**2)\n",
    "            if separationSigma[i,j] > 0:\n",
    "                separationInSigma[i,j] = separation[i,j]/separationSigma[i,j]\n",
    "    return np.max(np.max(separationInSigma))\n",
    "\n",
    "\n",
    "\n",
    "str1 = \"computeOccurrencefixedTeff_\"\n",
    "str2 = \"_hab2_triplePowerLawTeffAvg_optimistic_extrap_zero_out\"\n",
    "# get the original posteriors\n",
    "fitOcNames = [\"F0\", \"alpha\", \"beta\", \"gamma\"]\n",
    "fitOcStr = [\"$F_0$\", \"$\\\\alpha$\", \"$\\\\beta$\", \"$\\\\gamma$\"]\n",
    "caseNames = [\"dr25\", \"highreliability\", \"highcompleteness\", \"fpwgpc\"]\n",
    "fitDataNR = np.zeros((len(fitOcNames), len(caseNames), 3))\n",
    "fitDataWR = np.zeros((len(fitOcNames), len(caseNames), 3))\n",
    "fitDeltaNR = np.zeros((len(fitOcNames), len(caseNames), 3))\n",
    "fitDeltaWR = np.zeros((len(fitOcNames), len(caseNames), 3))\n",
    "maxFitSepNR = np.zeros((len(fitOcNames)))\n",
    "maxFitSepWR = np.zeros((len(fitOcNames)))\n",
    "for k in range(len(caseNames)):\n",
    "    for i in range(len(fitOcNames)):\n",
    "        nrData=np.load(str1 + caseNames[k] + str2 + \"/occurenceRatePosteriors_noreliability.npy\")    \n",
    "        wrData=np.load(str1 + caseNames[k] + str2 + \"/occurenceRatePosteriors.npy\")    \n",
    "        fitDataNR[i, k, :] = ut.medianAndErrorbars(nrData[:,i])\n",
    "        fitDataWR[i, k, :] = ut.medianAndErrorbars(wrData[:,i])\n",
    "\n",
    "\n",
    "for k in range(len(caseNames)):\n",
    "    for i in range(len(fitOcNames)):\n",
    "        baselineZeta = fitDataWR[i, 0, :];\n",
    "        fitDeltaNR[i, k, :] = compute_deltas(fitDataNR[i, k, :], baselineZeta)\n",
    "        fitDeltaWR[i, k, :] = compute_deltas(fitDataWR[i, k, :], baselineZeta)\n",
    "\n",
    "for i in range(len(fitOcNames)):\n",
    "        maxFitSepNR[i] = compute_separation(fitDataNR[i, :, 0], fitDataNR[i, :, 1], fitDataNR[i, :, 2])\n",
    "        maxFitSepWR[i] = compute_separation(fitDataWR[i, :, 0], fitDataWR[i, :, 1], fitDataWR[i, :, 2])\n",
    "\n"
   ]
  },
  {
   "cell_type": "code",
   "execution_count": null,
   "metadata": {},
   "outputs": [],
   "source": [
    "def printMedianAndErrorbarVec(e):\n",
    "    return \"${:.2f}\".format(e[0]) +\"^{+\" + \"{:.2f}\".format(e[1]) + \"}_{-\" + \"{:.2f}\".format(e[2]) + \"}$\"\n",
    "\n",
    "print(\"% fit coefficients with reliability\")\n",
    "print(\"& \\\\multicolumn{5}{c}{With Reliability Correction} \\\\\\\\\")\n",
    "alphaBetaMap = [0, 2, 1, 3]\n",
    "for i in range(4):\n",
    "    print(fitOcStr[i]),\n",
    "    for k in range(len(caseNames)):\n",
    "        print(\"& \" + printMedianAndErrorbarVec(fitDataWR[alphaBetaMap[i], k, :])),\n",
    "    print(\"& \" + \"{:.2f}\".format(maxFitSepWR[alphaBetaMap[i]])), \n",
    "    print(\"\\\\\\\\\")\n",
    "    \n",
    "print(\"% fit coefficients no reliability\")\n",
    "print(\"& \\\\multicolumn{5}{c}{No Reliability Correction} \\\\\\\\\")\n",
    "alphaBetaMap = [0, 2, 1, 3]\n",
    "for i in range(4):\n",
    "    print(fitOcStr[i]),\n",
    "    for k in range(len(caseNames)):\n",
    "        print(\"& \" + printMedianAndErrorbarVec(fitDataNR[alphaBetaMap[i], k, :])),\n",
    "    print(\"& \" + \"{:.2f}\".format(maxFitSepNR[alphaBetaMap[i]])), \n",
    "    print(\"\\\\\\\\\")\n",
    "    \n"
   ]
  },
  {
   "cell_type": "code",
   "execution_count": null,
   "metadata": {},
   "outputs": [],
   "source": []
  },
  {
   "cell_type": "code",
   "execution_count": null,
   "metadata": {},
   "outputs": [],
   "source": [
    "%%javascript\n",
    "IPython.notebook.save_notebook()"
   ]
  },
  {
   "cell_type": "code",
   "execution_count": null,
   "metadata": {},
   "outputs": [],
   "source": [
    "%%bash -s  \"$dataStr\"\n",
    "jupyter nbconvert --to html compareCases.ipynb\n",
    "mv compareCases.html htmlArchive/compareCases_$1.html"
   ]
  },
  {
   "cell_type": "code",
   "execution_count": null,
   "metadata": {},
   "outputs": [],
   "source": []
  },
  {
   "cell_type": "code",
   "execution_count": null,
   "metadata": {},
   "outputs": [],
   "source": []
  }
 ],
 "metadata": {
  "kernelspec": {
   "display_name": "Python 3",
   "language": "python",
   "name": "python3"
  },
  "language_info": {
   "codemirror_mode": {
    "name": "ipython",
    "version": 3
   },
   "file_extension": ".py",
   "mimetype": "text/x-python",
   "name": "python",
   "nbconvert_exporter": "python",
   "pygments_lexer": "ipython3",
   "version": "3.6.10"
  }
 },
 "nbformat": 4,
 "nbformat_minor": 2
}
