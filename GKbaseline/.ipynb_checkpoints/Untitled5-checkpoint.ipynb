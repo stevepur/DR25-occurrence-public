{
 "cells": [
  {
   "cell_type": "code",
   "execution_count": 2,
   "metadata": {},
   "outputs": [
    {
     "data": {
      "text/plain": [
       "array([[[0.76508723, 0.06579546, 0.69717426, 0.6166886 ],\n",
       "        [0.01997137, 0.88418089, 0.46583913, 0.5153997 ],\n",
       "        [0.80527487, 0.40158662, 0.68261511, 0.43953523]],\n",
       "\n",
       "       [[0.27944033, 0.969289  , 0.10393853, 0.74914692],\n",
       "        [0.2128819 , 0.87857134, 0.23968778, 0.77215499],\n",
       "        [0.12880937, 0.08866981, 0.47654587, 0.75909361]]])"
      ]
     },
     "execution_count": 2,
     "metadata": {},
     "output_type": "execute_result"
    }
   ],
   "source": [
    "import numpy as np\n",
    "\n",
    "a = np.random.rand(2,3,4)\n",
    "a"
   ]
  },
  {
   "cell_type": "code",
   "execution_count": 4,
   "metadata": {},
   "outputs": [
    {
     "data": {
      "text/plain": [
       "array([[[0.76508723, 0.06579546, 0.69717426, 0.6166886 ],\n",
       "        [0.01997137, 0.88418089, 0.46583913, 0.5153997 ]],\n",
       "\n",
       "       [[0.27944033, 0.969289  , 0.10393853, 0.74914692],\n",
       "        [0.2128819 , 0.87857134, 0.23968778, 0.77215499]]])"
      ]
     },
     "execution_count": 4,
     "metadata": {},
     "output_type": "execute_result"
    }
   ],
   "source": [
    "a[:,:-1]"
   ]
  },
  {
   "cell_type": "code",
   "execution_count": 6,
   "metadata": {},
   "outputs": [
    {
     "data": {
      "text/plain": [
       "array([[[0.76508723, 0.06579546, 0.69717426, 0.6166886 ],\n",
       "        [0.01997137, 0.88418089, 0.46583913, 0.5153997 ]],\n",
       "\n",
       "       [[0.27944033, 0.969289  , 0.10393853, 0.74914692],\n",
       "        [0.2128819 , 0.87857134, 0.23968778, 0.77215499]]])"
      ]
     },
     "execution_count": 6,
     "metadata": {},
     "output_type": "execute_result"
    }
   ],
   "source": [
    "a[:,:-1,:]"
   ]
  },
  {
   "cell_type": "code",
   "execution_count": 7,
   "metadata": {},
   "outputs": [
    {
     "data": {
      "text/plain": [
       "array([[[0.76508723, 0.06579546, 0.69717426, 0.6166886 ],\n",
       "        [0.01997137, 0.88418089, 0.46583913, 0.5153997 ],\n",
       "        [0.80527487, 0.40158662, 0.68261511, 0.43953523]]])"
      ]
     },
     "execution_count": 7,
     "metadata": {},
     "output_type": "execute_result"
    }
   ],
   "source": [
    "a[:-1]"
   ]
  },
  {
   "cell_type": "code",
   "execution_count": 9,
   "metadata": {},
   "outputs": [
    {
     "data": {
      "text/plain": [
       "array([[[-0.69929177,  0.6313788 , -0.08048566],\n",
       "        [ 0.86420952, -0.41834176,  0.04956057],\n",
       "        [-0.40368826,  0.28102849, -0.24307988]],\n",
       "\n",
       "       [[ 0.68984867, -0.86535047,  0.64520839],\n",
       "        [ 0.66568944, -0.63888356,  0.53246721],\n",
       "        [-0.04013956,  0.38787606,  0.28254774]]])"
      ]
     },
     "execution_count": 9,
     "metadata": {},
     "output_type": "execute_result"
    }
   ],
   "source": [
    "d1 = np.diff(a)\n",
    "d1"
   ]
  },
  {
   "cell_type": "code",
   "execution_count": 10,
   "metadata": {},
   "outputs": [
    {
     "data": {
      "text/plain": [
       "array([[[[[0.76508723, 0.06579546, 0.69717426, 0.6166886 ],\n",
       "          [0.01997137, 0.88418089, 0.46583913, 0.5153997 ],\n",
       "          [0.80527487, 0.40158662, 0.68261511, 0.43953523]]],\n",
       "\n",
       "\n",
       "        [[[0.27944033, 0.969289  , 0.10393853, 0.74914692],\n",
       "          [0.2128819 , 0.87857134, 0.23968778, 0.77215499],\n",
       "          [0.12880937, 0.08866981, 0.47654587, 0.75909361]]]]])"
      ]
     },
     "execution_count": 10,
     "metadata": {},
     "output_type": "execute_result"
    }
   ],
   "source": [
    "a[None,:,None]"
   ]
  },
  {
   "cell_type": "code",
   "execution_count": 11,
   "metadata": {},
   "outputs": [
    {
     "data": {
      "text/plain": [
       "array([[[0.76508723, 0.06579546, 0.69717426, 0.6166886 ],\n",
       "        [0.01997137, 0.88418089, 0.46583913, 0.5153997 ],\n",
       "        [0.80527487, 0.40158662, 0.68261511, 0.43953523]],\n",
       "\n",
       "       [[0.27944033, 0.969289  , 0.10393853, 0.74914692],\n",
       "        [0.2128819 , 0.87857134, 0.23968778, 0.77215499],\n",
       "        [0.12880937, 0.08866981, 0.47654587, 0.75909361]]])"
      ]
     },
     "execution_count": 11,
     "metadata": {},
     "output_type": "execute_result"
    }
   ],
   "source": [
    "a"
   ]
  },
  {
   "cell_type": "code",
   "execution_count": 12,
   "metadata": {},
   "outputs": [
    {
     "data": {
      "text/plain": [
       "[array([[[0.76508723, 0.06579546, 0.69717426, 0.6166886 ],\n",
       "         [0.01997137, 0.88418089, 0.46583913, 0.5153997 ],\n",
       "         [0.80527487, 0.40158662, 0.68261511, 0.43953523]],\n",
       " \n",
       "        [[0.27944033, 0.969289  , 0.10393853, 0.74914692],\n",
       "         [0.2128819 , 0.87857134, 0.23968778, 0.77215499],\n",
       "         [0.12880937, 0.08866981, 0.47654587, 0.75909361]]])]"
      ]
     },
     "execution_count": 12,
     "metadata": {},
     "output_type": "execute_result"
    }
   ],
   "source": [
    "[a]"
   ]
  },
  {
   "cell_type": "code",
   "execution_count": 30,
   "metadata": {},
   "outputs": [
    {
     "name": "stdout",
     "output_type": "stream",
     "text": [
      "(2, 3, 4)\n",
      "b pop1 (2, 2, 4)\n",
      "c (1, 2, 1)\n",
      "b * c (2, 2, 4)\n",
      "d pop2 (2, 4)\n"
     ]
    }
   ],
   "source": [
    "x = np.random.rand(a.shape[1])\n",
    "print(a.shape)\n",
    "b=a[:,1:]\n",
    "print(\"b pop1 \" + str(b.shape))\n",
    "c=np.diff(x)[None,:,None]\n",
    "print(\"c \" + str(c.shape))\n",
    "d = np.sum(b * c, axis=1)\n",
    "print(\"b * c \" + str((b * c).shape))\n",
    "print(\"d pop2 \" + str(d.shape))\n",
    "\n"
   ]
  },
  {
   "cell_type": "code",
   "execution_count": 18,
   "metadata": {},
   "outputs": [
    {
     "ename": "ValueError",
     "evalue": "operands could not be broadcast together with shapes (1,2,1,2,4) (2,3,4) ",
     "output_type": "error",
     "traceback": [
      "\u001b[0;31m---------------------------------------------------------------------------\u001b[0m",
      "\u001b[0;31mValueError\u001b[0m                                Traceback (most recent call last)",
      "\u001b[0;32m<ipython-input-18-df8ed3463976>\u001b[0m in \u001b[0;36m<module>\u001b[0;34m\u001b[0m\n\u001b[0;32m----> 1\u001b[0;31m \u001b[0mc\u001b[0m\u001b[0;34m*\u001b[0m\u001b[0ma\u001b[0m\u001b[0;34m\u001b[0m\u001b[0;34m\u001b[0m\u001b[0m\n\u001b[0m",
      "\u001b[0;31mValueError\u001b[0m: operands could not be broadcast together with shapes (1,2,1,2,4) (2,3,4) "
     ]
    }
   ],
   "source": [
    "c*a"
   ]
  },
  {
   "cell_type": "code",
   "execution_count": null,
   "metadata": {},
   "outputs": [],
   "source": []
  }
 ],
 "metadata": {
  "kernelspec": {
   "display_name": "Python 3",
   "language": "python",
   "name": "python3"
  },
  "language_info": {
   "codemirror_mode": {
    "name": "ipython",
    "version": 3
   },
   "file_extension": ".py",
   "mimetype": "text/x-python",
   "name": "python",
   "nbconvert_exporter": "python",
   "pygments_lexer": "ipython3",
   "version": "3.6.10"
  }
 },
 "nbformat": 4,
 "nbformat_minor": 4
}
