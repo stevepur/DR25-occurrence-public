{
 "cells": [
  {
   "cell_type": "code",
   "execution_count": 6,
   "metadata": {},
   "outputs": [],
   "source": [
    "import os\n",
    "import requests\n",
    "import pandas as pd\n",
    "from astropy.io import fits\n",
    "from cStringIO import StringIO\n",
    "import numpy as np\n",
    "import matplotlib.pyplot as plt\n",
    "from scipy.stats import gamma\n",
    "from scipy.optimize import minimize\n",
    "from scipy.interpolate import RectBivariateSpline\n",
    "import emcee\n",
    "import corner\n",
    "import scipy.io as sio\n",
    "from ipywidgets import FloatProgress\n",
    "from IPython.display import display\n",
    "import time\n"
   ]
  },
  {
   "cell_type": "code",
   "execution_count": 7,
   "metadata": {},
   "outputs": [],
   "source": [
    "stellarCatalog = \"../stellarCatalogs/dr25_stellar_supp_gaia_logg.txt\"\n",
    "stellarTargets = pd.read_csv(stellarCatalog)\n"
   ]
  },
  {
   "cell_type": "code",
   "execution_count": 11,
   "metadata": {
    "scrolled": false
   },
   "outputs": [
    {
     "data": {
      "text/plain": [
       "Series([], Name: R*, dtype: float64)"
      ]
     },
     "execution_count": 11,
     "metadata": {},
     "output_type": "execute_result"
    }
   ],
   "source": [
    "stellarTargets[stellarTargets.kepid==11147814][\"R*\"]"
   ]
  },
  {
   "cell_type": "code",
   "execution_count": 12,
   "metadata": {},
   "outputs": [],
   "source": [
    "kicName = \"../stellarCatalogs/dr25_stellar_updated_feh_all.txt\"\n",
    "kic = pd.read_csv(stellarCatalog)\n"
   ]
  },
  {
   "cell_type": "code",
   "execution_count": 14,
   "metadata": {},
   "outputs": [
    {
     "data": {
      "text/html": [
       "<div>\n",
       "<style scoped>\n",
       "    .dataframe tbody tr th:only-of-type {\n",
       "        vertical-align: middle;\n",
       "    }\n",
       "\n",
       "    .dataframe tbody tr th {\n",
       "        vertical-align: top;\n",
       "    }\n",
       "\n",
       "    .dataframe thead th {\n",
       "        text-align: right;\n",
       "    }\n",
       "</style>\n",
       "<table border=\"1\" class=\"dataframe\">\n",
       "  <thead>\n",
       "    <tr style=\"text-align: right;\">\n",
       "      <th></th>\n",
       "      <th>kepid</th>\n",
       "      <th>tm_designation</th>\n",
       "      <th>teff</th>\n",
       "      <th>teff_err1</th>\n",
       "      <th>teff_err2</th>\n",
       "      <th>logg</th>\n",
       "      <th>logg_err1</th>\n",
       "      <th>logg_err2</th>\n",
       "      <th>feh</th>\n",
       "      <th>feh_err1</th>\n",
       "      <th>...</th>\n",
       "      <th>logg_DR25</th>\n",
       "      <th>logg_DR25_err1</th>\n",
       "      <th>logg_DR25_err2</th>\n",
       "      <th>feh_DR25</th>\n",
       "      <th>feh_DR25_err1</th>\n",
       "      <th>feh_DR25_err2</th>\n",
       "      <th>limbdark_coeff1_DR25</th>\n",
       "      <th>limbdark_coeff2_DR25</th>\n",
       "      <th>limbdark_coeff3_DR25</th>\n",
       "      <th>limbdark_coeff4_DR25</th>\n",
       "    </tr>\n",
       "  </thead>\n",
       "  <tbody>\n",
       "  </tbody>\n",
       "</table>\n",
       "<p>0 rows × 156 columns</p>\n",
       "</div>"
      ],
      "text/plain": [
       "Empty DataFrame\n",
       "Columns: [kepid, tm_designation, teff, teff_err1, teff_err2, logg, logg_err1, logg_err2, feh, feh_err1, feh_err2, mass, mass_err1, mass_err2, radius, radius_err1, radius_err2, dens, dens_err1, dens_err2, prov_sec, kepmag, limbdark_coeff1, limbdark_coeff2, limbdark_coeff3, limbdark_coeff4, dist, dist_err1, dist_err2, nconfp, nkoi, ntce, datalink_dvr, st_delivname, st_vet_date_str, ra, dec, st_quarters, teff_prov, logg_prov, feh_prov, jmag, jmag_err, hmag, hmag_err, kmag, kmag_err, dutycycle, dataspan, mesthres01p5, mesthres02p0, mesthres02p5, mesthres03p0, mesthres03p5, mesthres04p5, mesthres05p0, mesthres06p0, mesthres07p5, mesthres09p0, mesthres10p5, mesthres12p0, mesthres12p5, mesthres15p0, rrmscdpp01p5, rrmscdpp02p0, rrmscdpp02p5, rrmscdpp03p0, rrmscdpp03p5, rrmscdpp04p5, rrmscdpp05p0, rrmscdpp06p0, rrmscdpp07p5, rrmscdpp09p0, rrmscdpp10p5, rrmscdpp12p0, rrmscdpp12p5, rrmscdpp15p0, av, av_err1, av_err2, dutycycle_post, dataspan_post, timeout01p5, timeout02p0, timeout02p5, timeout03p0, timeout03p5, timeout04p5, timeout05p0, timeout06p0, timeout07p5, timeout09p0, timeout10p5, timeout12p0, timeout12p5, timeout15p0, timeoutsumry, cdppslplong, cdppslpshrt, KIC, ...]\n",
       "Index: []\n",
       "\n",
       "[0 rows x 156 columns]"
      ]
     },
     "execution_count": 14,
     "metadata": {},
     "output_type": "execute_result"
    }
   ],
   "source": [
    "kic[kic.kepid==11147814]"
   ]
  },
  {
   "cell_type": "code",
   "execution_count": 15,
   "metadata": {},
   "outputs": [
    {
     "data": {
      "text/plain": [
       "169166"
      ]
     },
     "execution_count": 15,
     "metadata": {},
     "output_type": "execute_result"
    }
   ],
   "source": [
    "len(kic)"
   ]
  },
  {
   "cell_type": "code",
   "execution_count": 20,
   "metadata": {},
   "outputs": [
    {
     "data": {
      "text/plain": [
       "37.10481383996937"
      ]
     },
     "execution_count": 20,
     "metadata": {},
     "output_type": "execute_result"
    }
   ],
   "source": [
    "28.75 * 0.84276325/.653"
   ]
  },
  {
   "cell_type": "code",
   "execution_count": null,
   "metadata": {},
   "outputs": [],
   "source": []
  }
 ],
 "metadata": {
  "kernelspec": {
   "display_name": "Python 2",
   "language": "python",
   "name": "python2"
  },
  "language_info": {
   "codemirror_mode": {
    "name": "ipython",
    "version": 2
   },
   "file_extension": ".py",
   "mimetype": "text/x-python",
   "name": "python",
   "nbconvert_exporter": "python",
   "pygments_lexer": "ipython2",
   "version": "2.7.15"
  }
 },
 "nbformat": 4,
 "nbformat_minor": 2
}
