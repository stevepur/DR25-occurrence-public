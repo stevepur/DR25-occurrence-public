{
 "cells": [
  {
   "cell_type": "code",
   "execution_count": 1,
   "metadata": {},
   "outputs": [],
   "source": [
    "import os\n",
    "import requests\n",
    "import pandas as pd\n",
    "from astropy.io import fits\n",
    "from cStringIO import StringIO\n",
    "import numpy as np\n",
    "import matplotlib.pyplot as plt\n"
   ]
  },
  {
   "cell_type": "markdown",
   "metadata": {},
   "source": [
    "This notebook is for generating text for the tables in appendix A of the paper."
   ]
  },
  {
   "cell_type": "code",
   "execution_count": 16,
   "metadata": {},
   "outputs": [],
   "source": [
    "def printTable(table):\n",
    "    print(\"Model Name & Median AIC & Minimum AIC & AIC Relative Probability \\\\\\\\\")\n",
    "    print(\"\\\\hline\")\n",
    "    for i in range(len(table)):\n",
    "        print(table[\"Model\"].iloc[i] + \" & {:.3f}\".format(table[\"medianMCMCAIC\"].iloc[i])\n",
    "        + \" & {:.3f}\".format(table[\"minMCMCAIC\"].iloc[i]) \n",
    "              + \" & {:.3g}\".format(table[\"AICRelativeProb\"].iloc[i]) + \" \\\\\\\\\")\n",
    "    \n",
    "    "
   ]
  },
  {
   "cell_type": "code",
   "execution_count": 20,
   "metadata": {},
   "outputs": [
    {
     "name": "stdout",
     "output_type": "stream",
     "text": [
      "Model Name & Median AIC & Minimum AIC & AIC Relative Probability \\\\\n",
      "\\hline\n",
      "\\hline\n",
      "logisticY0 & 3064.154 & 3064.152 & 1.98e-157 \\\\\n",
      "\\hline\n",
      "dualBrokenPowerLaw & 2420.510 & 2419.351 & 1.16e-17 \\\\\n",
      "\\hline\n",
      "logisticX0xlogisticY0 & 2389.361 & 2389.370 & 6.72e-11 \\\\\n",
      "\\hline\n",
      "logisticX0xlogisticY02 & 2393.497 & 2392.688 & 8.49e-12 \\\\\n",
      "\\hline\n",
      "logisticX0xRotatedLogisticY0 & 2344.130 & 2344.152 & 0.446 \\\\\n",
      "\\hline\n",
      "logisticX0xRotatedLogisticY02 & 2342.513 & 2342.270 & 1 \\\\\n",
      "\\hline\n",
      "rotatedLogisticX0xlogisticY0 & 2346.074 & 2346.037 & 0.169 \\\\\n",
      "\\hline\n",
      "rotatedLogisticX0xlogisticY02 & 2345.969 & 2345.614 & 0.178 \\\\\n",
      "\\hline\n"
     ]
    }
   ],
   "source": [
    "vetCompTable = pd.read_pickle(\"vetCompletenessTable.pkl\")\n",
    "printTable(vetCompTable)"
   ]
  },
  {
   "cell_type": "code",
   "execution_count": 17,
   "metadata": {},
   "outputs": [
    {
     "name": "stdout",
     "output_type": "stream",
     "text": [
      "Model Name & Median AIC & Minimum AIC & AIC Relative Probability \\\\\n",
      "\\hline\n",
      "\\hline\n",
      "rotatedLogisticX0 & 244.162 & 243.615 & 1 \\\\\n",
      "\\hline\n",
      "rotatedLogisticX02 & 247.463 & 242.769 & 0.192 \\\\\n",
      "\\hline\n",
      "constant & 284.224 & 284.218 & 2e-09 \\\\\n",
      "\\hline\n",
      "dualBrokenPowerLaw & 275.131 & 272.629 & 1.88e-07 \\\\\n",
      "\\hline\n",
      "gaussian & 259.032 & 254.069 & 0.00059 \\\\\n",
      "\\hline\n",
      "rotatedLogisticX0xlogisticY0 & 250.104 & 249.621 & 0.0513 \\\\\n",
      "\\hline\n",
      "rotatedLogisticX0+gaussian & 239.919 & 238.672 & 8.34 \\\\\n",
      "\\hline\n",
      "rotatedLogisticY & 248.154 & 244.275 & 0.136 \\\\\n",
      "\\hline\n",
      "rotatedLogisticYXLogisticY & 235.004 & 231.420 & 97.4 \\\\\n",
      "\\hline\n",
      "logisticY & 266.605 & 266.446 & 1.34e-05 \\\\\n",
      "\\hline\n",
      "rotatedLogisticYXFixedLogisticY & 247.907 & 244.292 & 0.154 \\\\\n",
      "\\hline\n"
     ]
    }
   ],
   "source": [
    "fpEffTable = pd.read_pickle(\"fpEffectivenessTable.pkl\")\n",
    "printTable(fpEffTable)"
   ]
  },
  {
   "cell_type": "code",
   "execution_count": 19,
   "metadata": {},
   "outputs": [
    {
     "name": "stdout",
     "output_type": "stream",
     "text": [
      "Model Name & Median AIC & Minimum AIC & AIC Relative Probability \\\\\n",
      "\\hline\n",
      "\\hline\n",
      "rotatedLogisticX0 & 333.477 & 333.469 & 1 \\\\\n",
      "\\hline\n",
      "rotatedLogisticX0xlogisticY0 & 339.473 & 337.115 & 0.0499 \\\\\n",
      "\\hline\n",
      "dualBrokenPowerLaw & 427.071 & 424.577 & 4.75e-21 \\\\\n",
      "\\hline\n",
      "rotatedLogisticX02 & 331.116 & 328.438 & 3.26 \\\\\n",
      "\\hline\n",
      "rotatedLogisticX0xlogisticY02 & 339.415 & 330.323 & 0.0514 \\\\\n",
      "\\hline\n",
      "rotatedLogisticX0+gaussian & 334.568 & 332.595 & 0.58 \\\\\n",
      "\\hline\n"
     ]
    }
   ],
   "source": [
    "fpObsTable = pd.read_pickle(\"obsFpTable.pkl\")\n",
    "printTable(fpObsTable)"
   ]
  },
  {
   "cell_type": "code",
   "execution_count": null,
   "metadata": {},
   "outputs": [],
   "source": []
  }
 ],
 "metadata": {
  "kernelspec": {
   "display_name": "Python 2",
   "language": "python",
   "name": "python2"
  },
  "language_info": {
   "codemirror_mode": {
    "name": "ipython",
    "version": 2
   },
   "file_extension": ".py",
   "mimetype": "text/x-python",
   "name": "python",
   "nbconvert_exporter": "python",
   "pygments_lexer": "ipython2",
   "version": "2.7.15"
  }
 },
 "nbformat": 4,
 "nbformat_minor": 2
}
