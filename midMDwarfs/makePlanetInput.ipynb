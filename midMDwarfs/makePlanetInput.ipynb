{
 "cells": [
  {
   "cell_type": "markdown",
   "metadata": {},
   "source": [
    "This notebook prepares a planet candidate catalog for the stellar population in the specified input stellar catalog.  It computes the reliability, corrected planet radius and includes useful planet properties such as robovetter score.  It outputs two catalogs, one that contains only PCs and one that contains all KOIs."
   ]
  },
  {
   "cell_type": "markdown",
   "metadata": {},
   "source": [
    "Reliability is given by\n",
    "\n",
    "$$ R = \\frac{N_{\\mathrm{truePC}}}{N_{\\mathrm{obsPC}}} = 1 - \\frac{N_{\\mathrm{obsFP}}}{N_{\\mathrm{obsPC}}} \\left( \\frac{1 - E}{E} \\right) = 1 - \\frac{F_{\\mathrm{obsFP}}}{F_{\\mathrm{obsPC}}} \\left( \\frac{1 - E}{E} \\right) $$\n",
    "\n",
    "where $E = N_{\\mathrm{obsFP}}/N_{\\mathrm{trueFP}}$ is the false positive effectiveness, $F_{\\mathrm{obsFP}} = N_{\\mathrm{obsFP}}/N_{\\mathrm{obsTCEs}}$ is the fraction of observed TCEs that are dispositioned as FP and $F_{\\mathrm{obsPC}} = N_{\\mathrm{obsPC}}/N_{\\mathrm{obsTCEs}}$ is the fraction of TCEs dispositioned as PC.\n",
    "\n",
    "We will separately measure $E$ and $F_{\\mathrm{obsFP}}$ as binomial point processes with probabilities that depend on period and MES.  Once we have $F_{\\mathrm{obsFP}}$ then $F_{\\mathrm{obsPC}} = 1 - F_{\\mathrm{obsFP}}$, assuming that $N_{\\mathrm{obsTCEs}} = N_{\\mathrm{obsPC}} + N_{\\mathrm{obsFP}}$.\n",
    "\n",
    "We think of TCEs as consisting of two sets: those that are dispositioned as FP and those that are dispositioned as PC.  We do this for both the observed TCEs, and for inverted/scrambled TCEs, where all TCEs are true false positives.  Then we can think of the vetting process as drawing from the set of TCEs, with a probability $r$ of selecting either PCs or FPs.  Then the probability distribution of selecting $c$ FPs from $n$ TCEs is given by the binomial distribution\n",
    "\n",
    "$$P\\{c\\} = \\left( \\begin{array}{c} n \\\\ c \\end{array} \\right) r^c (1-r)^{n-c}.$$\n",
    "\n",
    "To measure $E$ we use the inverted and scrambled data sets, where all detected TCEs are by definition FPs.  We define $E$ as the probability of drawing FPs from inverted/scrambled TCEs, found via the Bayesian inference $p(E|n, c) \\propto p(c|E, n) p(E)$, where \n",
    "$$p(c|E, n) = \\left( \\begin{array}{c} n \\\\ c \\end{array} \\right) E^c (1-E)^{n-c}$$ and\n",
    "$p(E)$ is a prior distribution of the probability $E$.  By putting the data on a grid indexed by $i,j$, we can fit effectiveness as a function parameterized by a vector $\\theta$, $E(\\theta,\\mathrm{period},\\mathrm{MES})$, as $p(\\theta)|n_{i,j}, c_{i,j}, \\mathrm{period}_{i,j},\\mathrm{MES}_{i,j}) \\propto p(c_{i,j}|\\theta, n_{i,j}, \\mathrm{period}_{i,j},\\mathrm{MES}_{i,j}) p(\\theta)$, where $p(\\theta)$ is some prior distribution of the parameters.\n",
    "\n",
    "To measure $F_{\\mathrm{obsFP}}$ we perform a similar inference using the set of observed TCEs, and inferring the probability of drawing c FPs from n observed TCEs.  The inference in this case becomes $p(F_{\\mathrm{obsFP}}|n, c) \\propto p(c|F_{\\mathrm{obsFP}}, n) p(F_{\\mathrm{obsFP}})$, which we can parameterize interms of a function similar to effectiveness.  "
   ]
  },
  {
   "cell_type": "code",
   "execution_count": 1,
   "metadata": {},
   "outputs": [],
   "source": [
    "import numpy as np\n",
    "import matplotlib.pyplot as plt\n",
    "import scipy.special as spec\n",
    "import pandas as pd\n",
    "from astropy.io import ascii\n",
    "from astropy.table import Table, vstack\n",
    "import pickle\n",
    "from mpl_toolkits.mplot3d import Axes3D  \n",
    "from matplotlib import cm\n",
    "\n",
    "import sys\n",
    "sys.path.insert(0, '..')\n",
    "import dr25Models as funcModels"
   ]
  },
  {
   "cell_type": "markdown",
   "metadata": {},
   "source": [
    "Reliability is given by\n",
    "\n",
    "$$ R = \\frac{N_{\\mathrm{truePC}}}{N_{\\mathrm{obsPC}}} = 1 - \\frac{N_{\\mathrm{obsFP}}}{N_{\\mathrm{obsPC}}} \\left( \\frac{1 - E}{E} \\right) = 1 - \\frac{F_{\\mathrm{obsFP}}}{F_{\\mathrm{obsPC}}} \\left( \\frac{1 - E}{E} \\right) = 1 - \\frac{F_{\\mathrm{obsFP}}}{1 - F_{\\mathrm{obsFP}}} \\left( \\frac{1 - E}{E} \\right) $$\n",
    "\n",
    "where $E = N_{\\mathrm{obsFP}}/N_{\\mathrm{trueFP}}$, $F_{\\mathrm{obsFP}} = N_{\\mathrm{obsFP}}/N_{\\mathrm{obsTCEs}}$ is the fraction of observed TCEs that are dispositioned as FP and $F_{\\mathrm{obsPC}} = N_{\\mathrm{obsPC}}/N_{\\mathrm{obsTCEs}}$ is the fraction of TCEs dispositioned as PC.\n",
    "\n",
    "We get $E$ and $F_{\\mathrm{obsFP}}$ from the outputs of the notebooks binomialFPEffectiveness.ipynb and binomialObsFPRate.ipynb."
   ]
  },
  {
   "cell_type": "code",
   "execution_count": 2,
   "metadata": {},
   "outputs": [],
   "source": [
    "dataType = \"midMDwarfsHU\"\n",
    "outputDir = dataType + \"Output/\"\n",
    "\n",
    "htmlLabel = dataType\n",
    "\n"
   ]
  },
  {
   "cell_type": "code",
   "execution_count": 3,
   "metadata": {},
   "outputs": [
    {
     "name": "stdout",
     "output_type": "stream",
     "text": [
      "Loaded 8054 KOIs\n"
     ]
    }
   ],
   "source": [
    "import requests\n",
    "from cStringIO import StringIO\n",
    "if False:\n",
    "    selectStr = \"kepid,kepoi_name,koi_tce_plnt_num,koi_pdisposition,koi_score,koi_period,koi_max_mult_ev,koi_prad,koi_prad_err1,koi_prad_err2,koi_ror,koi_ror_err1,koi_ror_err2\"\n",
    "    urlDr25Koi = \"https://exoplanetarchive.ipac.caltech.edu/cgi-bin/nstedAPI/nph-nstedAPI?table=q1_q17_dr25_koi&select=\" + selectStr\n",
    "\n",
    "    r = requests.get(urlDr25Koi)\n",
    "    if r.status_code != requests.codes.ok:\n",
    "        r.raise_for_status()\n",
    "    fh = StringIO(r.content)\n",
    "    dr25Koi = pd.read_csv(fh, dtype={\"kepoi_name\":str})\n",
    "    dr25Koi.to_csv(\"koiCatalogs/dr25_kois_archive.txt\", index=False)\n",
    "else:\n",
    "    dr25Koi = pd.read_csv(\"../GKbaseline/koiCatalogs/dr25_kois_archive.txt\", dtype={\"kepoi_name\":str})\n",
    "\n",
    "print(\"Loaded \" + str(len(dr25Koi)) + \" KOIs\")\n",
    "\n",
    "\n",
    "\n"
   ]
  },
  {
   "cell_type": "code",
   "execution_count": null,
   "metadata": {},
   "outputs": [],
   "source": []
  },
  {
   "cell_type": "code",
   "execution_count": 4,
   "metadata": {},
   "outputs": [],
   "source": [
    "# add TCE_ID for a later merge\n",
    "\n",
    "TCE_ID = []\n",
    "for i in range(len(dr25Koi)):\n",
    "    TCE_ID.append(\"%09d\"%dr25Koi.kepid.loc[i] + \"-%02d\"%dr25Koi.koi_tce_plnt_num.loc[i])\n",
    "\n",
    "dr25Koi[\"TCE_ID\"] = TCE_ID\n"
   ]
  },
  {
   "cell_type": "code",
   "execution_count": 5,
   "metadata": {},
   "outputs": [
    {
     "name": "stdout",
     "output_type": "stream",
     "text": [
      "length of dr25CleanStellarIso = 449\n",
      "length of unique dr25CleanStellarIso = 449\n",
      "length of dr25Koi = 21\n",
      "length of unique dr25Koi = 21\n"
     ]
    }
   ],
   "source": [
    "# restrict the population to stars in the Travis' catalog\n",
    "if dataType == \"midMDwarfsBerger2019\":\n",
    "    starlist = \"stellarCatalogs/dr25_Berger2019_stellar_clean.txt\"\n",
    "elif dataType == \"midMDwarfsHU\":\n",
    "    starlist = \"stellarCatalogs/dr25_HU_stellar_clean.txt\"\n",
    "else:\n",
    "    raise ValueError('bad dataType');\n",
    "\n",
    "dr25CleanStellarIso = pd.read_csv(starlist)\n",
    "# dr25Koi = dr25Koi[dr25Koi.kepid.isin(dr25CleanStellarIso.kepid)]\n",
    "# merge in only iso_rad and uncertainties from the stellar table\n",
    "dr25Koi = pd.merge(dr25Koi, dr25CleanStellarIso[[\"kepid\",\"radius\",\"radius_err1\",\"radius_err2\",\"teff\"]], on=\"kepid\", how=\"inner\")\n",
    "dr25Koi = dr25Koi.reset_index(drop=True)\n",
    "\n",
    "print(\"length of dr25CleanStellarIso = \" + str(len(dr25CleanStellarIso.kepid)))\n",
    "print(\"length of unique dr25CleanStellarIso = \" + str(len(np.unique(dr25CleanStellarIso.kepid))))\n",
    "print(\"length of dr25Koi = \" + str(len(dr25Koi.kepoi_name)))\n",
    "print(\"length of unique dr25Koi = \" + str(len(np.unique(dr25Koi.kepoi_name))))\n"
   ]
  },
  {
   "cell_type": "code",
   "execution_count": 6,
   "metadata": {},
   "outputs": [
    {
     "name": "stdout",
     "output_type": "stream",
     "text": [
      "length of unique dr25Koi = 21\n",
      "length of unique dr25Koi kepids = 15\n"
     ]
    },
    {
     "data": {
      "text/plain": [
       "array(['K00961.01', 'K00961.02', 'K00961.03', 'K01702.01', 'K02685.01',\n",
       "       'K02704.01', 'K02704.02', 'K02842.01', 'K02842.02', 'K02842.03',\n",
       "       'K03138.01', 'K03138.02', 'K04290.01', 'K05327.01', 'K06591.01',\n",
       "       'K06705.01', 'K06863.01', 'K07474.01', 'K07737.01', 'K07952.01',\n",
       "       'K08012.01'], dtype=object)"
      ]
     },
     "execution_count": 6,
     "metadata": {},
     "output_type": "execute_result"
    }
   ],
   "source": [
    "print(\"length of unique dr25Koi = \" + str(len(np.unique(dr25Koi.kepoi_name))))\n",
    "print(\"length of unique dr25Koi kepids = \" + str(len(np.unique(dr25Koi.kepid))))\n",
    "\n",
    "np.unique(dr25Koi.kepoi_name)"
   ]
  },
  {
   "cell_type": "code",
   "execution_count": 7,
   "metadata": {},
   "outputs": [
    {
     "data": {
      "text/plain": [
       "0     K00961.02\n",
       "1     K00961.03\n",
       "2     K00961.01\n",
       "3     K01702.01\n",
       "4     K02842.01\n",
       "5     K02842.02\n",
       "6     K02842.03\n",
       "7     K02685.01\n",
       "8     K03138.01\n",
       "9     K03138.02\n",
       "10    K02704.01\n",
       "11    K02704.02\n",
       "12    K06591.01\n",
       "13    K05327.01\n",
       "14    K04290.01\n",
       "15    K07952.01\n",
       "16    K06863.01\n",
       "17    K08012.01\n",
       "18    K07474.01\n",
       "19    K07737.01\n",
       "20    K06705.01\n",
       "Name: kepoi_name, dtype: object"
      ]
     },
     "execution_count": 7,
     "metadata": {},
     "output_type": "execute_result"
    }
   ],
   "source": [
    "dr25Koi.kepoi_name"
   ]
  },
  {
   "cell_type": "code",
   "execution_count": null,
   "metadata": {},
   "outputs": [],
   "source": []
  },
  {
   "cell_type": "code",
   "execution_count": 8,
   "metadata": {},
   "outputs": [],
   "source": [
    "# correct the planet radii with the new catalog\n",
    "\n",
    "rEarth = 6356.8 # km\n",
    "rSun = 695700 # km\n",
    "\n",
    "dr25Koi['corrected_prad'] = dr25Koi['koi_ror']*dr25Koi['radius']*rSun/rEarth;\n",
    "dr25Koi['corrected_prad_err1'] = np.sqrt(dr25Koi['koi_ror_err1']**2*dr25Koi['radius']**2\n",
    "                                        +dr25Koi['koi_ror']**2*dr25Koi['radius_err1']**2)*rSun/rEarth;\n",
    "dr25Koi['corrected_prad_err2'] = -np.sqrt(dr25Koi['koi_ror_err2']**2*dr25Koi['radius']**2\n",
    "                                        +dr25Koi['koi_ror']**2*dr25Koi['radius_err2']**2)*rSun/rEarth;\n",
    "\n",
    "dr25Koi = dr25Koi[~np.isnan(dr25Koi.koi_prad)]"
   ]
  },
  {
   "cell_type": "code",
   "execution_count": null,
   "metadata": {},
   "outputs": [],
   "source": []
  },
  {
   "cell_type": "code",
   "execution_count": 9,
   "metadata": {},
   "outputs": [
    {
     "data": {
      "text/plain": [
       "0     0.174\n",
       "1     0.174\n",
       "2     0.174\n",
       "3     0.364\n",
       "4     0.217\n",
       "5     0.217\n",
       "6     0.217\n",
       "7     0.278\n",
       "8     0.231\n",
       "9     0.231\n",
       "10    0.305\n",
       "11    0.305\n",
       "12    0.385\n",
       "13    0.304\n",
       "14    0.217\n",
       "15    0.322\n",
       "16    0.374\n",
       "17    0.434\n",
       "19    0.341\n",
       "20    0.345\n",
       "Name: radius, dtype: float64"
      ]
     },
     "execution_count": 9,
     "metadata": {},
     "output_type": "execute_result"
    }
   ],
   "source": [
    "dr25Koi['radius']"
   ]
  },
  {
   "cell_type": "code",
   "execution_count": 10,
   "metadata": {},
   "outputs": [
    {
     "data": {
      "text/plain": [
       "0     0.046729\n",
       "1     0.040715\n",
       "2     0.048039\n",
       "3     0.033564\n",
       "4     0.048437\n",
       "5     0.048149\n",
       "6     0.039143\n",
       "7     0.053662\n",
       "8     0.038216\n",
       "9     0.041128\n",
       "10    0.079431\n",
       "11    0.046896\n",
       "12    0.008231\n",
       "13    0.033746\n",
       "14    0.036066\n",
       "15    0.011427\n",
       "16    0.044970\n",
       "17    0.017559\n",
       "19    0.025738\n",
       "20    0.018188\n",
       "Name: koi_ror, dtype: float64"
      ]
     },
     "execution_count": 10,
     "metadata": {},
     "output_type": "execute_result"
    }
   ],
   "source": [
    "dr25Koi['koi_ror']"
   ]
  },
  {
   "cell_type": "code",
   "execution_count": 11,
   "metadata": {},
   "outputs": [
    {
     "data": {
      "text/plain": [
       "0     0.000277\n",
       "1     0.000220\n",
       "2     0.000395\n",
       "3     0.001855\n",
       "4     0.002143\n",
       "5     0.009532\n",
       "6     0.001670\n",
       "7     0.000742\n",
       "8     0.002406\n",
       "9     0.001451\n",
       "10    0.008687\n",
       "11    0.001110\n",
       "12    0.000215\n",
       "13    0.001989\n",
       "14    0.002674\n",
       "15    0.000000\n",
       "16    0.001836\n",
       "17    0.000000\n",
       "19    0.007745\n",
       "20    0.338521\n",
       "Name: koi_ror_err1, dtype: float64"
      ]
     },
     "execution_count": 11,
     "metadata": {},
     "output_type": "execute_result"
    }
   ],
   "source": [
    "dr25Koi['koi_ror_err1']"
   ]
  },
  {
   "cell_type": "code",
   "execution_count": 12,
   "metadata": {},
   "outputs": [
    {
     "data": {
      "text/plain": [
       "0    -0.005870\n",
       "1    -0.004542\n",
       "2    -0.006300\n",
       "3    -0.006549\n",
       "4    -0.000505\n",
       "5    -0.003498\n",
       "6    -0.001125\n",
       "7    -0.002178\n",
       "8    -0.001287\n",
       "9    -0.004514\n",
       "10   -0.007179\n",
       "11   -0.003045\n",
       "12   -0.000747\n",
       "13   -0.001651\n",
       "14   -0.002052\n",
       "15    0.000000\n",
       "16   -0.003309\n",
       "17    0.000000\n",
       "19   -0.000569\n",
       "20   -0.006508\n",
       "Name: koi_ror_err2, dtype: float64"
      ]
     },
     "execution_count": 12,
     "metadata": {},
     "output_type": "execute_result"
    }
   ],
   "source": [
    "dr25Koi['koi_ror_err2']"
   ]
  },
  {
   "cell_type": "code",
   "execution_count": 13,
   "metadata": {},
   "outputs": [
    {
     "data": {
      "text/plain": [
       "0      0.026109\n",
       "1      0.022670\n",
       "2      0.027342\n",
       "3      0.082524\n",
       "4      0.060015\n",
       "5      0.228572\n",
       "6      0.047261\n",
       "7      0.057475\n",
       "8      0.067505\n",
       "9      0.048357\n",
       "10     0.300339\n",
       "11     0.059215\n",
       "12     0.014104\n",
       "13     0.074053\n",
       "14     0.067777\n",
       "15     0.011255\n",
       "16     0.092619\n",
       "17     0.024982\n",
       "19     0.340652\n",
       "20    12.781702\n",
       "Name: corrected_prad_err1, dtype: float64"
      ]
     },
     "execution_count": 13,
     "metadata": {},
     "output_type": "execute_result"
    }
   ],
   "source": [
    "dr25Koi['corrected_prad_err1']"
   ]
  },
  {
   "cell_type": "code",
   "execution_count": 14,
   "metadata": {},
   "outputs": [
    {
     "data": {
      "text/plain": [
       "0    -0.114669\n",
       "1    -0.089316\n",
       "2    -0.122816\n",
       "3    -0.263465\n",
       "4    -0.033992\n",
       "5    -0.088887\n",
       "6    -0.037074\n",
       "7    -0.084763\n",
       "8    -0.043770\n",
       "9    -0.118388\n",
       "10   -0.252082\n",
       "11   -0.111645\n",
       "12   -0.033279\n",
       "13   -0.064203\n",
       "14   -0.054183\n",
       "15   -0.011255\n",
       "16   -0.145861\n",
       "17   -0.024982\n",
       "19   -0.181522\n",
       "20   -0.246530\n",
       "Name: corrected_prad_err2, dtype: float64"
      ]
     },
     "execution_count": 14,
     "metadata": {},
     "output_type": "execute_result"
    }
   ],
   "source": [
    "dr25Koi['corrected_prad_err2']"
   ]
  },
  {
   "cell_type": "code",
   "execution_count": 15,
   "metadata": {},
   "outputs": [
    {
     "data": {
      "image/png": "[encoded data removed]",
      "text/plain": [
       "<Figure size 432x288 with 1 Axes>"
      ]
     },
     "metadata": {
      "needs_background": "light"
     },
     "output_type": "display_data"
    }
   ],
   "source": [
    "v = dr25Koi.corrected_prad_err1/dr25Koi.koi_prad_err1\n",
    "plt.hist(v[v<5], 100);"
   ]
  },
  {
   "cell_type": "code",
   "execution_count": 16,
   "metadata": {},
   "outputs": [
    {
     "data": {
      "image/png": "[encoded data removed]",
      "text/plain": [
       "<Figure size 432x288 with 1 Axes>"
      ]
     },
     "metadata": {
      "needs_background": "light"
     },
     "output_type": "display_data"
    }
   ],
   "source": [
    "plt.hist(dr25Koi['corrected_prad'][dr25Koi['corrected_prad']<10], 100);"
   ]
  },
  {
   "cell_type": "code",
   "execution_count": 17,
   "metadata": {},
   "outputs": [
    {
     "data": {
      "text/plain": [
       "(5, 30)"
      ]
     },
     "execution_count": 17,
     "metadata": {},
     "output_type": "execute_result"
    },
    {
     "data": {
      "image/png": "[encoded data removed]",
      "text/plain": [
       "<Figure size 1080x720 with 1 Axes>"
      ]
     },
     "metadata": {
      "needs_background": "light"
     },
     "output_type": "display_data"
    }
   ],
   "source": [
    "fig, ax = plt.subplots(figsize=(15,10));\n",
    "ax.errorbar(dr25Koi.koi_period, dr25Koi.koi_prad, \n",
    "            yerr = [-dr25Koi.koi_prad_err2, dr25Koi.koi_prad_err1],\n",
    "            fmt=\"k.\", alpha = 0.5);\n",
    "ax.errorbar(dr25Koi.koi_period, dr25Koi.corrected_prad, \n",
    "            yerr = [-dr25Koi.corrected_prad_err2, dr25Koi.corrected_prad_err1],\n",
    "            fmt=\"r.\", alpha = 0.5);\n",
    "\n",
    "plt.xlabel(\"period\");\n",
    "plt.ylabel(\"planet radius\");\n",
    "plt.title(\"KOI Radius Change\");\n",
    "plt.ylim([0, 2.5])\n",
    "plt.xlim([5, 30])\n",
    "\n"
   ]
  },
  {
   "cell_type": "code",
   "execution_count": null,
   "metadata": {},
   "outputs": [],
   "source": []
  },
  {
   "cell_type": "code",
   "execution_count": 18,
   "metadata": {},
   "outputs": [],
   "source": [
    "dr25Fpp = ascii.read(\"../data/q1_q17_dr25_koifpp.txt\")\n",
    "dr25FppPd = dr25Fpp.to_pandas()"
   ]
  },
  {
   "cell_type": "code",
   "execution_count": null,
   "metadata": {},
   "outputs": [],
   "source": []
  },
  {
   "cell_type": "code",
   "execution_count": 19,
   "metadata": {},
   "outputs": [],
   "source": [
    "mergedDr25Koi = pd.merge(dr25Koi, dr25FppPd, on=\"kepoi_name\", how=\"inner\")\n",
    "\n"
   ]
  },
  {
   "cell_type": "code",
   "execution_count": 20,
   "metadata": {},
   "outputs": [],
   "source": [
    "\n",
    "mergedDr25Koi.loc[:,\"reliability\"] = 1\n",
    "    "
   ]
  },
  {
   "cell_type": "code",
   "execution_count": 21,
   "metadata": {
    "scrolled": false
   },
   "outputs": [
    {
     "data": {
      "image/png": "[encoded data removed]",
      "text/plain": [
       "<Figure size 432x288 with 1 Axes>"
      ]
     },
     "metadata": {
      "needs_background": "light"
     },
     "output_type": "display_data"
    }
   ],
   "source": [
    "plt.hist(mergedDr25Koi.koi_score, 40);\n",
    "plt.yscale('log', nonposy='clip')\n",
    "\n"
   ]
  },
  {
   "cell_type": "code",
   "execution_count": 22,
   "metadata": {},
   "outputs": [
    {
     "data": {
      "text/plain": [
       "0"
      ]
     },
     "execution_count": 22,
     "metadata": {},
     "output_type": "execute_result"
    }
   ],
   "source": [
    "np.sum(np.isnan(mergedDr25Koi.fpp_prob) & mergedDr25Koi.koi_period > 50)"
   ]
  },
  {
   "cell_type": "code",
   "execution_count": 23,
   "metadata": {},
   "outputs": [
    {
     "data": {
      "text/html": [
       "<div>\n",
       "<style scoped>\n",
       "    .dataframe tbody tr th:only-of-type {\n",
       "        vertical-align: middle;\n",
       "    }\n",
       "\n",
       "    .dataframe tbody tr th {\n",
       "        vertical-align: top;\n",
       "    }\n",
       "\n",
       "    .dataframe thead th {\n",
       "        text-align: right;\n",
       "    }\n",
       "</style>\n",
       "<table border=\"1\" class=\"dataframe\">\n",
       "  <thead>\n",
       "    <tr style=\"text-align: right;\">\n",
       "      <th></th>\n",
       "      <th>kepid_x</th>\n",
       "      <th>kepoi_name</th>\n",
       "      <th>koi_tce_plnt_num</th>\n",
       "      <th>koi_pdisposition</th>\n",
       "      <th>koi_score</th>\n",
       "      <th>koi_period</th>\n",
       "      <th>koi_max_mult_ev</th>\n",
       "      <th>koi_prad</th>\n",
       "      <th>koi_prad_err1</th>\n",
       "      <th>koi_prad_err2</th>\n",
       "      <th>...</th>\n",
       "      <th>radius_err2</th>\n",
       "      <th>teff</th>\n",
       "      <th>corrected_prad</th>\n",
       "      <th>corrected_prad_err1</th>\n",
       "      <th>corrected_prad_err2</th>\n",
       "      <th>rowid</th>\n",
       "      <th>kepid_y</th>\n",
       "      <th>fpp_koi_period</th>\n",
       "      <th>fpp_prob</th>\n",
       "      <th>reliability</th>\n",
       "    </tr>\n",
       "  </thead>\n",
       "  <tbody>\n",
       "  </tbody>\n",
       "</table>\n",
       "<p>0 rows × 26 columns</p>\n",
       "</div>"
      ],
      "text/plain": [
       "Empty DataFrame\n",
       "Columns: [kepid_x, kepoi_name, koi_tce_plnt_num, koi_pdisposition, koi_score, koi_period, koi_max_mult_ev, koi_prad, koi_prad_err1, koi_prad_err2, koi_ror, koi_ror_err1, koi_ror_err2, TCE_ID, radius, radius_err1, radius_err2, teff, corrected_prad, corrected_prad_err1, corrected_prad_err2, rowid, kepid_y, fpp_koi_period, fpp_prob, reliability]\n",
       "Index: []\n",
       "\n",
       "[0 rows x 26 columns]"
      ]
     },
     "execution_count": 23,
     "metadata": {},
     "output_type": "execute_result"
    }
   ],
   "source": [
    "mergedDr25Koi[np.abs(mergedDr25Koi.koi_period - mergedDr25Koi.fpp_koi_period)>1e-2]"
   ]
  },
  {
   "cell_type": "code",
   "execution_count": 24,
   "metadata": {},
   "outputs": [
    {
     "name": "stderr",
     "output_type": "stream",
     "text": [
      "/Users/steve/anaconda3/envs/py2/lib/python2.7/site-packages/ipykernel_launcher.py:2: SettingWithCopyWarning: \n",
      "A value is trying to be set on a copy of a slice from a DataFrame\n",
      "\n",
      "See the caveats in the documentation: http://pandas.pydata.org/pandas-docs/stable/indexing.html#indexing-view-versus-copy\n",
      "  \n",
      "/Users/steve/anaconda3/envs/py2/lib/python2.7/site-packages/ipykernel_launcher.py:3: SettingWithCopyWarning: \n",
      "A value is trying to be set on a copy of a slice from a DataFrame\n",
      "\n",
      "See the caveats in the documentation: http://pandas.pydata.org/pandas-docs/stable/indexing.html#indexing-view-versus-copy\n",
      "  This is separate from the ipykernel package so we can avoid doing imports until\n"
     ]
    }
   ],
   "source": [
    "mergedDr25Koi[\"fpp_prob_use\"] = mergedDr25Koi[\"fpp_prob\"]\n",
    "mergedDr25Koi.fpp_prob_use[np.isnan(mergedDr25Koi.fpp_prob)] = 1\n",
    "mergedDr25Koi.fpp_prob_use[np.abs(mergedDr25Koi.koi_period - mergedDr25Koi.fpp_koi_period)>1e-2] = 1\n",
    "\n"
   ]
  },
  {
   "cell_type": "code",
   "execution_count": 25,
   "metadata": {},
   "outputs": [
    {
     "data": {
      "text/html": [
       "<div>\n",
       "<style scoped>\n",
       "    .dataframe tbody tr th:only-of-type {\n",
       "        vertical-align: middle;\n",
       "    }\n",
       "\n",
       "    .dataframe tbody tr th {\n",
       "        vertical-align: top;\n",
       "    }\n",
       "\n",
       "    .dataframe thead th {\n",
       "        text-align: right;\n",
       "    }\n",
       "</style>\n",
       "<table border=\"1\" class=\"dataframe\">\n",
       "  <thead>\n",
       "    <tr style=\"text-align: right;\">\n",
       "      <th></th>\n",
       "      <th>kepid_x</th>\n",
       "      <th>kepoi_name</th>\n",
       "      <th>koi_tce_plnt_num</th>\n",
       "      <th>koi_pdisposition</th>\n",
       "      <th>koi_score</th>\n",
       "      <th>koi_period</th>\n",
       "      <th>koi_max_mult_ev</th>\n",
       "      <th>koi_prad</th>\n",
       "      <th>koi_prad_err1</th>\n",
       "      <th>koi_prad_err2</th>\n",
       "      <th>...</th>\n",
       "      <th>teff</th>\n",
       "      <th>corrected_prad</th>\n",
       "      <th>corrected_prad_err1</th>\n",
       "      <th>corrected_prad_err2</th>\n",
       "      <th>rowid</th>\n",
       "      <th>kepid_y</th>\n",
       "      <th>fpp_koi_period</th>\n",
       "      <th>fpp_prob</th>\n",
       "      <th>reliability</th>\n",
       "      <th>fpp_prob_use</th>\n",
       "    </tr>\n",
       "  </thead>\n",
       "  <tbody>\n",
       "  </tbody>\n",
       "</table>\n",
       "<p>0 rows × 27 columns</p>\n",
       "</div>"
      ],
      "text/plain": [
       "Empty DataFrame\n",
       "Columns: [kepid_x, kepoi_name, koi_tce_plnt_num, koi_pdisposition, koi_score, koi_period, koi_max_mult_ev, koi_prad, koi_prad_err1, koi_prad_err2, koi_ror, koi_ror_err1, koi_ror_err2, TCE_ID, radius, radius_err1, radius_err2, teff, corrected_prad, corrected_prad_err1, corrected_prad_err2, rowid, kepid_y, fpp_koi_period, fpp_prob, reliability, fpp_prob_use]\n",
       "Index: []\n",
       "\n",
       "[0 rows x 27 columns]"
      ]
     },
     "execution_count": 25,
     "metadata": {},
     "output_type": "execute_result"
    }
   ],
   "source": [
    "mergedDr25Koi[np.abs(mergedDr25Koi.koi_period - mergedDr25Koi.fpp_koi_period)>1e-2]"
   ]
  },
  {
   "cell_type": "code",
   "execution_count": 26,
   "metadata": {},
   "outputs": [],
   "source": [
    "mergedDr25Koi[\"totalReliability\"] = (1-mergedDr25Koi.fpp_prob_use)*mergedDr25Koi.reliability"
   ]
  },
  {
   "cell_type": "code",
   "execution_count": 27,
   "metadata": {},
   "outputs": [
    {
     "data": {
      "image/png": "[encoded data removed]",
      "text/plain": [
       "<Figure size 1080x720 with 2 Axes>"
      ]
     },
     "metadata": {
      "needs_background": "light"
     },
     "output_type": "display_data"
    }
   ],
   "source": [
    "fig, ax = plt.subplots(figsize=(15,10));\n",
    "scf = ax.scatter(mergedDr25Koi.koi_period, mergedDr25Koi.koi_max_mult_ev, cmap=\"viridis\", \n",
    "                 c=mergedDr25Koi.reliability, edgecolors='k', s=100*mergedDr25Koi.totalReliability, alpha = 0.3);\n",
    "plt.xlabel(\"period\");\n",
    "plt.ylabel(\"MES\");\n",
    "plt.title(\"KOI Reliability, size = total reliability\");\n",
    "plt.ylim([7, 50])\n",
    "plt.xlim([5, 30])\n",
    "\n",
    "cbh = plt.colorbar(scf);\n",
    "cbh.ax.set_ylabel(\"Reliability\");\n",
    "\n"
   ]
  },
  {
   "cell_type": "code",
   "execution_count": 28,
   "metadata": {},
   "outputs": [
    {
     "data": {
      "image/png": "[encoded data removed]",
      "text/plain": [
       "<Figure size 1080x720 with 2 Axes>"
      ]
     },
     "metadata": {
      "needs_background": "light"
     },
     "output_type": "display_data"
    }
   ],
   "source": [
    "fig, ax = plt.subplots(figsize=(15,10));\n",
    "scf = ax.scatter(mergedDr25Koi.koi_period, mergedDr25Koi.corrected_prad, cmap=\"viridis\", \n",
    "                 c=mergedDr25Koi.reliability, edgecolors='k', s=100*mergedDr25Koi.totalReliability, alpha = 0.3);\n",
    "plt.xlabel(\"period\");\n",
    "plt.ylabel(\"planet radius\");\n",
    "plt.title(\"KOI Reliability, size = total reliability\");\n",
    "plt.ylim([0, 2.5])\n",
    "plt.xlim([5, 30])\n",
    "\n",
    "cbh = plt.colorbar(scf);\n",
    "cbh.ax.set_ylabel(\"Reliability\");\n",
    "\n",
    "\n"
   ]
  },
  {
   "cell_type": "code",
   "execution_count": 29,
   "metadata": {},
   "outputs": [
    {
     "data": {
      "image/png": "[encoded data removed]",
      "text/plain": [
       "<Figure size 1080x720 with 2 Axes>"
      ]
     },
     "metadata": {
      "needs_background": "light"
     },
     "output_type": "display_data"
    }
   ],
   "source": [
    "fig, ax = plt.subplots(figsize=(15,10));\n",
    "scf = ax.scatter(mergedDr25Koi.koi_period, mergedDr25Koi.corrected_prad, cmap=\"viridis\", \n",
    "                 c=mergedDr25Koi.reliability, edgecolors='k', s=100*mergedDr25Koi.reliability, alpha = 0.3);\n",
    "scf = ax.scatter(mergedDr25Koi.koi_period, mergedDr25Koi.corrected_prad, cmap=\"viridis\", \n",
    "                 c=mergedDr25Koi.reliability, edgecolors='k', s=100*mergedDr25Koi.totalReliability, alpha = 0.3);\n",
    "\n",
    "plt.xlabel(\"period\");\n",
    "plt.ylabel(\"planet radius\");\n",
    "plt.title(\"KOI Reliability, size = reliability\");\n",
    "plt.ylim([0, 2.5])\n",
    "plt.xlim([5, 30])\n",
    "\n",
    "cbh = plt.colorbar(scf);\n",
    "cbh.ax.set_ylabel(\"Reliability\");\n",
    "\n",
    "\n",
    "\n"
   ]
  },
  {
   "cell_type": "code",
   "execution_count": 30,
   "metadata": {},
   "outputs": [],
   "source": [
    "dataLoc = \"../data/\"\n",
    "obsTceList = dataLoc + \"kplr_dr25_obs_tces.txt\"\n",
    "\n",
    "obsTcesFull = ascii.read(obsTceList);\n",
    "obsTcesFullPd = obsTcesFull.to_pandas();\n",
    "\n",
    "mergedDr25Koi = pd.merge(mergedDr25Koi, obsTcesFullPd[[\"TCE_ID\",\"Disp\"]], on=\"TCE_ID\", how=\"inner\")\n"
   ]
  },
  {
   "cell_type": "code",
   "execution_count": null,
   "metadata": {},
   "outputs": [],
   "source": []
  },
  {
   "cell_type": "code",
   "execution_count": 31,
   "metadata": {},
   "outputs": [
    {
     "name": "stdout",
     "output_type": "stream",
     "text": [
      "There are 14 PCs in 449 observed targets\n",
      "There are 6 FPs in 449 observed targets\n",
      "after removing NaNs\n",
      "There are 14 PCs in 449 observed targets\n",
      "There are 6 FPs in 449 observed targets\n"
     ]
    }
   ],
   "source": [
    "# dr25PC = mergedDr25Koi[mergedDr25Koi.koi_pdisposition == \"CANDIDATE\"]\n",
    "# dr25FP = mergedDr25Koi[mergedDr25Koi.koi_pdisposition == \"FALSE POSITIVE\"]\n",
    "dr25PC = mergedDr25Koi[mergedDr25Koi.Disp == \"PC\"]\n",
    "dr25FP = mergedDr25Koi[mergedDr25Koi.Disp == \"FP\"]\n",
    "\n",
    "print(\"There are \" + str(len(dr25PC)) + \" PCs in \" + str(len(dr25CleanStellarIso)) + \" observed targets\")\n",
    "print(\"There are \" + str(len(dr25FP)) + \" FPs in \" + str(len(dr25CleanStellarIso)) + \" observed targets\")\n",
    "\n",
    "# remove those with corrected_prad = NAN\n",
    "dr25PC = dr25PC[~np.isnan(dr25PC.corrected_prad)]\n",
    "dr25FP = dr25FP[~np.isnan(dr25FP.corrected_prad)]\n",
    "mergedDr25Koi = mergedDr25Koi[~np.isnan(mergedDr25Koi.corrected_prad)]\n",
    "\n",
    "print(\"after removing NaNs\")\n",
    "print(\"There are \" + str(len(dr25PC)) + \" PCs in \" + str(len(dr25CleanStellarIso)) + \" observed targets\")\n",
    "print(\"There are \" + str(len(dr25FP)) + \" FPs in \" + str(len(dr25CleanStellarIso)) + \" observed targets\")\n"
   ]
  },
  {
   "cell_type": "code",
   "execution_count": 32,
   "metadata": {},
   "outputs": [
    {
     "data": {
      "image/png": "[encoded data removed]",
      "text/plain": [
       "<Figure size 1080x720 with 2 Axes>"
      ]
     },
     "metadata": {
      "needs_background": "light"
     },
     "output_type": "display_data"
    }
   ],
   "source": [
    "fig, ax = plt.subplots(figsize=(15,10));\n",
    "scf = ax.scatter(dr25PC.koi_period, dr25PC.koi_max_mult_ev, cmap=\"viridis\", \n",
    "                 c=dr25PC.reliability, edgecolors='k', s=100*dr25PC.totalReliability, alpha = 0.3);\n",
    "plt.xlabel(\"period\");\n",
    "plt.ylabel(\"MES\");\n",
    "plt.title(\"PC Reliability, size = total reliability\");\n",
    "#plt.ylim([7, 30])\n",
    "#plt.xlim([50, 400])\n",
    "\n",
    "cbh = plt.colorbar(scf);\n",
    "cbh.ax.set_ylabel(\"Reliability\");\n",
    "\n",
    "\n"
   ]
  },
  {
   "cell_type": "code",
   "execution_count": 33,
   "metadata": {},
   "outputs": [
    {
     "data": {
      "image/png": "[encoded data removed]",
      "text/plain": [
       "<Figure size 1080x720 with 2 Axes>"
      ]
     },
     "metadata": {
      "needs_background": "light"
     },
     "output_type": "display_data"
    }
   ],
   "source": [
    "fig, ax = plt.subplots(figsize=(15,10));\n",
    "scf = ax.scatter(dr25PC.koi_period, dr25PC.corrected_prad, cmap=\"viridis\", \n",
    "                 c=dr25PC.reliability, edgecolors='k', s=100*dr25PC.totalReliability, alpha = 0.3);\n",
    "scf = ax.scatter(dr25PC.koi_period, dr25PC.corrected_prad, s=100*dr25PC.totalReliability, \n",
    "                 c=dr25PC.reliability, facecolors='none', edgecolors='k', alpha = 0.3);\n",
    "plt.yscale('log', nonposy='clip')\n",
    "plt.xscale('log', nonposx='clip')\n",
    "plt.xlabel(\"period\");\n",
    "plt.ylabel(\"planet radius\");\n",
    "plt.title(\"PC Reliability, size = reliability\");\n",
    "#plt.ylim([0, 2.5])\n",
    "#plt.xlim([50, 400])\n",
    "\n",
    "cbh = plt.colorbar(scf);\n",
    "cbh.ax.set_ylabel(\"Reliability\");\n",
    "\n"
   ]
  },
  {
   "cell_type": "code",
   "execution_count": 34,
   "metadata": {},
   "outputs": [
    {
     "data": {
      "image/png": "[encoded data removed]",
      "text/plain": [
       "<Figure size 432x288 with 1 Axes>"
      ]
     },
     "metadata": {
      "needs_background": "light"
     },
     "output_type": "display_data"
    }
   ],
   "source": [
    "plt.hist(dr25PC.corrected_prad/dr25PC.koi_prad, 100);\n",
    "#plt.yscale('log', nonposy='clip')\n",
    "\n"
   ]
  },
  {
   "cell_type": "code",
   "execution_count": 35,
   "metadata": {},
   "outputs": [],
   "source": [
    "dr25PC.to_csv(\"koiCatalogs/dr25_GK_PCs_\" + htmlLabel + \".csv\", index=False)\n",
    "mergedDr25Koi.to_csv(\"koiCatalogs/dr25_GK_KOIs_\" + htmlLabel + \".csv\", index=False)\n"
   ]
  },
  {
   "cell_type": "code",
   "execution_count": 36,
   "metadata": {
    "scrolled": true
   },
   "outputs": [
    {
     "data": {
      "text/plain": [
       "Text(0.5,1,'FP score distribution')"
      ]
     },
     "execution_count": 36,
     "metadata": {},
     "output_type": "execute_result"
    },
    {
     "data": {
      "image/png": "[encoded data removed]",
      "text/plain": [
       "<Figure size 432x288 with 1 Axes>"
      ]
     },
     "metadata": {
      "needs_background": "light"
     },
     "output_type": "display_data"
    }
   ],
   "source": [
    "plt.hist(dr25PC.koi_score, 40);\n",
    "plt.yscale('log', nonposy='clip')\n",
    "plt.title(\"PC score distribution\")\n",
    "\n",
    "plt.hist(dr25FP.koi_score, 40, alpha=0.5);\n",
    "plt.yscale('log', nonposy='clip')\n",
    "plt.title(\"FP score distribution\")\n",
    "\n"
   ]
  },
  {
   "cell_type": "code",
   "execution_count": 37,
   "metadata": {},
   "outputs": [
    {
     "data": {
      "application/javascript": [
       "IPython.notebook.save_notebook()"
      ],
      "text/plain": [
       "<IPython.core.display.Javascript object>"
      ]
     },
     "metadata": {},
     "output_type": "display_data"
    }
   ],
   "source": [
    "%%javascript\n",
    "IPython.notebook.save_notebook()"
   ]
  },
  {
   "cell_type": "code",
   "execution_count": 38,
   "metadata": {},
   "outputs": [
    {
     "name": "stderr",
     "output_type": "stream",
     "text": [
      "[NbConvertApp] Converting notebook makePlanetInput.ipynb to html\n",
      "[NbConvertApp] Writing 527837 bytes to makePlanetInput.html\n"
     ]
    }
   ],
   "source": [
    "%%bash -s \"$htmlLabel\"\n",
    "jupyter nbconvert --to html makePlanetInput.ipynb\n",
    "mv makePlanetInput.html htmlArchive/makePlanetInput_$1.html"
   ]
  },
  {
   "cell_type": "code",
   "execution_count": 39,
   "metadata": {},
   "outputs": [
    {
     "data": {
      "text/html": [
       "<div>\n",
       "<style scoped>\n",
       "    .dataframe tbody tr th:only-of-type {\n",
       "        vertical-align: middle;\n",
       "    }\n",
       "\n",
       "    .dataframe tbody tr th {\n",
       "        vertical-align: top;\n",
       "    }\n",
       "\n",
       "    .dataframe thead th {\n",
       "        text-align: right;\n",
       "    }\n",
       "</style>\n",
       "<table border=\"1\" class=\"dataframe\">\n",
       "  <thead>\n",
       "    <tr style=\"text-align: right;\">\n",
       "      <th></th>\n",
       "      <th>kepid_x</th>\n",
       "      <th>kepoi_name</th>\n",
       "      <th>koi_tce_plnt_num</th>\n",
       "      <th>koi_pdisposition</th>\n",
       "      <th>koi_score</th>\n",
       "      <th>koi_period</th>\n",
       "      <th>koi_max_mult_ev</th>\n",
       "      <th>koi_prad</th>\n",
       "      <th>koi_prad_err1</th>\n",
       "      <th>koi_prad_err2</th>\n",
       "      <th>...</th>\n",
       "      <th>corrected_prad_err1</th>\n",
       "      <th>corrected_prad_err2</th>\n",
       "      <th>rowid</th>\n",
       "      <th>kepid_y</th>\n",
       "      <th>fpp_koi_period</th>\n",
       "      <th>fpp_prob</th>\n",
       "      <th>reliability</th>\n",
       "      <th>fpp_prob_use</th>\n",
       "      <th>totalReliability</th>\n",
       "      <th>Disp</th>\n",
       "    </tr>\n",
       "  </thead>\n",
       "  <tbody>\n",
       "    <tr>\n",
       "      <th>1</th>\n",
       "      <td>8561063</td>\n",
       "      <td>K00961.03</td>\n",
       "      <td>2</td>\n",
       "      <td>CANDIDATE</td>\n",
       "      <td>1.000</td>\n",
       "      <td>1.865114</td>\n",
       "      <td>33.096786</td>\n",
       "      <td>0.66</td>\n",
       "      <td>0.17</td>\n",
       "      <td>-0.08</td>\n",
       "      <td>...</td>\n",
       "      <td>0.022670</td>\n",
       "      <td>-0.089316</td>\n",
       "      <td>1738</td>\n",
       "      <td>8561063</td>\n",
       "      <td>1.865</td>\n",
       "      <td>0.024000</td>\n",
       "      <td>1</td>\n",
       "      <td>0.024000</td>\n",
       "      <td>0.976000</td>\n",
       "      <td>PC</td>\n",
       "    </tr>\n",
       "    <tr>\n",
       "      <th>2</th>\n",
       "      <td>8561063</td>\n",
       "      <td>K00961.01</td>\n",
       "      <td>1</td>\n",
       "      <td>CANDIDATE</td>\n",
       "      <td>1.000</td>\n",
       "      <td>1.213770</td>\n",
       "      <td>70.819550</td>\n",
       "      <td>0.78</td>\n",
       "      <td>0.20</td>\n",
       "      <td>-0.09</td>\n",
       "      <td>...</td>\n",
       "      <td>0.027342</td>\n",
       "      <td>-0.122816</td>\n",
       "      <td>1736</td>\n",
       "      <td>8561063</td>\n",
       "      <td>1.214</td>\n",
       "      <td>0.000060</td>\n",
       "      <td>1</td>\n",
       "      <td>0.000060</td>\n",
       "      <td>0.999940</td>\n",
       "      <td>PC</td>\n",
       "    </tr>\n",
       "    <tr>\n",
       "      <th>3</th>\n",
       "      <td>7304449</td>\n",
       "      <td>K01702.01</td>\n",
       "      <td>1</td>\n",
       "      <td>CANDIDATE</td>\n",
       "      <td>0.999</td>\n",
       "      <td>1.538181</td>\n",
       "      <td>28.219137</td>\n",
       "      <td>1.00</td>\n",
       "      <td>0.23</td>\n",
       "      <td>-0.18</td>\n",
       "      <td>...</td>\n",
       "      <td>0.082524</td>\n",
       "      <td>-0.263465</td>\n",
       "      <td>2585</td>\n",
       "      <td>7304449</td>\n",
       "      <td>1.538</td>\n",
       "      <td>0.000870</td>\n",
       "      <td>1</td>\n",
       "      <td>0.000870</td>\n",
       "      <td>0.999130</td>\n",
       "      <td>PC</td>\n",
       "    </tr>\n",
       "    <tr>\n",
       "      <th>4</th>\n",
       "      <td>8733898</td>\n",
       "      <td>K02842.01</td>\n",
       "      <td>1</td>\n",
       "      <td>CANDIDATE</td>\n",
       "      <td>1.000</td>\n",
       "      <td>1.565413</td>\n",
       "      <td>33.523926</td>\n",
       "      <td>1.73</td>\n",
       "      <td>0.22</td>\n",
       "      <td>-0.19</td>\n",
       "      <td>...</td>\n",
       "      <td>0.060015</td>\n",
       "      <td>-0.033992</td>\n",
       "      <td>3977</td>\n",
       "      <td>8733898</td>\n",
       "      <td>1.565</td>\n",
       "      <td>0.001000</td>\n",
       "      <td>1</td>\n",
       "      <td>0.001000</td>\n",
       "      <td>0.999000</td>\n",
       "      <td>PC</td>\n",
       "    </tr>\n",
       "    <tr>\n",
       "      <th>5</th>\n",
       "      <td>8733898</td>\n",
       "      <td>K02842.02</td>\n",
       "      <td>3</td>\n",
       "      <td>CANDIDATE</td>\n",
       "      <td>0.992</td>\n",
       "      <td>5.148923</td>\n",
       "      <td>17.186102</td>\n",
       "      <td>1.72</td>\n",
       "      <td>0.21</td>\n",
       "      <td>-0.18</td>\n",
       "      <td>...</td>\n",
       "      <td>0.228572</td>\n",
       "      <td>-0.088887</td>\n",
       "      <td>3978</td>\n",
       "      <td>8733898</td>\n",
       "      <td>5.149</td>\n",
       "      <td>0.020000</td>\n",
       "      <td>1</td>\n",
       "      <td>0.020000</td>\n",
       "      <td>0.980000</td>\n",
       "      <td>PC</td>\n",
       "    </tr>\n",
       "    <tr>\n",
       "      <th>6</th>\n",
       "      <td>8733898</td>\n",
       "      <td>K02842.03</td>\n",
       "      <td>2</td>\n",
       "      <td>CANDIDATE</td>\n",
       "      <td>0.947</td>\n",
       "      <td>3.036209</td>\n",
       "      <td>18.237106</td>\n",
       "      <td>1.40</td>\n",
       "      <td>0.17</td>\n",
       "      <td>-0.15</td>\n",
       "      <td>...</td>\n",
       "      <td>0.047261</td>\n",
       "      <td>-0.037074</td>\n",
       "      <td>3979</td>\n",
       "      <td>8733898</td>\n",
       "      <td>3.036</td>\n",
       "      <td>0.006500</td>\n",
       "      <td>1</td>\n",
       "      <td>0.006500</td>\n",
       "      <td>0.993500</td>\n",
       "      <td>PC</td>\n",
       "    </tr>\n",
       "    <tr>\n",
       "      <th>8</th>\n",
       "      <td>6444896</td>\n",
       "      <td>K03138.01</td>\n",
       "      <td>1</td>\n",
       "      <td>CANDIDATE</td>\n",
       "      <td>1.000</td>\n",
       "      <td>8.689108</td>\n",
       "      <td>11.992775</td>\n",
       "      <td>0.49</td>\n",
       "      <td>0.00</td>\n",
       "      <td>0.00</td>\n",
       "      <td>...</td>\n",
       "      <td>0.067505</td>\n",
       "      <td>-0.043770</td>\n",
       "      <td>3907</td>\n",
       "      <td>6444896</td>\n",
       "      <td>8.689</td>\n",
       "      <td>0.360000</td>\n",
       "      <td>1</td>\n",
       "      <td>0.360000</td>\n",
       "      <td>0.640000</td>\n",
       "      <td>PC</td>\n",
       "    </tr>\n",
       "    <tr>\n",
       "      <th>10</th>\n",
       "      <td>9730163</td>\n",
       "      <td>K02704.01</td>\n",
       "      <td>1</td>\n",
       "      <td>CANDIDATE</td>\n",
       "      <td>1.000</td>\n",
       "      <td>4.871224</td>\n",
       "      <td>41.956470</td>\n",
       "      <td>1.56</td>\n",
       "      <td>0.70</td>\n",
       "      <td>-0.23</td>\n",
       "      <td>...</td>\n",
       "      <td>0.300339</td>\n",
       "      <td>-0.252082</td>\n",
       "      <td>4015</td>\n",
       "      <td>9730163</td>\n",
       "      <td>4.871</td>\n",
       "      <td>0.000022</td>\n",
       "      <td>1</td>\n",
       "      <td>0.000022</td>\n",
       "      <td>0.999978</td>\n",
       "      <td>PC</td>\n",
       "    </tr>\n",
       "    <tr>\n",
       "      <th>11</th>\n",
       "      <td>9730163</td>\n",
       "      <td>K02704.02</td>\n",
       "      <td>2</td>\n",
       "      <td>CANDIDATE</td>\n",
       "      <td>0.939</td>\n",
       "      <td>2.984158</td>\n",
       "      <td>19.508406</td>\n",
       "      <td>0.92</td>\n",
       "      <td>0.42</td>\n",
       "      <td>-0.14</td>\n",
       "      <td>...</td>\n",
       "      <td>0.059215</td>\n",
       "      <td>-0.111645</td>\n",
       "      <td>4016</td>\n",
       "      <td>9730163</td>\n",
       "      <td>2.984</td>\n",
       "      <td>0.004400</td>\n",
       "      <td>1</td>\n",
       "      <td>0.004400</td>\n",
       "      <td>0.995600</td>\n",
       "      <td>PC</td>\n",
       "    </tr>\n",
       "    <tr>\n",
       "      <th>13</th>\n",
       "      <td>6776555</td>\n",
       "      <td>K05327.01</td>\n",
       "      <td>1</td>\n",
       "      <td>CANDIDATE</td>\n",
       "      <td>1.000</td>\n",
       "      <td>5.433613</td>\n",
       "      <td>12.448482</td>\n",
       "      <td>2.09</td>\n",
       "      <td>0.12</td>\n",
       "      <td>-0.28</td>\n",
       "      <td>...</td>\n",
       "      <td>0.074053</td>\n",
       "      <td>-0.064203</td>\n",
       "      <td>5628</td>\n",
       "      <td>6776555</td>\n",
       "      <td>5.434</td>\n",
       "      <td>0.010000</td>\n",
       "      <td>1</td>\n",
       "      <td>0.010000</td>\n",
       "      <td>0.990000</td>\n",
       "      <td>PC</td>\n",
       "    </tr>\n",
       "    <tr>\n",
       "      <th>14</th>\n",
       "      <td>5868793</td>\n",
       "      <td>K04290.01</td>\n",
       "      <td>1</td>\n",
       "      <td>CANDIDATE</td>\n",
       "      <td>0.914</td>\n",
       "      <td>4.838095</td>\n",
       "      <td>10.980496</td>\n",
       "      <td>0.79</td>\n",
       "      <td>0.12</td>\n",
       "      <td>-0.12</td>\n",
       "      <td>...</td>\n",
       "      <td>0.067777</td>\n",
       "      <td>-0.054183</td>\n",
       "      <td>4972</td>\n",
       "      <td>5868793</td>\n",
       "      <td>4.838</td>\n",
       "      <td>0.007300</td>\n",
       "      <td>1</td>\n",
       "      <td>0.007300</td>\n",
       "      <td>0.992700</td>\n",
       "      <td>PC</td>\n",
       "    </tr>\n",
       "    <tr>\n",
       "      <th>16</th>\n",
       "      <td>7350067</td>\n",
       "      <td>K06863.01</td>\n",
       "      <td>1</td>\n",
       "      <td>CANDIDATE</td>\n",
       "      <td>1.000</td>\n",
       "      <td>4.485592</td>\n",
       "      <td>22.398544</td>\n",
       "      <td>0.95</td>\n",
       "      <td>0.16</td>\n",
       "      <td>-0.12</td>\n",
       "      <td>...</td>\n",
       "      <td>0.092619</td>\n",
       "      <td>-0.145861</td>\n",
       "      <td>6696</td>\n",
       "      <td>7350067</td>\n",
       "      <td>4.486</td>\n",
       "      <td>0.110000</td>\n",
       "      <td>1</td>\n",
       "      <td>0.110000</td>\n",
       "      <td>0.890000</td>\n",
       "      <td>PC</td>\n",
       "    </tr>\n",
       "    <tr>\n",
       "      <th>17</th>\n",
       "      <td>10452252</td>\n",
       "      <td>K08012.01</td>\n",
       "      <td>7</td>\n",
       "      <td>CANDIDATE</td>\n",
       "      <td>0.989</td>\n",
       "      <td>34.573719</td>\n",
       "      <td>7.660442</td>\n",
       "      <td>0.42</td>\n",
       "      <td>0.17</td>\n",
       "      <td>-0.12</td>\n",
       "      <td>...</td>\n",
       "      <td>0.024982</td>\n",
       "      <td>-0.024982</td>\n",
       "      <td>7767</td>\n",
       "      <td>10452252</td>\n",
       "      <td>34.574</td>\n",
       "      <td>0.550000</td>\n",
       "      <td>1</td>\n",
       "      <td>0.550000</td>\n",
       "      <td>0.450000</td>\n",
       "      <td>PC</td>\n",
       "    </tr>\n",
       "    <tr>\n",
       "      <th>19</th>\n",
       "      <td>6423922</td>\n",
       "      <td>K06705.01</td>\n",
       "      <td>1</td>\n",
       "      <td>CANDIDATE</td>\n",
       "      <td>0.413</td>\n",
       "      <td>0.995141</td>\n",
       "      <td>12.779973</td>\n",
       "      <td>0.22</td>\n",
       "      <td>0.14</td>\n",
       "      <td>-0.01</td>\n",
       "      <td>...</td>\n",
       "      <td>12.781702</td>\n",
       "      <td>-0.246530</td>\n",
       "      <td>6861</td>\n",
       "      <td>6423922</td>\n",
       "      <td>0.995</td>\n",
       "      <td>1.000000</td>\n",
       "      <td>1</td>\n",
       "      <td>1.000000</td>\n",
       "      <td>0.000000</td>\n",
       "      <td>PC</td>\n",
       "    </tr>\n",
       "  </tbody>\n",
       "</table>\n",
       "<p>14 rows × 29 columns</p>\n",
       "</div>"
      ],
      "text/plain": [
       "     kepid_x kepoi_name  koi_tce_plnt_num koi_pdisposition  koi_score  \\\n",
       "1    8561063  K00961.03                 2        CANDIDATE      1.000   \n",
       "2    8561063  K00961.01                 1        CANDIDATE      1.000   \n",
       "3    7304449  K01702.01                 1        CANDIDATE      0.999   \n",
       "4    8733898  K02842.01                 1        CANDIDATE      1.000   \n",
       "5    8733898  K02842.02                 3        CANDIDATE      0.992   \n",
       "6    8733898  K02842.03                 2        CANDIDATE      0.947   \n",
       "8    6444896  K03138.01                 1        CANDIDATE      1.000   \n",
       "10   9730163  K02704.01                 1        CANDIDATE      1.000   \n",
       "11   9730163  K02704.02                 2        CANDIDATE      0.939   \n",
       "13   6776555  K05327.01                 1        CANDIDATE      1.000   \n",
       "14   5868793  K04290.01                 1        CANDIDATE      0.914   \n",
       "16   7350067  K06863.01                 1        CANDIDATE      1.000   \n",
       "17  10452252  K08012.01                 7        CANDIDATE      0.989   \n",
       "19   6423922  K06705.01                 1        CANDIDATE      0.413   \n",
       "\n",
       "    koi_period  koi_max_mult_ev  koi_prad  koi_prad_err1  koi_prad_err2  ...   \\\n",
       "1     1.865114        33.096786      0.66           0.17          -0.08  ...    \n",
       "2     1.213770        70.819550      0.78           0.20          -0.09  ...    \n",
       "3     1.538181        28.219137      1.00           0.23          -0.18  ...    \n",
       "4     1.565413        33.523926      1.73           0.22          -0.19  ...    \n",
       "5     5.148923        17.186102      1.72           0.21          -0.18  ...    \n",
       "6     3.036209        18.237106      1.40           0.17          -0.15  ...    \n",
       "8     8.689108        11.992775      0.49           0.00           0.00  ...    \n",
       "10    4.871224        41.956470      1.56           0.70          -0.23  ...    \n",
       "11    2.984158        19.508406      0.92           0.42          -0.14  ...    \n",
       "13    5.433613        12.448482      2.09           0.12          -0.28  ...    \n",
       "14    4.838095        10.980496      0.79           0.12          -0.12  ...    \n",
       "16    4.485592        22.398544      0.95           0.16          -0.12  ...    \n",
       "17   34.573719         7.660442      0.42           0.17          -0.12  ...    \n",
       "19    0.995141        12.779973      0.22           0.14          -0.01  ...    \n",
       "\n",
       "    corrected_prad_err1  corrected_prad_err2  rowid   kepid_y  fpp_koi_period  \\\n",
       "1              0.022670            -0.089316   1738   8561063           1.865   \n",
       "2              0.027342            -0.122816   1736   8561063           1.214   \n",
       "3              0.082524            -0.263465   2585   7304449           1.538   \n",
       "4              0.060015            -0.033992   3977   8733898           1.565   \n",
       "5              0.228572            -0.088887   3978   8733898           5.149   \n",
       "6              0.047261            -0.037074   3979   8733898           3.036   \n",
       "8              0.067505            -0.043770   3907   6444896           8.689   \n",
       "10             0.300339            -0.252082   4015   9730163           4.871   \n",
       "11             0.059215            -0.111645   4016   9730163           2.984   \n",
       "13             0.074053            -0.064203   5628   6776555           5.434   \n",
       "14             0.067777            -0.054183   4972   5868793           4.838   \n",
       "16             0.092619            -0.145861   6696   7350067           4.486   \n",
       "17             0.024982            -0.024982   7767  10452252          34.574   \n",
       "19            12.781702            -0.246530   6861   6423922           0.995   \n",
       "\n",
       "    fpp_prob  reliability  fpp_prob_use  totalReliability  Disp  \n",
       "1   0.024000            1      0.024000          0.976000    PC  \n",
       "2   0.000060            1      0.000060          0.999940    PC  \n",
       "3   0.000870            1      0.000870          0.999130    PC  \n",
       "4   0.001000            1      0.001000          0.999000    PC  \n",
       "5   0.020000            1      0.020000          0.980000    PC  \n",
       "6   0.006500            1      0.006500          0.993500    PC  \n",
       "8   0.360000            1      0.360000          0.640000    PC  \n",
       "10  0.000022            1      0.000022          0.999978    PC  \n",
       "11  0.004400            1      0.004400          0.995600    PC  \n",
       "13  0.010000            1      0.010000          0.990000    PC  \n",
       "14  0.007300            1      0.007300          0.992700    PC  \n",
       "16  0.110000            1      0.110000          0.890000    PC  \n",
       "17  0.550000            1      0.550000          0.450000    PC  \n",
       "19  1.000000            1      1.000000          0.000000    PC  \n",
       "\n",
       "[14 rows x 29 columns]"
      ]
     },
     "execution_count": 39,
     "metadata": {},
     "output_type": "execute_result"
    }
   ],
   "source": [
    "dr25PC"
   ]
  },
  {
   "cell_type": "code",
   "execution_count": null,
   "metadata": {},
   "outputs": [],
   "source": []
  }
 ],
 "metadata": {
  "kernelspec": {
   "display_name": "Python 2",
   "language": "python",
   "name": "python2"
  },
  "language_info": {
   "codemirror_mode": {
    "name": "ipython",
    "version": 2
   },
   "file_extension": ".py",
   "mimetype": "text/x-python",
   "name": "python",
   "nbconvert_exporter": "python",
   "pygments_lexer": "ipython2",
   "version": "2.7.15"
  }
 },
 "nbformat": 4,
 "nbformat_minor": 2
}
