{
 "cells": [
  {
   "cell_type": "code",
   "execution_count": 1,
   "metadata": {},
   "outputs": [],
   "source": [
    "import numpy as np\n",
    "import requests\n",
    "import pandas as pd\n",
    "import matplotlib.pyplot as plt\n",
    "from scipy.interpolate import griddata\n",
    "import matplotlib.patches as patches"
   ]
  },
  {
   "cell_type": "code",
   "execution_count": null,
   "metadata": {},
   "outputs": [],
   "source": [
    "stellarCatalog = \n",
    "stellarCatalog = \n",
    "pcCatalog = \"koiCatalogs/dr25_GK_PCs.csv\"\n",
    "\n",
    "period_rng = (50, 400)\n",
    "rp_rng = (0.75, 2.5)\n",
    "\n",
    "bergerGK = pd.read_csv(\"../stellarCatalogs/dr25_stellar_supp_gaia_clean_GaiaRadCut_GK.txt\")\n",
    "dr25GK = pd.read_csv(\"../stellarCatalogs/dr25_stellar_supp_gaia_clean_DR25RadCut_GK.txt\")\n",
    "base_kois = pd.read_csv(pcCatalog)\n",
    "m = (period_rng[0] <= base_kois.koi_period) & (base_kois.koi_period <= period_rng[1])\n",
    "thisRadii = getRadii(base_kois)\n",
    "m &= np.isfinite(thisRadii) & (rp_rng[0] <= thisRadii) & (thisRadii <= rp_rng[1])\n"
   ]
  }
 ],
 "metadata": {
  "kernelspec": {
   "display_name": "Python 2",
   "language": "python",
   "name": "python2"
  },
  "language_info": {
   "codemirror_mode": {
    "name": "ipython",
    "version": 2
   },
   "file_extension": ".py",
   "mimetype": "text/x-python",
   "name": "python",
   "nbconvert_exporter": "python",
   "pygments_lexer": "ipython2",
   "version": "2.7.15"
  }
 },
 "nbformat": 4,
 "nbformat_minor": 2
}
