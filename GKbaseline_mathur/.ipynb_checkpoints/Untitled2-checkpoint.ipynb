{
 "cells": [
  {
   "cell_type": "code",
   "execution_count": 1,
   "metadata": {},
   "outputs": [],
   "source": [
    "import numpy as np\n",
    "import requests\n",
    "import pandas as pd\n",
    "from cStringIO import StringIO\n",
    "import matplotlib.pyplot as plt\n"
   ]
  },
  {
   "cell_type": "code",
   "execution_count": 18,
   "metadata": {},
   "outputs": [
    {
     "name": "stdout",
     "output_type": "stream",
     "text": [
      "the dr25StellarSup catalog has 200038 entries = \n",
      "the berger2018Stellar catalog has 177911 entries = 0.889386016657\n",
      "the berger2019Stellar catalog has 154911 entries = 0.774407862506\n"
     ]
    }
   ],
   "source": [
    "# load the full catalogs\n",
    "dr25StellarSup = pd.read_csv(\"../stellarCatalogs/dr25_stellar_updated_feh_all.txt\", dtype={\"st_quarters\":str})\n",
    "berger2018Stellar = pd.read_csv(\"../stellarCatalogs/dr25_stellar_supp_gaia.txt\", dtype={\"st_quarters\":str})\n",
    "berger2019Stellar = pd.read_csv(\"../stellarCatalogs/dr25_stellar_supp_gaia_logg.txt\", dtype={\"st_quarters\":str})\n",
    "\n",
    "print(\"the dr25StellarSup catalog has \" + str(len(dr25StellarSup)))\n",
    "print(\"the berger2018Stellar catalog has \" + str(len(berger2018Stellar)) + \" entries = \"\n",
    "     + str(float(len(berger2018Stellar))/len(dr25StellarSup)))\n",
    "print(\"the berger2019Stellar catalog has \" + str(len(berger2019Stellar)) + \" entries = \"\n",
    "     + str(float(len(berger2019Stellar))/len(dr25StellarSup)))\n",
    "\n",
    "\n"
   ]
  },
  {
   "cell_type": "code",
   "execution_count": 6,
   "metadata": {},
   "outputs": [
    {
     "name": "stdout",
     "output_type": "stream",
     "text": [
      "There are 4034 PCs\n"
     ]
    }
   ],
   "source": [
    "# load the archive kois\n",
    "\n",
    "dr25Koi = pd.read_csv(\"koiCatalogs/dr25_kois_archive.txt\", dtype={\"kepoi_name\":str})\n",
    "dr25PC = dr25Koi[dr25Koi.koi_pdisposition == \"CANDIDATE\"]\n",
    "print(\"There are \" + str(len(dr25PC)) + \" PCs\")\n"
   ]
  },
  {
   "cell_type": "code",
   "execution_count": 16,
   "metadata": {},
   "outputs": [
    {
     "name": "stdout",
     "output_type": "stream",
     "text": [
      "There are 4034 PCs 1.0 of all PCs in dr25StellarSup = 0.020166168428of targets\n"
     ]
    }
   ],
   "source": [
    "dr25PCInDr25StellarSup = dr25PC[dr25PC.kepid.isin(dr25StellarSup.kepid)]\n",
    "print(\"There are \" + str(len(dr25PCInDr25StellarSup)) + \" PCs \" \n",
    "     + str(float(len(dr25PCInDr25StellarSup))/len(dr25PC)) + \" of all PCs in dr25StellarSup = \"\n",
    "     + str(float(len(dr25PCInDr25StellarSup))/len(dr25StellarSup)) + \" of targets\")\n"
   ]
  },
  {
   "cell_type": "code",
   "execution_count": 17,
   "metadata": {},
   "outputs": [
    {
     "name": "stdout",
     "output_type": "stream",
     "text": [
      "There are 3642 PCs 0.902825979177 of all PCs in berger2018Stellar = 0.0204709096121 of targets\n"
     ]
    }
   ],
   "source": [
    "dr25PCInBerger2018Stellar = dr25PC[dr25PC.kepid.isin(berger2018Stellar.kepid)]\n",
    "print(\"There are \" + str(len(dr25PCInBerger2018Stellar)) + \" PCs \" \n",
    "     + str(float(len(dr25PCInBerger2018Stellar))/len(dr25PC)) + \" of all PCs in berger2018Stellar = \"\n",
    "     + str(float(len(dr25PCInBerger2018Stellar))/len(berger2018Stellar)) + \" of targets\")\n"
   ]
  },
  {
   "cell_type": "code",
   "execution_count": 19,
   "metadata": {},
   "outputs": [
    {
     "name": "stdout",
     "output_type": "stream",
     "text": [
      "There are 3188 PCs 0.790282597918 of all PCs in berger2019Stellar = 0.0205795585853 of targets\n"
     ]
    }
   ],
   "source": [
    "dr25PCInBerger2019Stellar = dr25PC[dr25PC.kepid.isin(berger2019Stellar.kepid)]\n",
    "print(\"There are \" + str(len(dr25PCInBerger2019Stellar)) + \" PCs \" \n",
    "     + str(float(len(dr25PCInBerger2019Stellar))/len(dr25PC)) + \" of all PCs in berger2019Stellar = \"\n",
    "     + str(float(len(dr25PCInBerger2019Stellar))/len(berger2019Stellar)) + \" of targets\")\n"
   ]
  },
  {
   "cell_type": "code",
   "execution_count": 22,
   "metadata": {},
   "outputs": [
    {
     "name": "stdout",
     "output_type": "stream",
     "text": [
      "There are 89 PCs in 200038 observed targets\n"
     ]
    }
   ],
   "source": [
    "period_rng = (50, 200)\n",
    "rp_rng = (1., 2.)\n",
    "\n",
    "occPcs = dr25PC[(dr25PC.koi_period>=period_rng[0])&(dr25PC.koi_period<=period_rng[1])&(dr25PC.koi_prad>=rp_rng[0])&(dr25PC.koi_prad<=rp_rng[1])]\n",
    "print(\"There are \" + str(len(occPcs)) + \" PCs in \" + str(len(dr25StellarSup)) + \" observed targets\")\n",
    "\n"
   ]
  },
  {
   "cell_type": "code",
   "execution_count": 34,
   "metadata": {},
   "outputs": [
    {
     "name": "stdout",
     "output_type": "stream",
     "text": [
      "There are 89 in-box PCs 1.0 of all PCs in dr25StellarSup = 0.000444915466061 of targets\n"
     ]
    }
   ],
   "source": [
    "occPcsInDr25StellarSup = occPcs[occPcs.kepid.isin(dr25StellarSup.kepid)]\n",
    "print(\"There are \" + str(len(occPcsInDr25StellarSup)) + \" in-box PCs \" \n",
    "     + str(float(len(occPcsInDr25StellarSup))/len(occPcs)) + \" of all PCs in dr25StellarSup = \"\n",
    "     + str(float(len(occPcsInDr25StellarSup))/len(dr25StellarSup)) + \" of targets\")\n"
   ]
  },
  {
   "cell_type": "code",
   "execution_count": 28,
   "metadata": {},
   "outputs": [
    {
     "name": "stdout",
     "output_type": "stream",
     "text": [
      "There are 75 in-box PCs 0.842696629213 of all PCs in berger2018Stellar = 0.000421559094154 of targets\n"
     ]
    }
   ],
   "source": [
    "occPcsInBerger2018Stellar = occPcs[occPcs.kepid.isin(berger2018Stellar.kepid)]\n",
    "print(\"There are \" + str(len(occPcsInBerger2018Stellar)) + \" in-box PCs \" \n",
    "     + str(float(len(occPcsInBerger2018Stellar))/len(occPcs)) + \" of all PCs in berger2018Stellar = \"\n",
    "     + str(float(len(occPcsInBerger2018Stellar))/len(berger2018Stellar)) + \" of targets\")\n"
   ]
  },
  {
   "cell_type": "code",
   "execution_count": 29,
   "metadata": {},
   "outputs": [
    {
     "name": "stdout",
     "output_type": "stream",
     "text": [
      "There are 65 in-box PCs 0.730337078652 of all PCs in berger2019Stellar = 0.000419595767893 of targets\n"
     ]
    }
   ],
   "source": [
    "occPcsInBerger2019Stellar = occPcs[occPcs.kepid.isin(berger2019Stellar.kepid)]\n",
    "print(\"There are \" + str(len(occPcsInBerger2019Stellar)) + \" in-box PCs \" \n",
    "     + str(float(len(occPcsInBerger2019Stellar))/len(occPcs)) + \" of all PCs in berger2019Stellar = \"\n",
    "     + str(float(len(occPcsInBerger2019Stellar))/len(berger2019Stellar)) + \" of targets\")\n"
   ]
  },
  {
   "cell_type": "code",
   "execution_count": null,
   "metadata": {},
   "outputs": [],
   "source": []
  },
  {
   "cell_type": "code",
   "execution_count": null,
   "metadata": {},
   "outputs": [],
   "source": []
  },
  {
   "cell_type": "code",
   "execution_count": 38,
   "metadata": {},
   "outputs": [
    {
     "name": "stdout",
     "output_type": "stream",
     "text": [
      "the dr25StellarSupGK catalog has 92568\n",
      "the berger2018StellarGK catalog has 61217 entries = 0.661319246392\n",
      "the berger2019StellarGK catalog has 67054 entries = 0.724375594158\n",
      "the berger2019StellarGKflags catalog has 71412 entries = 0.771454498315\n"
     ]
    }
   ],
   "source": [
    "# restrict to GK dwarfs\n",
    "dr25StellarSupGK = dr25StellarSup[(dr25StellarSup.radius < 1.3)&(dr25StellarSup.teff >= 3900)&(dr25StellarSup.teff < 6000)]\n",
    "berger2018StellarGK = berger2018Stellar[(berger2018Stellar.radius < 1.3)&(berger2018Stellar.teff >= 3900)&(berger2018Stellar.teff < 6000)]\n",
    "berger2019StellarGK = berger2019Stellar[(berger2019Stellar.radius < 1.3)&(berger2019Stellar.teff >= 3900)&(berger2019Stellar.teff < 6000)]\n",
    "\n",
    "berger2018StellarGKflags = berger2018Stellar[(berger2018Stellar.Evol == 0)&((berger2018Stellar.Bin == 0)|(berger2018Stellar.Bin == 2))&(berger2018Stellar.teff >= 3900)&(berger2018Stellar.teff < 6000)]\n",
    "berger2019StellarGKflags = berger2019Stellar[(berger2019Stellar.Evol == 0)&((berger2019Stellar.Bin == 0)|(berger2019Stellar.Bin == 2))&(berger2019Stellar.teff >= 3900)&(berger2019Stellar.teff < 6000)]\n",
    "\n",
    "print(\"the dr25StellarSupGK catalog has \" + str(len(dr25StellarSupGK)))\n",
    "print(\"the berger2018StellarGK catalog has \" + str(len(berger2018StellarGK)) + \" entries = \"\n",
    "     + str(float(len(berger2018StellarGK))/len(dr25StellarSupGK)))\n",
    "print(\"the berger2019StellarGK catalog has \" + str(len(berger2019StellarGK)) + \" entries = \"\n",
    "     + str(float(len(berger2019StellarGK))/len(dr25StellarSupGK)))\n",
    "print(\"the berger2019StellarGKflags catalog has \" + str(len(berger2019StellarGKflags)) + \" entries = \"\n",
    "     + str(float(len(berger2019StellarGKflags))/len(dr25StellarSupGK)))\n",
    "print(\"the berger2019StellarGKflags catalog has \" + str(len(berger2019StellarGKflags)) + \" entries = \"\n",
    "     + str(float(len(berger2019StellarGKflags))/len(dr25StellarSupGK)))\n",
    "\n"
   ]
  },
  {
   "cell_type": "code",
   "execution_count": 35,
   "metadata": {},
   "outputs": [
    {
     "name": "stdout",
     "output_type": "stream",
     "text": [
      "There are 58 in-box PCs 0.651685393258 of all PCs in dr25StellarSup = 0.00062656641604 of targets\n"
     ]
    }
   ],
   "source": [
    "occPcsInDr25StellarSupGK = occPcs[occPcs.kepid.isin(dr25StellarSupGK.kepid)]\n",
    "print(\"There are \" + str(len(occPcsInDr25StellarSupGK)) + \" in-box PCs \" \n",
    "     + str(float(len(occPcsInDr25StellarSupGK))/len(occPcs)) + \" of all PCs in dr25StellarSup = \"\n",
    "     + str(float(len(occPcsInDr25StellarSupGK))/len(dr25StellarSupGK)) + \" of targets\")\n"
   ]
  },
  {
   "cell_type": "code",
   "execution_count": 36,
   "metadata": {},
   "outputs": [
    {
     "name": "stdout",
     "output_type": "stream",
     "text": [
      "There are 39 in-box PCs 0.438202247191 of all PCs in berger2018Stellar = 0.000637077935867 of targets\n"
     ]
    }
   ],
   "source": [
    "occPcsInBerger2018StellarGK = occPcs[occPcs.kepid.isin(berger2018StellarGK.kepid)]\n",
    "print(\"There are \" + str(len(occPcsInBerger2018StellarGK)) + \" in-box PCs \" \n",
    "     + str(float(len(occPcsInBerger2018StellarGK))/len(occPcs)) + \" of all PCs in berger2018Stellar = \"\n",
    "     + str(float(len(occPcsInBerger2018StellarGK))/len(berger2018StellarGK)) + \" of targets\")\n"
   ]
  },
  {
   "cell_type": "code",
   "execution_count": 37,
   "metadata": {},
   "outputs": [
    {
     "name": "stdout",
     "output_type": "stream",
     "text": [
      "There are 34 in-box PCs 0.38202247191 of all PCs in berger2019Stellar = 0.000507054016166 of targets\n"
     ]
    }
   ],
   "source": [
    "occPcsInBerger2019StellarGK = occPcs[occPcs.kepid.isin(berger2019StellarGK.kepid)]\n",
    "print(\"There are \" + str(len(occPcsInBerger2019StellarGK)) + \" in-box PCs \" \n",
    "     + str(float(len(occPcsInBerger2019StellarGK))/len(occPcs)) + \" of all PCs in berger2019Stellar = \"\n",
    "     + str(float(len(occPcsInBerger2019StellarGK))/len(berger2019StellarGK)) + \" of targets\")\n"
   ]
  },
  {
   "cell_type": "code",
   "execution_count": null,
   "metadata": {},
   "outputs": [],
   "source": []
  }
 ],
 "metadata": {
  "kernelspec": {
   "display_name": "Python 2",
   "language": "python",
   "name": "python2"
  },
  "language_info": {
   "codemirror_mode": {
    "name": "ipython",
    "version": 2
   },
   "file_extension": ".py",
   "mimetype": "text/x-python",
   "name": "python",
   "nbconvert_exporter": "python",
   "pygments_lexer": "ipython2",
   "version": "2.7.15"
  }
 },
 "nbformat": 4,
 "nbformat_minor": 2
}
